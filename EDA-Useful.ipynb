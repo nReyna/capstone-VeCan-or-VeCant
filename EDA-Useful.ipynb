{
 "cells": [
  {
   "cell_type": "code",
   "execution_count": 1,
   "metadata": {},
   "outputs": [],
   "source": [
    "# Start off with labeled Cuisines (will have to capture unlabeled: Other)\n",
    "\n",
    "def plotCuisines(cuisines, df):\n",
    "    \n",
    "    print(df.shape)\n",
    "    \n",
    "    ht = np.zeros((1, len(cuisines)))\n",
    "\n",
    "    for i, c in enumerate(cuisines):\n",
    "        ht[0, i] = df[c].value_counts()[1] / df.shape[0]\n",
    "        print(c, df[c].value_counts()[1], ht[0, i])\n",
    "\n",
    "    if ht.sum() != 1:\n",
    "        cuisines.append(\"Other\")\n",
    "        with_other = np.append(ht, 1-ht.sum())\n",
    "\n",
    "    print(\"Did all Cuisine Categories add to 1? \", with_other.sum() == 1)\n",
    "\n",
    "    plt.figure(figsize=(16,8))\n",
    "    plt.grid(True, zorder=0)\n",
    "    plt.bar(range(len(cuisines)), height=with_other, tick_label = cuisines, zorder=2)\n",
    "    plt.ylabel(\"Proportion from Sample Set\")\n",
    "    plt.xlabel(\"Cuisines\");\n",
    "    "
   ]
  },
  {
   "cell_type": "markdown",
   "metadata": {},
   "source": [
    "#### Aug. 11, 7pm"
   ]
  },
  {
   "cell_type": "code",
   "execution_count": 2,
   "metadata": {},
   "outputs": [],
   "source": [
    "import numpy   as np\n",
    "import pandas  as pd\n",
    "import seaborn as sns\n",
    "import matplotlib.pyplot as plt\n",
    "%matplotlib inline\n",
    "\n",
    "from sklearn.feature_extraction.text import TfidfVectorizer\n",
    "\n",
    "from sklearn.model_selection import train_test_split\n",
    "from sklearn.preprocessing import scale\n",
    "from sklearn.decomposition import PCA, TruncatedSVD"
   ]
  },
  {
   "cell_type": "markdown",
   "metadata": {},
   "source": [
    "---\n",
    "\n",
    "#### Function Definitions"
   ]
  },
  {
   "cell_type": "code",
   "execution_count": 3,
   "metadata": {},
   "outputs": [],
   "source": [
    "def time_Now():\n",
    "    import datetime\n",
    "    import pytz\n",
    "    utc_now = pytz.utc.localize(datetime.datetime.utcnow())\n",
    "    pst_now = utc_now.astimezone(pytz.timezone(\"America/Los_Angeles\"))\n",
    "    return (pst_now)"
   ]
  },
  {
   "cell_type": "markdown",
   "metadata": {},
   "source": [
    "---\n",
    "### Modified: "
   ]
  },
  {
   "cell_type": "code",
   "execution_count": 4,
   "metadata": {},
   "outputs": [
    {
     "name": "stdout",
     "output_type": "stream",
     "text": [
      "Last modified on:  2018-08-12 11:05:49.628402-07:00\n"
     ]
    }
   ],
   "source": [
    "print(\"Last modified on: \", time_Now())"
   ]
  },
  {
   "cell_type": "markdown",
   "metadata": {},
   "source": [
    "---\n",
    "#### Load US data"
   ]
  },
  {
   "cell_type": "code",
   "execution_count": 5,
   "metadata": {},
   "outputs": [
    {
     "name": "stdout",
     "output_type": "stream",
     "text": [
      "CPU times: user 792 ms, sys: 504 ms, total: 1.3 s\n",
      "Wall time: 1.29 s\n"
     ]
    }
   ],
   "source": [
    "%%time\n",
    "df = pd.read_pickle(\"newRev_VegCols_US.pkl\")"
   ]
  },
  {
   "cell_type": "code",
   "execution_count": 6,
   "metadata": {},
   "outputs": [
    {
     "data": {
      "text/plain": [
       "(923002, 20)"
      ]
     },
     "execution_count": 6,
     "metadata": {},
     "output_type": "execute_result"
    }
   ],
   "source": [
    "df.shape"
   ]
  },
  {
   "cell_type": "code",
   "execution_count": 7,
   "metadata": {},
   "outputs": [
    {
     "data": {
      "text/html": [
       "<div>\n",
       "<style scoped>\n",
       "    .dataframe tbody tr th:only-of-type {\n",
       "        vertical-align: middle;\n",
       "    }\n",
       "\n",
       "    .dataframe tbody tr th {\n",
       "        vertical-align: top;\n",
       "    }\n",
       "\n",
       "    .dataframe thead th {\n",
       "        text-align: right;\n",
       "    }\n",
       "</style>\n",
       "<table border=\"1\" class=\"dataframe\">\n",
       "  <thead>\n",
       "    <tr style=\"text-align: right;\">\n",
       "      <th></th>\n",
       "      <th>business_id</th>\n",
       "      <th>name</th>\n",
       "      <th>review_id</th>\n",
       "      <th>stars</th>\n",
       "      <th>date</th>\n",
       "      <th>text</th>\n",
       "      <th>useful</th>\n",
       "      <th>funny</th>\n",
       "      <th>cool</th>\n",
       "      <th>city</th>\n",
       "      <th>state</th>\n",
       "      <th>vegFriendly</th>\n",
       "      <th>Vegan</th>\n",
       "      <th>Vegetarian</th>\n",
       "      <th>Thai</th>\n",
       "      <th>Italian</th>\n",
       "      <th>Indian</th>\n",
       "      <th>Chinese</th>\n",
       "      <th>Mexican</th>\n",
       "      <th>Text_length</th>\n",
       "    </tr>\n",
       "  </thead>\n",
       "  <tbody>\n",
       "    <tr>\n",
       "      <th>0</th>\n",
       "      <td>7eQoxWr9RzyCB9IFvqHUPA</td>\n",
       "      <td>Pizza Heaven Bistro</td>\n",
       "      <td>--4aCc43T0_g960EaIRf-w</td>\n",
       "      <td>4</td>\n",
       "      <td>2013-12-09</td>\n",
       "      <td>I was soooo happy when i open the menu and the...</td>\n",
       "      <td>4</td>\n",
       "      <td>0</td>\n",
       "      <td>4</td>\n",
       "      <td>Phoenix</td>\n",
       "      <td>AZ</td>\n",
       "      <td>0.0</td>\n",
       "      <td>0.0</td>\n",
       "      <td>0.0</td>\n",
       "      <td>0.0</td>\n",
       "      <td>1.0</td>\n",
       "      <td>0.0</td>\n",
       "      <td>0.0</td>\n",
       "      <td>0.0</td>\n",
       "      <td>186</td>\n",
       "    </tr>\n",
       "    <tr>\n",
       "      <th>1</th>\n",
       "      <td>8ro1QnWbUFZr6hJ4aOy3TA</td>\n",
       "      <td>Abuelo's</td>\n",
       "      <td>--6PFZka7og6Khaw6oyjvQ</td>\n",
       "      <td>3</td>\n",
       "      <td>2007-05-12</td>\n",
       "      <td>My fear with mexican restaurants is that at th...</td>\n",
       "      <td>0</td>\n",
       "      <td>0</td>\n",
       "      <td>0</td>\n",
       "      <td>Middleton</td>\n",
       "      <td>WI</td>\n",
       "      <td>0.0</td>\n",
       "      <td>0.0</td>\n",
       "      <td>0.0</td>\n",
       "      <td>0.0</td>\n",
       "      <td>0.0</td>\n",
       "      <td>0.0</td>\n",
       "      <td>0.0</td>\n",
       "      <td>1.0</td>\n",
       "      <td>666</td>\n",
       "    </tr>\n",
       "  </tbody>\n",
       "</table>\n",
       "</div>"
      ],
      "text/plain": [
       "              business_id                 name               review_id  stars  \\\n",
       "0  7eQoxWr9RzyCB9IFvqHUPA  Pizza Heaven Bistro  --4aCc43T0_g960EaIRf-w      4   \n",
       "1  8ro1QnWbUFZr6hJ4aOy3TA             Abuelo's  --6PFZka7og6Khaw6oyjvQ      3   \n",
       "\n",
       "        date                                               text  useful  \\\n",
       "0 2013-12-09  I was soooo happy when i open the menu and the...       4   \n",
       "1 2007-05-12  My fear with mexican restaurants is that at th...       0   \n",
       "\n",
       "   funny  cool       city state  vegFriendly  Vegan  Vegetarian  Thai  \\\n",
       "0      0     4    Phoenix    AZ          0.0    0.0         0.0   0.0   \n",
       "1      0     0  Middleton    WI          0.0    0.0         0.0   0.0   \n",
       "\n",
       "   Italian  Indian  Chinese  Mexican  Text_length  \n",
       "0      1.0     0.0      0.0      0.0          186  \n",
       "1      0.0     0.0      0.0      1.0          666  "
      ]
     },
     "execution_count": 7,
     "metadata": {},
     "output_type": "execute_result"
    }
   ],
   "source": [
    "df.head(2)"
   ]
  },
  {
   "cell_type": "code",
   "execution_count": 8,
   "metadata": {},
   "outputs": [],
   "source": [
    "yy = df[df['useful'] != 0]"
   ]
  },
  {
   "cell_type": "code",
   "execution_count": 9,
   "metadata": {},
   "outputs": [
    {
     "data": {
      "text/html": [
       "<div>\n",
       "<style scoped>\n",
       "    .dataframe tbody tr th:only-of-type {\n",
       "        vertical-align: middle;\n",
       "    }\n",
       "\n",
       "    .dataframe tbody tr th {\n",
       "        vertical-align: top;\n",
       "    }\n",
       "\n",
       "    .dataframe thead th {\n",
       "        text-align: right;\n",
       "    }\n",
       "</style>\n",
       "<table border=\"1\" class=\"dataframe\">\n",
       "  <thead>\n",
       "    <tr style=\"text-align: right;\">\n",
       "      <th></th>\n",
       "      <th>business_id</th>\n",
       "      <th>name</th>\n",
       "      <th>review_id</th>\n",
       "      <th>stars</th>\n",
       "      <th>date</th>\n",
       "      <th>text</th>\n",
       "      <th>useful</th>\n",
       "      <th>funny</th>\n",
       "      <th>cool</th>\n",
       "      <th>city</th>\n",
       "      <th>state</th>\n",
       "      <th>vegFriendly</th>\n",
       "      <th>Vegan</th>\n",
       "      <th>Vegetarian</th>\n",
       "      <th>Thai</th>\n",
       "      <th>Italian</th>\n",
       "      <th>Indian</th>\n",
       "      <th>Chinese</th>\n",
       "      <th>Mexican</th>\n",
       "      <th>Text_length</th>\n",
       "    </tr>\n",
       "  </thead>\n",
       "  <tbody>\n",
       "    <tr>\n",
       "      <th>0</th>\n",
       "      <td>7eQoxWr9RzyCB9IFvqHUPA</td>\n",
       "      <td>Pizza Heaven Bistro</td>\n",
       "      <td>--4aCc43T0_g960EaIRf-w</td>\n",
       "      <td>4</td>\n",
       "      <td>2013-12-09</td>\n",
       "      <td>I was soooo happy when i open the menu and the...</td>\n",
       "      <td>4</td>\n",
       "      <td>0</td>\n",
       "      <td>4</td>\n",
       "      <td>Phoenix</td>\n",
       "      <td>AZ</td>\n",
       "      <td>0.0</td>\n",
       "      <td>0.0</td>\n",
       "      <td>0.0</td>\n",
       "      <td>0.0</td>\n",
       "      <td>1.0</td>\n",
       "      <td>0.0</td>\n",
       "      <td>0.0</td>\n",
       "      <td>0.0</td>\n",
       "      <td>186</td>\n",
       "    </tr>\n",
       "    <tr>\n",
       "      <th>2</th>\n",
       "      <td>-8QlV3b_9H4BAh6LgMIr1g</td>\n",
       "      <td>Nandini Indian Cuisine</td>\n",
       "      <td>--c6GUtseZhMHA0rSfnN8w</td>\n",
       "      <td>5</td>\n",
       "      <td>2015-09-30</td>\n",
       "      <td>This was our second, but certainly not our las...</td>\n",
       "      <td>1</td>\n",
       "      <td>0</td>\n",
       "      <td>1</td>\n",
       "      <td>Tempe</td>\n",
       "      <td>AZ</td>\n",
       "      <td>1.0</td>\n",
       "      <td>1.0</td>\n",
       "      <td>0.0</td>\n",
       "      <td>0.0</td>\n",
       "      <td>0.0</td>\n",
       "      <td>1.0</td>\n",
       "      <td>0.0</td>\n",
       "      <td>0.0</td>\n",
       "      <td>304</td>\n",
       "    </tr>\n",
       "  </tbody>\n",
       "</table>\n",
       "</div>"
      ],
      "text/plain": [
       "              business_id                    name               review_id  \\\n",
       "0  7eQoxWr9RzyCB9IFvqHUPA     Pizza Heaven Bistro  --4aCc43T0_g960EaIRf-w   \n",
       "2  -8QlV3b_9H4BAh6LgMIr1g  Nandini Indian Cuisine  --c6GUtseZhMHA0rSfnN8w   \n",
       "\n",
       "   stars       date                                               text  \\\n",
       "0      4 2013-12-09  I was soooo happy when i open the menu and the...   \n",
       "2      5 2015-09-30  This was our second, but certainly not our las...   \n",
       "\n",
       "   useful  funny  cool     city state  vegFriendly  Vegan  Vegetarian  Thai  \\\n",
       "0       4      0     4  Phoenix    AZ          0.0    0.0         0.0   0.0   \n",
       "2       1      0     1    Tempe    AZ          1.0    1.0         0.0   0.0   \n",
       "\n",
       "   Italian  Indian  Chinese  Mexican  Text_length  \n",
       "0      1.0     0.0      0.0      0.0          186  \n",
       "2      0.0     1.0      0.0      0.0          304  "
      ]
     },
     "execution_count": 9,
     "metadata": {},
     "output_type": "execute_result"
    }
   ],
   "source": [
    "yy.head(2)"
   ]
  },
  {
   "cell_type": "code",
   "execution_count": 10,
   "metadata": {},
   "outputs": [
    {
     "data": {
      "text/plain": [
       "(408082, 20)"
      ]
     },
     "execution_count": 10,
     "metadata": {},
     "output_type": "execute_result"
    }
   ],
   "source": [
    "yy.shape"
   ]
  },
  {
   "cell_type": "markdown",
   "metadata": {},
   "source": [
    "#### Plot Cuisine Distributions"
   ]
  },
  {
   "cell_type": "code",
   "execution_count": 11,
   "metadata": {},
   "outputs": [
    {
     "name": "stdout",
     "output_type": "stream",
     "text": [
      "(923002, 20)\n",
      "Mexican 299827 0.3248389494280619\n",
      "Chinese 167649 0.18163449266632142\n",
      "Indian 50709 0.0549392092324827\n",
      "Italian 246082 0.26661047321674275\n",
      "Thai 106661 0.11555879618895734\n",
      "Did all Cuisine Categories add to 1?  True\n"
     ]
    },
    {
     "data": {
      "image/png": "[encoded data removed]",
      "text/plain": [
       "<Figure size 1152x576 with 1 Axes>"
      ]
     },
     "metadata": {},
     "output_type": "display_data"
    }
   ],
   "source": [
    "lbls = [\"Mexican\", \"Chinese\", \"Indian\", \"Italian\", \"Thai\"]\n",
    "\n",
    "plotCuisines(lbls, df)"
   ]
  },
  {
   "cell_type": "code",
   "execution_count": 12,
   "metadata": {},
   "outputs": [
    {
     "name": "stdout",
     "output_type": "stream",
     "text": [
      "Percent of Vegan/Vgtrn Friendly reviews:  20.48565441895034\n"
     ]
    }
   ],
   "source": [
    "veg_mask = df.vegFriendly == 1\n",
    "\n",
    "print(\"Percent of Vegan/Vgtrn Friendly reviews: \", (df[veg_mask].shape[0] / df.shape[0]) * 100)"
   ]
  },
  {
   "cell_type": "markdown",
   "metadata": {},
   "source": [
    "---\n",
    "## Veggie Friendly Data Metrics"
   ]
  },
  {
   "cell_type": "code",
   "execution_count": 13,
   "metadata": {},
   "outputs": [
    {
     "name": "stdout",
     "output_type": "stream",
     "text": [
      "(408082, 20)\n",
      "Mexican 126355 0.3096313976112644\n",
      "Chinese 76797 0.18819011865262375\n",
      "Indian 24848 0.060889723143877944\n",
      "Italian 111856 0.2741017736631363\n",
      "Thai 44961 0.11017638611847619\n",
      "Did all Cuisine Categories add to 1?  True\n"
     ]
    },
    {
     "data": {
      "image/png": "[encoded data removed]",
      "text/plain": [
       "<Figure size 1152x576 with 1 Axes>"
      ]
     },
     "metadata": {},
     "output_type": "display_data"
    }
   ],
   "source": [
    "lbls2 = [\"Mexican\", \"Chinese\", \"Indian\", \"Italian\", \"Thai\"]\n",
    "\n",
    "plotCuisines(lbls2, yy)"
   ]
  },
  {
   "cell_type": "code",
   "execution_count": 14,
   "metadata": {},
   "outputs": [
    {
     "name": "stdout",
     "output_type": "stream",
     "text": [
      "Percent of Vegan/Vgtrn Friendly reviews (non-zero useful counts):  20.939664087119745\n"
     ]
    }
   ],
   "source": [
    "veg_mask = yy.vegFriendly == 1\n",
    "\n",
    "print(\"Percent of Vegan/Vgtrn Friendly reviews (non-zero useful counts): \",\\\n",
    "      (yy[veg_mask].shape[0] / yy.shape[0]) * 100)"
   ]
  },
  {
   "cell_type": "code",
   "execution_count": 15,
   "metadata": {},
   "outputs": [
    {
     "data": {
      "text/plain": [
       "1     203005\n",
       "2      90981\n",
       "3      44462\n",
       "4      23774\n",
       "5      13739\n",
       "6       8475\n",
       "7       5495\n",
       "8       3923\n",
       "9       2743\n",
       "10      2084\n",
       "Name: useful, dtype: int64"
      ]
     },
     "execution_count": 15,
     "metadata": {},
     "output_type": "execute_result"
    }
   ],
   "source": [
    "yy['useful'].value_counts()[:10]"
   ]
  }
 ],
 "metadata": {
  "kernelspec": {
   "display_name": "Python 3",
   "language": "python",
   "name": "python3"
  },
  "language_info": {
   "codemirror_mode": {
    "name": "ipython",
    "version": 3
   },
   "file_extension": ".py",
   "mimetype": "text/x-python",
   "name": "python",
   "nbconvert_exporter": "python",
   "pygments_lexer": "ipython3",
   "version": "3.6.4"
  }
 },
 "nbformat": 4,
 "nbformat_minor": 2
}
