{
 "cells": [
  {
   "cell_type": "code",
   "execution_count": 1,
   "metadata": {},
   "outputs": [],
   "source": [
    "import pandas as pd"
   ]
  },
  {
   "cell_type": "code",
   "execution_count": 6,
   "metadata": {},
   "outputs": [],
   "source": [
    "df = pd.read_csv('fromYelp.txt', sep='\\t')"
   ]
  },
  {
   "cell_type": "code",
   "execution_count": 7,
   "metadata": {},
   "outputs": [
    {
     "data": {
      "text/plain": [
       "(60, 1)"
      ]
     },
     "execution_count": 7,
     "metadata": {},
     "output_type": "execute_result"
    }
   ],
   "source": [
    "df.shape"
   ]
  },
  {
   "cell_type": "code",
   "execution_count": 8,
   "metadata": {},
   "outputs": [
    {
     "data": {
      "text/html": [
       "<div>\n",
       "<style scoped>\n",
       "    .dataframe tbody tr th:only-of-type {\n",
       "        vertical-align: middle;\n",
       "    }\n",
       "\n",
       "    .dataframe tbody tr th {\n",
       "        vertical-align: top;\n",
       "    }\n",
       "\n",
       "    .dataframe thead th {\n",
       "        text-align: right;\n",
       "    }\n",
       "</style>\n",
       "<table border=\"1\" class=\"dataframe\">\n",
       "  <thead>\n",
       "    <tr style=\"text-align: right;\">\n",
       "      <th></th>\n",
       "      <th>Food (food)</th>\n",
       "    </tr>\n",
       "  </thead>\n",
       "  <tbody>\n",
       "    <tr>\n",
       "      <th>0</th>\n",
       "      <td>Acai Bowls (acaibowls)</td>\n",
       "    </tr>\n",
       "    <tr>\n",
       "      <th>1</th>\n",
       "      <td>Bagels (bagels)</td>\n",
       "    </tr>\n",
       "    <tr>\n",
       "      <th>2</th>\n",
       "      <td>Bakeries (bakeries)</td>\n",
       "    </tr>\n",
       "    <tr>\n",
       "      <th>3</th>\n",
       "      <td>Beer, Wine &amp; Spirits (beer_and_wine)</td>\n",
       "    </tr>\n",
       "    <tr>\n",
       "      <th>4</th>\n",
       "      <td>Beverage Store (beverage_stores)</td>\n",
       "    </tr>\n",
       "  </tbody>\n",
       "</table>\n",
       "</div>"
      ],
      "text/plain": [
       "                            Food (food)\n",
       "0                Acai Bowls (acaibowls)\n",
       "1                       Bagels (bagels)\n",
       "2                   Bakeries (bakeries)\n",
       "3  Beer, Wine & Spirits (beer_and_wine)\n",
       "4      Beverage Store (beverage_stores)"
      ]
     },
     "execution_count": 8,
     "metadata": {},
     "output_type": "execute_result"
    }
   ],
   "source": [
    "df.head()"
   ]
  },
  {
   "cell_type": "code",
   "execution_count": 28,
   "metadata": {},
   "outputs": [],
   "source": [
    "def whereCond(filename):\n",
    "    '''\n",
    "    Function to take a list of category labels and create \n",
    "    a string with '(' and ')' and quotes on every line of\n",
    "    the file to create a tuple for the SQL where condition\n",
    "    \n",
    "    INPUT: filename (string)\n",
    "      - file should be one entry per line\n",
    "      - entries in category table\n",
    "    '''\n",
    "    \n",
    "    # start our conditional statement\n",
    "    where = '(\\\"'\n",
    "\n",
    "    with open(filename) as f:\n",
    "        for token in f:\n",
    "            where +=  token.strip() + '\\\", \\\"'\n",
    "\n",
    "    # drop (comma, space, quote)\n",
    "    where = where[:-3]\n",
    "\n",
    "    # close off our conditional\n",
    "    where += \")\"\n",
    "\n",
    "    return where\n",
    "\n",
    "    "
   ]
  },
  {
   "cell_type": "code",
   "execution_count": 25,
   "metadata": {},
   "outputs": [
    {
     "data": {
      "text/plain": [
       "'(\"Food (food)\", \"Acai Bowls (acaibowls)\", \"Bagels (bagels)\", \"Bakeries (bakeries)\", \"Beer, Wine & Spirits (beer_and_wine)\", \"Beverage Store (beverage_stores)\", \"Breweries (breweries)\", \"Brewpubs (brewpubs)\", \"Bubble Tea (bubbletea)\", \"Butcher (butcher)\", \"CSA (csa)\", \"Chimney Cakes (chimneycakes)\", \"Cideries (cideries)\", \"Coffee & Tea (coffee)\", \"Coffee Roasteries (coffeeroasteries)\", \"Convenience Stores (convenience)\", \"Cupcakes (cupcakes)\", \"Custom Cakes (customcakes)\", \"Desserts (desserts)\", \"Distilleries (distilleries)\", \"Do-It-Yourself Food (diyfood)\", \"Donuts (donuts)\", \"Empanadas (empanadas)\", \"Farmers Market (farmersmarket)\", \"Food Delivery Services (fooddeliveryservices)\", \"Food Trucks (foodtrucks)\", \"Gelato (gelato)\", \"Grocery (grocery)\", \"Honey (honey)\", \"Ice Cream & Frozen Yogurt (icecream)\", \"Imported Food (importedfood)\", \"International Grocery (intlgrocery)\", \"Internet Cafes (internetcafe)\", \"Juice Bars & Smoothies (juicebars)\", \"Kombucha (kombucha)\", \"Organic Stores (organic_stores)\", \"Patisserie/Cake Shop (cakeshop)\", \"Piadina (piadina)\", \"Poke (poke)\", \"Pretzels (pretzels)\", \"Shaved Ice (shavedice)\", \"Shaved Snow (shavedsnow)\", \"Smokehouse (smokehouse)\", \"Specialty Food (gourmet)\", \"Candy Stores (candy)\", \"Cheese Shops (cheese)\", \"Chocolatiers & Shops (chocolate)\", \"Fruits & Veggies (markets)\", \"Health Markets (healthmarkets)\", \"Herbs & Spices (herbsandspices)\", \"Macarons (macarons)\", \"Meat Shops (meats)\", \"Olive Oil (oliveoil)\", \"Pasta Shops (pastashops)\", \"Popcorn Shops (popcorn)\", \"Seafood Markets (seafoodmarkets)\", \"Street Vendors (streetvendors)\", \"Tea Rooms (tea)\", \"Water Stores (waterstores)\", \"Wineries (wineries)\", \"Wine Tasting Room (winetastingroom)\", \"'"
      ]
     },
     "execution_count": 25,
     "metadata": {},
     "output_type": "execute_result"
    }
   ],
   "source": [
    "whereCond('fromYelp.txt')"
   ]
  },
  {
   "cell_type": "code",
   "execution_count": 29,
   "metadata": {},
   "outputs": [
    {
     "data": {
      "text/plain": [
       "'(\"Mexican\", \"Chinese\", \"Indian\", \"Vegetarian\", \"Vegan\")'"
      ]
     },
     "execution_count": 29,
     "metadata": {},
     "output_type": "execute_result"
    }
   ],
   "source": [
    "whereCond('list2str.txt')"
   ]
  },
  {
   "cell_type": "code",
   "execution_count": null,
   "metadata": {},
   "outputs": [],
   "source": []
  }
 ],
 "metadata": {
  "kernelspec": {
   "display_name": "Python 3",
   "language": "python",
   "name": "python3"
  },
  "language_info": {
   "codemirror_mode": {
    "name": "ipython",
    "version": 3
   },
   "file_extension": ".py",
   "mimetype": "text/x-python",
   "name": "python",
   "nbconvert_exporter": "python",
   "pygments_lexer": "ipython3",
   "version": "3.6.5"
  }
 },
 "nbformat": 4,
 "nbformat_minor": 2
}
