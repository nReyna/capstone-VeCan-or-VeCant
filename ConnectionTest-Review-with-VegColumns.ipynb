{
 "cells": [
  {
   "cell_type": "code",
   "execution_count": 1,
   "metadata": {},
   "outputs": [],
   "source": [
    "import os\n",
    "import pymysql\n",
    "import pandas as pd"
   ]
  },
  {
   "cell_type": "code",
   "execution_count": 2,
   "metadata": {},
   "outputs": [],
   "source": [
    "import numpy as np\n",
    "import matplotlib.pyplot as plt\n",
    "%matplotlib inline"
   ]
  },
  {
   "cell_type": "code",
   "execution_count": 3,
   "metadata": {},
   "outputs": [],
   "source": [
    "host = 'localhost'\n",
    "port = '3306'\n",
    "user = 'root'\n",
    "password = 'root'\n",
    "database = 'yelp_db'\n",
    "\n",
    "conn = pymysql.connect( host=host, port=int(port),\n",
    "    user=user, passwd=password, db=database, charset='utf8mb4')"
   ]
  },
  {
   "cell_type": "code",
   "execution_count": 4,
   "metadata": {},
   "outputs": [
    {
     "data": {
      "text/plain": [
       "True"
      ]
     },
     "execution_count": 4,
     "metadata": {},
     "output_type": "execute_result"
    }
   ],
   "source": [
    "conn.open"
   ]
  },
  {
   "cell_type": "code",
   "execution_count": 5,
   "metadata": {},
   "outputs": [
    {
     "name": "stdout",
     "output_type": "stream",
     "text": [
      "CPU times: user 47.5 s, sys: 1.78 s, total: 49.3 s\n",
      "Wall time: 49.3 s\n"
     ]
    }
   ],
   "source": [
    "%%time\n",
    "df = pd.read_sql_query(\n",
    "    \"SELECT * FROM reviewCategories WHERE state in ('AZ', 'WI', 'NV', 'NC', 'PA', 'OH', 'IL', 'SC', 'NY');\",\n",
    "    conn)"
   ]
  },
  {
   "cell_type": "code",
   "execution_count": 6,
   "metadata": {},
   "outputs": [
    {
     "data": {
      "text/plain": [
       "(923002, 19)"
      ]
     },
     "execution_count": 6,
     "metadata": {},
     "output_type": "execute_result"
    }
   ],
   "source": [
    "df.shape"
   ]
  },
  {
   "cell_type": "code",
   "execution_count": 7,
   "metadata": {},
   "outputs": [
    {
     "data": {
      "text/plain": [
       "AZ    381687\n",
       "NV    336452\n",
       "NC     61057\n",
       "OH     54085\n",
       "PA     53649\n",
       "WI     25550\n",
       "IL      8947\n",
       "SC      1560\n",
       "NY        15\n",
       "Name: state, dtype: int64"
      ]
     },
     "execution_count": 7,
     "metadata": {},
     "output_type": "execute_result"
    }
   ],
   "source": [
    "df.state.value_counts()"
   ]
  },
  {
   "cell_type": "code",
   "execution_count": 8,
   "metadata": {
    "scrolled": false
   },
   "outputs": [
    {
     "name": "stdout",
     "output_type": "stream",
     "text": [
      "<class 'pandas.core.frame.DataFrame'>\n",
      "RangeIndex: 923002 entries, 0 to 923001\n",
      "Data columns (total 19 columns):\n",
      "business_id    923002 non-null object\n",
      "name           923002 non-null object\n",
      "review_id      923002 non-null object\n",
      "stars          923002 non-null int64\n",
      "date           923002 non-null datetime64[ns]\n",
      "text           923002 non-null object\n",
      "useful         923002 non-null int64\n",
      "funny          923002 non-null int64\n",
      "cool           923002 non-null int64\n",
      "city           923002 non-null object\n",
      "state          923002 non-null object\n",
      "vegFriendly    923002 non-null float64\n",
      "Vegan          923002 non-null float64\n",
      "Vegetarian     923002 non-null float64\n",
      "Thai           923002 non-null float64\n",
      "Italian        923002 non-null float64\n",
      "Indian         923002 non-null float64\n",
      "Chinese        923002 non-null float64\n",
      "Mexican        923002 non-null float64\n",
      "dtypes: datetime64[ns](1), float64(8), int64(4), object(6)\n",
      "memory usage: 133.8+ MB\n"
     ]
    }
   ],
   "source": [
    "df.info()"
   ]
  },
  {
   "cell_type": "code",
   "execution_count": 9,
   "metadata": {},
   "outputs": [
    {
     "data": {
      "text/plain": [
       "array(['AZ', 'WI', 'NV', 'NC', 'PA', 'OH', 'IL', 'SC', 'NY'], dtype=object)"
      ]
     },
     "execution_count": 9,
     "metadata": {},
     "output_type": "execute_result"
    }
   ],
   "source": [
    "df['state'].unique()"
   ]
  },
  {
   "cell_type": "code",
   "execution_count": 10,
   "metadata": {},
   "outputs": [],
   "source": [
    "df[\"Text_length\"] = df[\"text\"].apply(len)"
   ]
  },
  {
   "cell_type": "code",
   "execution_count": 11,
   "metadata": {},
   "outputs": [],
   "source": [
    "# Completed 8.9.18 11:40am\n",
    "# (\"Mexican\", \"Chinese\", \"Indian\", \"Italian\", \"Thai\", \"Vegetarian\", \"Vegan\")\n",
    "\n",
    "# df.to_pickle(\"newRev_VegCols_US.pkl\")"
   ]
  },
  {
   "cell_type": "code",
   "execution_count": null,
   "metadata": {},
   "outputs": [],
   "source": []
  },
  {
   "cell_type": "code",
   "execution_count": 12,
   "metadata": {
    "scrolled": true
   },
   "outputs": [],
   "source": [
    "# df['useful'].value_counts()"
   ]
  },
  {
   "cell_type": "markdown",
   "metadata": {},
   "source": [
    "#### Plot Cuisine Distributions"
   ]
  },
  {
   "cell_type": "code",
   "execution_count": 13,
   "metadata": {},
   "outputs": [],
   "source": [
    "# Start off with labeled Cuisines (will have to capture unlabeled: Other)\n",
    "\n",
    "cuisines = [\"Mexican\", \"Chinese\", \"Indian\", \"Italian\", \"Thai\"]\n",
    "\n",
    "ht = np.zeros((1,len(cuisines)))\n",
    "\n",
    "for i, c in enumerate(cuisines):\n",
    "    ht[0, i] = df[c].value_counts()[1] / df.shape[0]"
   ]
  },
  {
   "cell_type": "code",
   "execution_count": 14,
   "metadata": {},
   "outputs": [],
   "source": [
    "cuisines.append(\"Other\")\n",
    "\n",
    "with_other = np.append(ht, 1-ht.sum())"
   ]
  },
  {
   "cell_type": "code",
   "execution_count": 15,
   "metadata": {},
   "outputs": [
    {
     "name": "stdout",
     "output_type": "stream",
     "text": [
      "Did all Cuisine Categories add to 1?  True\n"
     ]
    }
   ],
   "source": [
    "print(\"Did all Cuisine Categories add to 1? \", with_other.sum() == 1)"
   ]
  },
  {
   "cell_type": "code",
   "execution_count": 16,
   "metadata": {},
   "outputs": [
    {
     "data": {
      "image/png": "[encoded data removed]",
      "text/plain": [
       "<Figure size 1152x576 with 1 Axes>"
      ]
     },
     "metadata": {},
     "output_type": "display_data"
    }
   ],
   "source": [
    "plt.figure(figsize=(16,8))\n",
    "plt.grid(True, zorder=0)\n",
    "plt.bar(range(len(cuisines)), height=with_other, tick_label = cuisines, zorder=2)\n",
    "plt.ylabel(\"Proportion from Sample Set\")\n",
    "plt.xlabel(\"Cuisines\");"
   ]
  },
  {
   "cell_type": "code",
   "execution_count": 17,
   "metadata": {},
   "outputs": [
    {
     "name": "stdout",
     "output_type": "stream",
     "text": [
      "Percent of Vegan/Vgtrn Friendly reviews:  12.910697918314371\n"
     ]
    }
   ],
   "source": [
    "veg_mask = df.vegFriendly == 1\n",
    "\n",
    "print(\"Percent of Vegan/Vgtrn Friendly reviews: \", (df[veg_mask].shape[0] / df.shape[0]) * 100)"
   ]
  },
  {
   "cell_type": "code",
   "execution_count": 18,
   "metadata": {},
   "outputs": [],
   "source": [
    "th_mask = df.Thai == 1"
   ]
  },
  {
   "cell_type": "code",
   "execution_count": 19,
   "metadata": {},
   "outputs": [],
   "source": [
    "veg_mask = df.vegFriendly == 1"
   ]
  },
  {
   "cell_type": "code",
   "execution_count": 20,
   "metadata": {},
   "outputs": [
    {
     "name": "stdout",
     "output_type": "stream",
     "text": [
      "CPU times: user 28 ms, sys: 4 ms, total: 32 ms\n",
      "Wall time: 33.9 ms\n"
     ]
    }
   ],
   "source": [
    "%%time\n",
    "veg_df = df[veg_mask]"
   ]
  },
  {
   "cell_type": "code",
   "execution_count": 21,
   "metadata": {},
   "outputs": [
    {
     "data": {
      "text/plain": [
       "(119166, 20)"
      ]
     },
     "execution_count": 21,
     "metadata": {},
     "output_type": "execute_result"
    }
   ],
   "source": [
    "veg_df.shape"
   ]
  },
  {
   "cell_type": "code",
   "execution_count": 22,
   "metadata": {},
   "outputs": [
    {
     "data": {
      "text/html": [
       "<div>\n",
       "<style scoped>\n",
       "    .dataframe tbody tr th:only-of-type {\n",
       "        vertical-align: middle;\n",
       "    }\n",
       "\n",
       "    .dataframe tbody tr th {\n",
       "        vertical-align: top;\n",
       "    }\n",
       "\n",
       "    .dataframe thead th {\n",
       "        text-align: right;\n",
       "    }\n",
       "</style>\n",
       "<table border=\"1\" class=\"dataframe\">\n",
       "  <thead>\n",
       "    <tr style=\"text-align: right;\">\n",
       "      <th></th>\n",
       "      <th>business_id</th>\n",
       "      <th>name</th>\n",
       "      <th>review_id</th>\n",
       "      <th>stars</th>\n",
       "      <th>date</th>\n",
       "      <th>text</th>\n",
       "      <th>useful</th>\n",
       "      <th>funny</th>\n",
       "      <th>cool</th>\n",
       "      <th>city</th>\n",
       "      <th>state</th>\n",
       "      <th>vegFriendly</th>\n",
       "      <th>Vegan</th>\n",
       "      <th>Vegetarian</th>\n",
       "      <th>Thai</th>\n",
       "      <th>Italian</th>\n",
       "      <th>Indian</th>\n",
       "      <th>Chinese</th>\n",
       "      <th>Mexican</th>\n",
       "      <th>Text_length</th>\n",
       "    </tr>\n",
       "  </thead>\n",
       "  <tbody>\n",
       "    <tr>\n",
       "      <th>2</th>\n",
       "      <td>-8QlV3b_9H4BAh6LgMIr1g</td>\n",
       "      <td>Nandini Indian Cuisine</td>\n",
       "      <td>--c6GUtseZhMHA0rSfnN8w</td>\n",
       "      <td>5</td>\n",
       "      <td>2015-09-30</td>\n",
       "      <td>This was our second, but certainly not our las...</td>\n",
       "      <td>1</td>\n",
       "      <td>0</td>\n",
       "      <td>1</td>\n",
       "      <td>Tempe</td>\n",
       "      <td>AZ</td>\n",
       "      <td>1.0</td>\n",
       "      <td>1.0</td>\n",
       "      <td>0.0</td>\n",
       "      <td>0.0</td>\n",
       "      <td>0.0</td>\n",
       "      <td>1.0</td>\n",
       "      <td>0.0</td>\n",
       "      <td>0.0</td>\n",
       "      <td>304</td>\n",
       "    </tr>\n",
       "    <tr>\n",
       "      <th>3</th>\n",
       "      <td>-8QlV3b_9H4BAh6LgMIr1g</td>\n",
       "      <td>Nandini Indian Cuisine</td>\n",
       "      <td>--c6GUtseZhMHA0rSfnN8w</td>\n",
       "      <td>5</td>\n",
       "      <td>2015-09-30</td>\n",
       "      <td>This was our second, but certainly not our las...</td>\n",
       "      <td>1</td>\n",
       "      <td>0</td>\n",
       "      <td>1</td>\n",
       "      <td>Tempe</td>\n",
       "      <td>AZ</td>\n",
       "      <td>1.0</td>\n",
       "      <td>1.0</td>\n",
       "      <td>0.0</td>\n",
       "      <td>0.0</td>\n",
       "      <td>0.0</td>\n",
       "      <td>1.0</td>\n",
       "      <td>0.0</td>\n",
       "      <td>0.0</td>\n",
       "      <td>304</td>\n",
       "    </tr>\n",
       "    <tr>\n",
       "      <th>14</th>\n",
       "      <td>82mWTnfbGDE1jJ2NDMxfNw</td>\n",
       "      <td>Pita Jungle</td>\n",
       "      <td>-02-MrBXqRiRt7G7msKswQ</td>\n",
       "      <td>4</td>\n",
       "      <td>2010-04-07</td>\n",
       "      <td>So I lied... I somehow ended up at this Pita J...</td>\n",
       "      <td>2</td>\n",
       "      <td>1</td>\n",
       "      <td>3</td>\n",
       "      <td>Mesa</td>\n",
       "      <td>AZ</td>\n",
       "      <td>1.0</td>\n",
       "      <td>0.0</td>\n",
       "      <td>1.0</td>\n",
       "      <td>0.0</td>\n",
       "      <td>0.0</td>\n",
       "      <td>0.0</td>\n",
       "      <td>0.0</td>\n",
       "      <td>0.0</td>\n",
       "      <td>1697</td>\n",
       "    </tr>\n",
       "    <tr>\n",
       "      <th>17</th>\n",
       "      <td>aY8xiGLpTjIkz6FAJbCy7A</td>\n",
       "      <td>Double Wide Grill</td>\n",
       "      <td>-0GY7W_nLGuHy8CwdUG7tA</td>\n",
       "      <td>3</td>\n",
       "      <td>2016-06-01</td>\n",
       "      <td>I came here a number of times years ago and re...</td>\n",
       "      <td>1</td>\n",
       "      <td>0</td>\n",
       "      <td>0</td>\n",
       "      <td>Pittsburgh</td>\n",
       "      <td>PA</td>\n",
       "      <td>1.0</td>\n",
       "      <td>0.0</td>\n",
       "      <td>1.0</td>\n",
       "      <td>0.0</td>\n",
       "      <td>0.0</td>\n",
       "      <td>0.0</td>\n",
       "      <td>0.0</td>\n",
       "      <td>0.0</td>\n",
       "      <td>883</td>\n",
       "    </tr>\n",
       "    <tr>\n",
       "      <th>60</th>\n",
       "      <td>5DDumAHRKumv3gZiPKW6iw</td>\n",
       "      <td>Nami</td>\n",
       "      <td>-4rN2jtNETXhyYHcsDUmaQ</td>\n",
       "      <td>4</td>\n",
       "      <td>2015-04-26</td>\n",
       "      <td>Always a line out the door for Nami. The food ...</td>\n",
       "      <td>0</td>\n",
       "      <td>0</td>\n",
       "      <td>0</td>\n",
       "      <td>Phoenix</td>\n",
       "      <td>AZ</td>\n",
       "      <td>1.0</td>\n",
       "      <td>1.0</td>\n",
       "      <td>0.0</td>\n",
       "      <td>0.0</td>\n",
       "      <td>0.0</td>\n",
       "      <td>0.0</td>\n",
       "      <td>0.0</td>\n",
       "      <td>0.0</td>\n",
       "      <td>351</td>\n",
       "    </tr>\n",
       "  </tbody>\n",
       "</table>\n",
       "</div>"
      ],
      "text/plain": [
       "               business_id                    name               review_id  \\\n",
       "2   -8QlV3b_9H4BAh6LgMIr1g  Nandini Indian Cuisine  --c6GUtseZhMHA0rSfnN8w   \n",
       "3   -8QlV3b_9H4BAh6LgMIr1g  Nandini Indian Cuisine  --c6GUtseZhMHA0rSfnN8w   \n",
       "14  82mWTnfbGDE1jJ2NDMxfNw             Pita Jungle  -02-MrBXqRiRt7G7msKswQ   \n",
       "17  aY8xiGLpTjIkz6FAJbCy7A       Double Wide Grill  -0GY7W_nLGuHy8CwdUG7tA   \n",
       "60  5DDumAHRKumv3gZiPKW6iw                    Nami  -4rN2jtNETXhyYHcsDUmaQ   \n",
       "\n",
       "    stars       date                                               text  \\\n",
       "2       5 2015-09-30  This was our second, but certainly not our las...   \n",
       "3       5 2015-09-30  This was our second, but certainly not our las...   \n",
       "14      4 2010-04-07  So I lied... I somehow ended up at this Pita J...   \n",
       "17      3 2016-06-01  I came here a number of times years ago and re...   \n",
       "60      4 2015-04-26  Always a line out the door for Nami. The food ...   \n",
       "\n",
       "    useful  funny  cool        city state  vegFriendly  Vegan  Vegetarian  \\\n",
       "2        1      0     1       Tempe    AZ          1.0    1.0         0.0   \n",
       "3        1      0     1       Tempe    AZ          1.0    1.0         0.0   \n",
       "14       2      1     3        Mesa    AZ          1.0    0.0         1.0   \n",
       "17       1      0     0  Pittsburgh    PA          1.0    0.0         1.0   \n",
       "60       0      0     0     Phoenix    AZ          1.0    1.0         0.0   \n",
       "\n",
       "    Thai  Italian  Indian  Chinese  Mexican  Text_length  \n",
       "2    0.0      0.0     1.0      0.0      0.0          304  \n",
       "3    0.0      0.0     1.0      0.0      0.0          304  \n",
       "14   0.0      0.0     0.0      0.0      0.0         1697  \n",
       "17   0.0      0.0     0.0      0.0      0.0          883  \n",
       "60   0.0      0.0     0.0      0.0      0.0          351  "
      ]
     },
     "execution_count": 22,
     "metadata": {},
     "output_type": "execute_result"
    }
   ],
   "source": [
    "veg_df.head()"
   ]
  },
  {
   "cell_type": "code",
   "execution_count": 23,
   "metadata": {},
   "outputs": [],
   "source": [
    "# Start off with labeled Cuisines (will have to capture unlabeled: Other)\n",
    "\n",
    "cuisines = [\"Mexican\", \"Chinese\", \"Indian\", \"Italian\", \"Thai\"]\n",
    "\n",
    "vht = np.zeros((1, len(cuisines)))\n",
    "tot = np.zeros((1, len(cuisines)))\n",
    "\n",
    "for i, c in enumerate(cuisines):\n",
    "    vht[0, i] = veg_df[c].value_counts()[1] / veg_df.shape[0]  # from Sub-sample\n",
    "    tot[0, i] = veg_df[c].value_counts()[1] / df.shape[0]      # from total sample"
   ]
  },
  {
   "cell_type": "code",
   "execution_count": 24,
   "metadata": {},
   "outputs": [],
   "source": [
    "cuisines.append(\"Other\")\n",
    "\n",
    "vht_other = np.append(vht, 1-vht.sum())\n",
    "tot_other = np.append(tot, 1-tot.sum())"
   ]
  },
  {
   "cell_type": "code",
   "execution_count": 25,
   "metadata": {},
   "outputs": [
    {
     "data": {
      "text/plain": [
       "array([13.86469295,  7.2822785 , 13.87476294,  4.99303493, 13.98049779,\n",
       "       46.00473289])"
      ]
     },
     "execution_count": 25,
     "metadata": {},
     "output_type": "execute_result"
    }
   ],
   "source": [
    "vht_other * 100"
   ]
  },
  {
   "cell_type": "code",
   "execution_count": 26,
   "metadata": {},
   "outputs": [
    {
     "name": "stdout",
     "output_type": "stream",
     "text": [
      "Cuisine Categories add to 1 for VegFrdly sub-sample?  True\n"
     ]
    }
   ],
   "source": [
    "print(\"Cuisine Categories add to 1 for VegFrdly sub-sample? \", vht_other.sum() == 1)"
   ]
  },
  {
   "cell_type": "code",
   "execution_count": 27,
   "metadata": {},
   "outputs": [
    {
     "data": {
      "image/png": "[encoded data removed]",
      "text/plain": [
       "<Figure size 1152x576 with 1 Axes>"
      ]
     },
     "metadata": {},
     "output_type": "display_data"
    }
   ],
   "source": [
    "plt.figure(figsize=(16,8))\n",
    "plt.grid(True, zorder=0)\n",
    "plt.bar(range(len(cuisines)), height=vht_other, tick_label = cuisines, zorder=2)\n",
    "plt.ylabel(\"Proportion from VegFrdly SubSample Set\")\n",
    "plt.xlabel(\"Cuisines\");"
   ]
  },
  {
   "cell_type": "code",
   "execution_count": 28,
   "metadata": {},
   "outputs": [
    {
     "name": "stdout",
     "output_type": "stream",
     "text": [
      "Cuisine Categories add to 1 for VegFrdly full sample?  True\n"
     ]
    }
   ],
   "source": [
    "print(\"Cuisine Categories add to 1 for VegFrdly full sample? \", tot_other.sum() == 1)"
   ]
  },
  {
   "cell_type": "code",
   "execution_count": 29,
   "metadata": {},
   "outputs": [
    {
     "data": {
      "image/png": "[encoded data removed]",
      "text/plain": [
       "<Figure size 1152x576 with 1 Axes>"
      ]
     },
     "metadata": {},
     "output_type": "display_data"
    }
   ],
   "source": [
    "plt.figure(figsize=(16,8))\n",
    "plt.grid(True, zorder=0)\n",
    "plt.bar(range(len(cuisines)), height=tot_other, tick_label = cuisines, zorder=2)\n",
    "plt.ylabel(\"Proportion from VegFrdly Full Sample Set\")\n",
    "plt.xlabel(\"Cuisines\");"
   ]
  },
  {
   "cell_type": "markdown",
   "metadata": {},
   "source": [
    "## Don't forget to CLOSE connection"
   ]
  },
  {
   "cell_type": "code",
   "execution_count": 30,
   "metadata": {},
   "outputs": [],
   "source": [
    "conn.close()"
   ]
  }
 ],
 "metadata": {
  "kernelspec": {
   "display_name": "Python 3",
   "language": "python",
   "name": "python3"
  },
  "language_info": {
   "codemirror_mode": {
    "name": "ipython",
    "version": 3
   },
   "file_extension": ".py",
   "mimetype": "text/x-python",
   "name": "python",
   "nbconvert_exporter": "python",
   "pygments_lexer": "ipython3",
   "version": "3.6.4"
  }
 },
 "nbformat": 4,
 "nbformat_minor": 2
}
