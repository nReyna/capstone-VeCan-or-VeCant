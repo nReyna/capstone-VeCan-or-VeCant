{
 "cells": [
  {
   "cell_type": "markdown",
   "metadata": {},
   "source": [
    "#### Aug. 12, 2018 3pm"
   ]
  },
  {
   "cell_type": "code",
   "execution_count": 1,
   "metadata": {},
   "outputs": [],
   "source": [
    "import numpy   as np\n",
    "import pandas  as pd\n",
    "\n",
    "import pickle\n",
    "import re\n",
    "from nltk.corpus import stopwords\n",
    "from sklearn.model_selection import train_test_split\n",
    "from sklearn.feature_extraction.text import CountVectorizer\n",
    "from sklearn.naive_bayes import MultinomialNB\n",
    "\n",
    "from sklearn.metrics import accuracy_score, precision_score, recall_score, f1_score\n",
    "from sklearn.metrics import confusion_matrix, classification_report, roc_auc_score, roc_curve\n"
   ]
  },
  {
   "cell_type": "markdown",
   "metadata": {},
   "source": [
    "---\n",
    "\n",
    "#### Function Definitions"
   ]
  },
  {
   "cell_type": "code",
   "execution_count": 2,
   "metadata": {},
   "outputs": [],
   "source": [
    "def time_Now():\n",
    "    import datetime\n",
    "    import pytz\n",
    "    utc_now = pytz.utc.localize(datetime.datetime.utcnow())\n",
    "    pst_now = utc_now.astimezone(pytz.timezone(\"America/Los_Angeles\"))\n",
    "    return (pst_now)"
   ]
  },
  {
   "cell_type": "code",
   "execution_count": 3,
   "metadata": {},
   "outputs": [],
   "source": [
    "import itertools \n",
    "import matplotlib.pyplot as plt\n",
    "%matplotlib inline\n",
    "\n",
    "def plot_confusion_matrix(cm, classes, normalize=False, title='Confusion matrix', cmap=plt.cm.Blues):\n",
    "    \"\"\"\n",
    "        This function prints and plots the confusion matrix.\n",
    "        Normalization can be applied by setting `normalize=True`.\n",
    "    \"\"\"\n",
    "    \n",
    "    if normalize:\n",
    "        cm = cm.astype('float') / cm.sum(axis=1)[:, np.newaxis]\n",
    "        print(\"Normalized confusion matrix\")\n",
    "    else:\n",
    "        print('Confusion matrix, without normalization')\n",
    "\n",
    "    plt.imshow(cm, interpolation='nearest', cmap=cmap)\n",
    "    plt.title(title)\n",
    "#     plt.colorbar()\n",
    "    tick_marks = np.arange(len(classes))\n",
    "    plt.xticks(tick_marks, classes, rotation=45)\n",
    "    plt.yticks(tick_marks, classes)\n",
    "\n",
    "    fmt = '.2f' if normalize else 'd'\n",
    "    thresh = cm.max() / 2.\n",
    "    for i, j in itertools.product(range(cm.shape[0]), range(cm.shape[1])):\n",
    "        plt.text(j, i, format(cm[i, j], fmt), horizontalalignment=\"center\",\n",
    "                 color=\"white\" if cm[i, j] > thresh else \"black\")\n",
    "        \n",
    "    plt.tight_layout()\n",
    "    plt.ylabel('True label',  fontsize=14)\n",
    "    plt.xlabel('Predicted label',  fontsize=14)"
   ]
  },
  {
   "cell_type": "code",
   "execution_count": 4,
   "metadata": {},
   "outputs": [],
   "source": [
    "def plot_model_ROC(model, X_df, y_true, figTitle=None, printMetrics=False, figName=None):\n",
    "    '''\n",
    "        Function will plot the Model's ROC curve with several options:\n",
    "        - alter the fig TITLE\n",
    "        - APPEND model metrics to the figure\n",
    "        - SAVE figure as a *.png and a*.pdf file\n",
    "        \n",
    "        Function will execute with only 3 of the 6 parameters\n",
    "        - sklearn model that can give a predict_proba\n",
    "        - X_df to apply the predict_proba\n",
    "        - y_true the true values to compute TPR and FPR (T/F positive rates)\n",
    "    '''\n",
    "    \n",
    "    pred = model.predict(X_df)\n",
    "    y_score = model.predict_proba(X_df)[:,1]\n",
    "\n",
    "    fpr, tpr, thresholds = roc_curve(y_true, y_score, pos_label=1)\n",
    "\n",
    "    plt.figure(figsize=(12,10))\n",
    "    plt.plot(fpr, tpr, 'o--')\n",
    "    plt.plot(np.linspace(0,1), np.linspace(0,1), 'k--')\n",
    "    plt.ylabel(\"True Positive Rate\",  fontsize=14)\n",
    "    plt.xlabel(\"False Positive Rate\", fontsize=14);\n",
    "    plt.text(.6, .1, \"AUC score: {0:.4f}\".format( roc_auc_score(y_test, y_score) ), fontsize=14);\n",
    "    \n",
    "    if figTitle:\n",
    "        plt.title(figTitle)\n",
    "    else:\n",
    "        plt.title(str(model))\n",
    "        \n",
    "    if printMetrics:\n",
    "        plt.text(.6, .15, \"Accuracy score: {0:.4f}\".format( accuracy_score(y_true, pred) ), fontsize=14);\n",
    "        plt.text(.6, .2, \"Precision score: {0:.4f}\".format( precision_score(y_true, pred) ), fontsize=14);\n",
    "        plt.text(.6, .25, \"Recall score: {0:.4f}\".format( recall_score(y_true, pred) ), fontsize=14);\n",
    "        plt.text(.6, .3, \"F1 score: {0:.4f}\".format( f1_score(y_true, pred) ), fontsize=14);\n",
    "\n",
    "    if figName:\n",
    "        print(\"saving...\" + figName)\n",
    "        plt.gcf()\n",
    "        plt.savefig(figName + '.png')\n",
    "        plt.savefig(figName + '.pdf')"
   ]
  },
  {
   "cell_type": "code",
   "execution_count": 5,
   "metadata": {},
   "outputs": [],
   "source": [
    "def show_most_informative_features(vectorizer, clf, n=20):\n",
    "    \n",
    "    feature_names = vectorizer.get_feature_names()\n",
    "    coefs_with_fns = sorted(zip(clf.coef_[0], feature_names))\n",
    "    \n",
    "    top = zip(coefs_with_fns[:n], coefs_with_fns[:-(n + 1):-1])\n",
    "    for (coef_1, fn_1), (coef_2, fn_2) in top:\n",
    "        print(\"\\t%.4f\\t%-15s\\t\\t%.4f\\t%-15s\" % (coef_1, fn_1, coef_2, fn_2))"
   ]
  },
  {
   "cell_type": "code",
   "execution_count": 6,
   "metadata": {},
   "outputs": [],
   "source": [
    "def topWords(clf_model_nb, vectorFts, numFtrs=50):\n",
    "\n",
    "    \n",
    "    # Empirical log probability of features x_i, given a class y; P(x_i|y).\n",
    "\n",
    "    ftr_logProb = clf_model_nb.feature_log_prob_\n",
    "    ftr_logProb.shape\n",
    "\n",
    "    # Smoothed empirical log probability for each class.\n",
    "    class_logProb = clf_model_nb.class_log_prior_\n",
    "\n",
    "\n",
    "    posterior_ratios = (ftr_logProb[1,:] - ftr_logProb[0,:] + class_logProb[1] - class_logProb[0])\n",
    "\n",
    "    inds = np.argsort(posterior_ratios)[-1:-200:-1]\n",
    "\n",
    "    # posterior_ratios[inds]\n",
    "\n",
    "    print(np.array(vectorFts)[inds])"
   ]
  },
  {
   "cell_type": "markdown",
   "metadata": {},
   "source": [
    "---\n",
    "### Modified: "
   ]
  },
  {
   "cell_type": "code",
   "execution_count": 7,
   "metadata": {},
   "outputs": [
    {
     "name": "stdout",
     "output_type": "stream",
     "text": [
      "Last modified on:  2018-08-14 11:48:36.931573-07:00\n"
     ]
    }
   ],
   "source": [
    "print(\"Last modified on: \", time_Now())"
   ]
  },
  {
   "cell_type": "markdown",
   "metadata": {},
   "source": [
    "---\n",
    "\n",
    "### Large Pickled Dataset\n",
    "\n"
   ]
  },
  {
   "cell_type": "code",
   "execution_count": 8,
   "metadata": {},
   "outputs": [
    {
     "name": "stdout",
     "output_type": "stream",
     "text": [
      "CPU times: user 868 ms, sys: 500 ms, total: 1.37 s\n",
      "Wall time: 1.37 s\n"
     ]
    }
   ],
   "source": [
    "%%time\n",
    "df = pd.read_pickle(\"newRev_VegCols_US.pkl\")"
   ]
  },
  {
   "cell_type": "code",
   "execution_count": 9,
   "metadata": {},
   "outputs": [
    {
     "name": "stdout",
     "output_type": "stream",
     "text": [
      "CPU times: user 88 ms, sys: 36 ms, total: 124 ms\n",
      "Wall time: 126 ms\n"
     ]
    }
   ],
   "source": [
    "%%time\n",
    "X_df = df.drop(['vegFriendly', 'Vegan', 'Vegetarian'], axis=1)\n",
    "y_df = df['vegFriendly']"
   ]
  },
  {
   "cell_type": "code",
   "execution_count": 10,
   "metadata": {},
   "outputs": [],
   "source": [
    "# X_df.info()"
   ]
  },
  {
   "cell_type": "code",
   "execution_count": 11,
   "metadata": {},
   "outputs": [
    {
     "name": "stdout",
     "output_type": "stream",
     "text": [
      "CPU times: user 16.2 s, sys: 156 ms, total: 16.4 s\n",
      "Wall time: 16.4 s\n"
     ]
    }
   ],
   "source": [
    "%%time\n",
    "X_df.iloc[:, 5] = X_df['text'].apply( lambda rev: re.sub(r'(\\d+)', '', rev) )"
   ]
  },
  {
   "cell_type": "code",
   "execution_count": 12,
   "metadata": {},
   "outputs": [
    {
     "name": "stdout",
     "output_type": "stream",
     "text": [
      "CPU times: user 692 ms, sys: 0 ns, total: 692 ms\n",
      "Wall time: 690 ms\n"
     ]
    }
   ],
   "source": [
    "%%time\n",
    "X_df.iloc[:, 5] = X_df['text'].apply( lambda rev: rev.replace('_', '') )"
   ]
  },
  {
   "cell_type": "code",
   "execution_count": 13,
   "metadata": {},
   "outputs": [],
   "source": [
    "X_train, X_test, y_train, y_test = train_test_split(X_df, y_df, test_size=0.3, random_state=62)"
   ]
  },
  {
   "cell_type": "code",
   "execution_count": 14,
   "metadata": {},
   "outputs": [
    {
     "name": "stdout",
     "output_type": "stream",
     "text": [
      "(646101, 17) (276901, 17)\n"
     ]
    }
   ],
   "source": [
    "print( X_train.shape, X_test.shape)"
   ]
  },
  {
   "cell_type": "markdown",
   "metadata": {},
   "source": [
    "---\n",
    "\n",
    "### Manipulate data sets"
   ]
  },
  {
   "cell_type": "code",
   "execution_count": 15,
   "metadata": {},
   "outputs": [],
   "source": [
    "stopWords = list(stopwords.words('english'))\n",
    "stopWords.extend(['good', 'excellent', 'best', 'like', 'place', 'really', 'ordered', 'amazing', 'fantastic', 'am', 'pm'])\n",
    "# 189\n",
    "stopWords.extend(['aa', 'aaa', 'aaaa', 'aaaaa', 'aaaaaa', 'aaaaaaaaaaaaaaaaaaaaaaaaaauuuuuuuuuuuuuuuuggggggggggggggggggg', 'aaaaaaah'])\n",
    "stopWords.extend(['aaaaaaamazing', 'aaaaaaand', 'aaaaaamazing', 'aaaaahhhh', 'aaaaahhhhhhmazing', 'aaaaahhhhmaaazeballs', 'aaaaamazing', 'aaaaand'])\n",
    "stopWords.extend(['aaaack', 'aaaamazing', 'aaaammmazziiigggg', 'aaaand', 'aaaarrgh', 'aaah', 'aaahh'])\n",
    "stopWords.extend(['aaahhhh', 'aaahhhhh', 'aaahhhhmmmaaazzziiiinnnnggg'])\n",
    "stopWords.extend(['aaammaziiiing', 'aaand', 'aab', 'aaboud', 'aac', 'aachi', 'aadd', 'aaggh', 'aagh', 'aah', 'aahan', 'aahc', 'aahhh'])\n",
    "stopWords.extend(['aahhhh', 'aahhhhhh', 'aahhhhhhmazing', 'aahhhhhmazing', 'aahhhhmazing', 'aahing', 'aahran'])\n",
    "# 234\n",
    "stopWords.extend(['aaaaaaaaaa', 'aaaaaaaaaaaaaand', 'aaaaaaaaaaaaaauthentic', 'aaaaaaaaaaaaaawwwwwwwwwwwwwwwwwwwwww', 'aaaaaaaaaaack', 'aaaaaaaaaaah', 'aaaaaaaaaand', 'aaaaaaaaargh', 'aaaaaaaack', 'aaaaaaaahhhhhhhhh', 'aaaaaaaamazing', 'aaaaaaaand', 'aaaaaaall', 'aaaaaaamaaaaazing', 'aaaaaaammmmazing', 'aaaaaahhhh', 'aaaaaahhhhh', 'aaaaaahhhhhmazing', 'aaaaaand', 'aaaaaannnddd', 'aaaaaannnndddd', 'aaaaagh', 'aaaaah', 'aaaaahhhhmazing', 'aaaaamaaazing', 'aaaaammmaazzzinnngg', 'aaaaarrrggghh', 'aaaaawful', 'aaaaay', 'aaaagh', 'aaaah', 'aaaahh', 'aaaahhh', 'aaaahhhh', 'aaaahhhhhhh', 'aaaahmazzzing', 'aaaajúa', 'aaaall', 'aaaalllllllll', 'aaaallright', 'aaaammaaazzinnnggg', 'aaaammazzing', 'aaaammmaaaaazzzziiiinnnngggg', 'aaaammmaaazing', 'aaaammmmmmazing', 'aaaamzing', 'aaaandd', 'aaaanddd', 'aaaannnd', 'aaaannnnd', 'aaaanyway', 'aaaawesoooome', 'aaaawwwesome', 'aaaawwwww', 'aaagggrrrrrrrhhhhh', 'aaahahaa', 'aaahhh', 'aaahhhhhhh', 'aaahhhs', 'aaahing', 'aaahmaaaazing', 'aaahmazing', 'aaahs', 'aaaiiiiight', 'aaall', 'aaallll', 'aaalways', 'aaamaazing', 'aaamazing', 'aaammaaazzziinnnngggg', 'aaammazing', 'aaammmazing', 'aaammmazinggggg', 'aaammmmaaazzziinnggg', 'aaannd', 'aaanndd', 'aaannndd', 'aaannnnd', 'aaanyway', 'aaare', 'aaawwee', 'aaawww', 'aaawwwwsome', 'aaay', 'aacross', 'aadbcc', 'aadorbsssssss', 'aagain', 'aahaan', 'aahed', 'aahh', 'aahs', 'aaid', 'aaiight', 'aaiiight', 'aaim', 'aaka', 'aaked', 'aaliyah', 'aall'])\n",
    "stopWords.extend(['aaaaaaaaaaaaahhhhhhh', 'aaaaaaaaaah', 'aaaaaaaahhhhmazing', 'aaaaaaaawesooooooooooooome', 'aaaaaaggghhh', 'aaaaaah', 'aaaaaawesome', 'aaaaahhh', 'aaaaahhhhhh', 'aaaahhhhhhs', 'aaaajua', 'aaaalmost', 'aaaamazzzzing', 'aaaammaaazzziiingggg', 'aaaarreeeee', 'aaagh', 'aaahed', 'aaahhhmaaaazing', 'aaahhhmazing', 'aaammaazzing', 'aaarghhh', 'aahaha', 'aahhhhhaaaahhhhh'])\n",
    "# 357"
   ]
  },
  {
   "cell_type": "code",
   "execution_count": 16,
   "metadata": {},
   "outputs": [],
   "source": [
    "vectorizer = CountVectorizer(stop_words=stopWords, strip_accents = 'ascii' )"
   ]
  },
  {
   "cell_type": "markdown",
   "metadata": {},
   "source": [
    "#### Vectorize Review Text"
   ]
  },
  {
   "cell_type": "code",
   "execution_count": 17,
   "metadata": {},
   "outputs": [
    {
     "name": "stdout",
     "output_type": "stream",
     "text": [
      "CPU times: user 45.4 s, sys: 508 ms, total: 45.9 s\n",
      "Wall time: 45.9 s\n"
     ]
    }
   ],
   "source": [
    "%%time\n",
    "X_train_term  = vectorizer.fit_transform(X_train['text'])"
   ]
  },
  {
   "cell_type": "code",
   "execution_count": 18,
   "metadata": {},
   "outputs": [
    {
     "data": {
      "text/plain": [
       "(646101, 137644)"
      ]
     },
     "execution_count": 18,
     "metadata": {},
     "output_type": "execute_result"
    }
   ],
   "source": [
    "X_train_term.shape"
   ]
  },
  {
   "cell_type": "code",
   "execution_count": 19,
   "metadata": {},
   "outputs": [],
   "source": [
    "ftrs = vectorizer.get_feature_names()"
   ]
  },
  {
   "cell_type": "code",
   "execution_count": 20,
   "metadata": {},
   "outputs": [
    {
     "data": {
      "text/plain": [
       "357"
      ]
     },
     "execution_count": 20,
     "metadata": {},
     "output_type": "execute_result"
    }
   ],
   "source": [
    "len(vectorizer.get_stop_words())"
   ]
  },
  {
   "cell_type": "markdown",
   "metadata": {},
   "source": [
    "---\n",
    "\n",
    "#### Mutlinomial NB - Train"
   ]
  },
  {
   "cell_type": "code",
   "execution_count": 21,
   "metadata": {},
   "outputs": [
    {
     "name": "stdout",
     "output_type": "stream",
     "text": [
      "CPU times: user 0 ns, sys: 0 ns, total: 0 ns\n",
      "Wall time: 14.1 µs\n"
     ]
    }
   ],
   "source": [
    "%%time\n",
    "M_NB_model = MultinomialNB()"
   ]
  },
  {
   "cell_type": "code",
   "execution_count": 22,
   "metadata": {},
   "outputs": [
    {
     "name": "stdout",
     "output_type": "stream",
     "text": [
      "CPU times: user 336 ms, sys: 52 ms, total: 388 ms\n",
      "Wall time: 383 ms\n"
     ]
    },
    {
     "data": {
      "text/plain": [
       "MultinomialNB(alpha=1.0, class_prior=None, fit_prior=True)"
      ]
     },
     "execution_count": 22,
     "metadata": {},
     "output_type": "execute_result"
    }
   ],
   "source": [
    "%%time\n",
    "M_NB_model.fit(X_train_term, y_train)"
   ]
  },
  {
   "cell_type": "markdown",
   "metadata": {},
   "source": [
    "---\n",
    "\n",
    "#### Multinomial NB - Test"
   ]
  },
  {
   "cell_type": "code",
   "execution_count": 23,
   "metadata": {},
   "outputs": [
    {
     "name": "stdout",
     "output_type": "stream",
     "text": [
      "CPU times: user 20.4 s, sys: 72 ms, total: 20.5 s\n",
      "Wall time: 20.5 s\n"
     ]
    }
   ],
   "source": [
    "%%time\n",
    "X_test_term = vectorizer.transform(X_test['text'])"
   ]
  },
  {
   "cell_type": "code",
   "execution_count": 24,
   "metadata": {},
   "outputs": [
    {
     "data": {
      "text/plain": [
       "(276901, 137644)"
      ]
     },
     "execution_count": 24,
     "metadata": {},
     "output_type": "execute_result"
    }
   ],
   "source": [
    "X_test_term.shape"
   ]
  },
  {
   "cell_type": "code",
   "execution_count": 25,
   "metadata": {},
   "outputs": [
    {
     "name": "stdout",
     "output_type": "stream",
     "text": [
      "CPU times: user 96 ms, sys: 16 ms, total: 112 ms\n",
      "Wall time: 110 ms\n"
     ]
    }
   ],
   "source": [
    "%%time\n",
    "pred = M_NB_model.predict(X_test_term)"
   ]
  },
  {
   "cell_type": "code",
   "execution_count": 26,
   "metadata": {},
   "outputs": [
    {
     "name": "stdout",
     "output_type": "stream",
     "text": [
      "             precision    recall  f1-score   support\n",
      "\n",
      "        0.0       0.90      0.91      0.91    220211\n",
      "        1.0       0.65      0.61      0.63     56690\n",
      "\n",
      "avg / total       0.85      0.85      0.85    276901\n",
      "\n"
     ]
    }
   ],
   "source": [
    "print(classification_report(y_test, pred))"
   ]
  },
  {
   "cell_type": "code",
   "execution_count": 27,
   "metadata": {},
   "outputs": [
    {
     "data": {
      "text/plain": [
       "0.6275600826476239"
      ]
     },
     "execution_count": 27,
     "metadata": {},
     "output_type": "execute_result"
    }
   ],
   "source": [
    "accuracy_score(y_test, pred)\n",
    "\n",
    "precision_score(y_test, pred)\n",
    "\n",
    "recall_score(y_test, pred)\n",
    "\n",
    "f1_score(y_test, pred)"
   ]
  },
  {
   "cell_type": "code",
   "execution_count": 28,
   "metadata": {},
   "outputs": [
    {
     "name": "stdout",
     "output_type": "stream",
     "text": [
      "Confusion matrix, without normalization\n"
     ]
    },
    {
     "data": {
      "image/png": "[encoded data removed]",
      "text/plain": [
       "<Figure size 432x288 with 1 Axes>"
      ]
     },
     "metadata": {},
     "output_type": "display_data"
    }
   ],
   "source": [
    "lbls = ['Non-vegFriendly', 'vegFriendly']\n",
    "cm = confusion_matrix(y_test, pred)\n",
    "\n",
    "plot_confusion_matrix(cm,lbls)\n",
    "\n",
    "# figName = 'MNB-CountVect-CMat'\n",
    "# print(\"saving...\" + figName)\n",
    "# plt.gcf()\n",
    "# plt.savefig(figName + '.png')\n",
    "# plt.savefig(figName + '.pdf')"
   ]
  },
  {
   "cell_type": "code",
   "execution_count": 29,
   "metadata": {},
   "outputs": [
    {
     "data": {
      "image/png": "[encoded data removed]",
      "text/plain": [
       "<Figure size 864x720 with 1 Axes>"
      ]
     },
     "metadata": {},
     "output_type": "display_data"
    }
   ],
   "source": [
    "fTitle = 'Multinomial NB with ~350 StopWords (Full)'\n",
    "mMetrics = True\n",
    "fName = 'MNB_357StWds_full_countV'\n",
    "plot_model_ROC(M_NB_model, X_test_term, y_test, fTitle, mMetrics)#, fName)"
   ]
  },
  {
   "cell_type": "markdown",
   "metadata": {},
   "source": [
    "---\n",
    "\n",
    "### Log odds of priors"
   ]
  },
  {
   "cell_type": "code",
   "execution_count": 30,
   "metadata": {},
   "outputs": [
    {
     "name": "stdout",
     "output_type": "stream",
     "text": [
      "\t-15.7105\t14             \t\t-4.0107\tfood           \n",
      "\t-15.7105\tTM             \t\t-4.6553\tgreat          \n",
      "\t-15.7105\taaaaaaahhhhhh  \t\t-4.9457\tservice        \n",
      "\t-15.7105\taaaamaaazing   \t\t-5.1159\tone            \n",
      "\t-15.7105\taaaayway       \t\t-5.1306\ttime           \n",
      "\t-15.7105\taakowa         \t\t-5.1555\tback           \n",
      "\t-15.7105\taalad          \t\t-5.1945\tgo             \n",
      "\t-15.7105\taalmon         \t\t-5.2389\tchicken        \n",
      "\t-15.7105\taalo           \t\t-5.2397\tget            \n",
      "\t-15.7105\taalways        \t\t-5.2947\twould          \n",
      "\t-15.7105\taalyssa        \t\t-5.3323\talso           \n",
      "\t-15.7105\taamaaazing     \t\t-5.3356\trestaurant     \n",
      "\t-15.7105\taamaazingly    \t\t-5.3512\tdelicious      \n",
      "\t-15.7105\taamco          \t\t-5.4212\tlove           \n",
      "\t-15.7105\taamsotto       \t\t-5.4334\tmenu           \n",
      "\t-15.7105\taamzing        \t\t-5.4398\tvegan          \n",
      "\t-15.7105\taandwiches     \t\t-5.4578\ttry            \n",
      "\t-15.7105\taangekleed     \t\t-5.5492\torder          \n",
      "\t-15.7105\taangenaam      \t\t-5.6044\tgot            \n",
      "\t-15.7105\taanji          \t\t-5.6586\tus             \n"
     ]
    }
   ],
   "source": [
    "show_most_informative_features(vectorizer, M_NB_model, 20)"
   ]
  },
  {
   "cell_type": "markdown",
   "metadata": {},
   "source": [
    "---\n",
    "### Ratio of posteriors for both classes"
   ]
  },
  {
   "cell_type": "code",
   "execution_count": 31,
   "metadata": {},
   "outputs": [
    {
     "name": "stdout",
     "output_type": "stream",
     "text": [
      "['injera' 'wac' 'vegenation' 'tsoynami' 'tsoynamis' 'lalibela' 'vegeway'\n",
      " 'gomen' 'grabbagreen' 'soynami' 'lunasagna' 'chopt' 'nami' 'wellness'\n",
      " 'brimstone' 'tfk' 'chakra' 'capastrami' 'tibs' 'eatt' 'brizza' 'pastoli'\n",
      " 'alicha' 'misir' 'moko' 'chima' 'yayo' 'mijana' 'violette' 'doan' 'tlt'\n",
      " 'thailicious' 'choolaah' 'tsom' 'taytu' 'cinnaholic' 'pitza' 'apteka'\n",
      " 'dotty' 'ethiopian' 'zizi' 'grabba' 'doro' 'lgbtq' 'hussong' 'abay' 'ycs'\n",
      " 'olivier' 'misoya' 'teff' 'yc' 'mvpita' 'yinzburgh' 'fosolia' 'quesas'\n",
      " 'tikil' 'adda' 'wheatgrass' 'rvc' 'merkato' 'fern' 'fuegos' 'kome'\n",
      " 'soynamis' 'graz' 'zoma' 'rawco' 'sambusas' 'mika' 'ipho' 'berbere'\n",
      " 'aladdins' 'sega' 'braggs' 'chikn' 'panevino' 'buraka' 'sonio' 'ganoosh'\n",
      " 'hemp' 'ikes' 'naji' 'kinoko' 'tofurky' 'treehouse' 'capistrami'\n",
      " 'sprinly' 'nandini' 'sambussa' 'kitfo' 'jovany' 'nekter' 'gandhi'\n",
      " 'kyklos' 'omnis' 'pastolis' 'greene' 'dumplinghaus' 'zenith' 'condesa'\n",
      " 'angara' 'yalla' 'ethiopians' 'mestizo' 'maca' 'shawerma' 'dobra'\n",
      " 'chopshop' 'goku' 'ladonia' 'bhushan' 'pitaya' 'pterodactyl' 'rani'\n",
      " 'everly' 'weil' 'burgerim' 'bbbq' 'nush' 'veggieat' 'bizness' 'nakamura'\n",
      " 'dougan' 'gluuteny' 'arieanna' 'cotti' 'quiessence' 'hussongs' 'aladdin'\n",
      " 'nonvegan' 'kibbie' 'sambusa' 'davor' 'zizis' 'burtons' 'bowlology'\n",
      " 'genghi' 'taboule' 'freshii' 'acai' 'turban' 'dowry' 'wunderhund' 'neche'\n",
      " 'wafflewich' 'carob' 'misr' 'dorowat' 'yebeg' 'swani' 'yh' 'lyfe'\n",
      " 'panacea' 'veganbites' 'franktuary' 'kye' 'tadig' 'tarako' 'ayib'\n",
      " 'nojito' 'gratine' 'runnelstone' 'deirdre' 'yekik' 'parmageddon' 'fuma'\n",
      " 'butterbeer' 'cheba' 'optima' 'udupi' 'tahini' 'zoes' 'tediberto'\n",
      " 'treehuggers' 'kosmic' 'namastay' 'ceebee' 'egglessrolls' 'sambusek'\n",
      " 'vimto' 'freshbox' 'injeera' 'dorowot' 'uvjtslktguglzencja' 'ritesh'\n",
      " 'dolmas' 'souplantation' 'pasties' 'ethiopia' 'vegenaise' 'tigra'\n",
      " 'meateater' 'inguday' 'abides' 'qwik' 'dwg' 'griefo' 'oggie' 'daawat']\n"
     ]
    }
   ],
   "source": [
    "topWords(M_NB_model, ftrs, 50)"
   ]
  },
  {
   "cell_type": "markdown",
   "metadata": {},
   "source": [
    "---\n",
    "\n",
    "### False Positives\n",
    "\n",
    "Reviews for establishments that are not tagged as 'Veggie Friendly' but predicted that they are. \n",
    "-  It seems that the reviews here speak about the **food** more than about the establishment, which helps the model fish out establishments that are 'Veggie Friendly'.\n",
    "-  **We were able to find Veggie-Freindly places without a tag.**"
   ]
  },
  {
   "cell_type": "code",
   "execution_count": 32,
   "metadata": {},
   "outputs": [],
   "source": [
    "mask = y_test.index\n",
    "\n",
    "# true flag (T/F): negative class\n",
    "t_flag = y_test == 0\n",
    "\n",
    "# predicted flag (T/F): positive class\n",
    "p_flag = pred == 1"
   ]
  },
  {
   "cell_type": "code",
   "execution_count": 33,
   "metadata": {},
   "outputs": [],
   "source": [
    "cX_test = X_test.copy()"
   ]
  },
  {
   "cell_type": "code",
   "execution_count": 34,
   "metadata": {},
   "outputs": [],
   "source": [
    "cX_test.drop(['Thai', 'Italian', 'Indian', 'Chinese', 'Mexican', 'Text_length'], axis=1, inplace=True)"
   ]
  },
  {
   "cell_type": "code",
   "execution_count": 35,
   "metadata": {},
   "outputs": [],
   "source": [
    "cX_test['prob'] = M_NB_model.predict_proba(X_test_term)[:,1]"
   ]
  },
  {
   "cell_type": "code",
   "execution_count": 36,
   "metadata": {},
   "outputs": [
    {
     "data": {
      "text/html": [
       "<div>\n",
       "<style scoped>\n",
       "    .dataframe tbody tr th:only-of-type {\n",
       "        vertical-align: middle;\n",
       "    }\n",
       "\n",
       "    .dataframe tbody tr th {\n",
       "        vertical-align: top;\n",
       "    }\n",
       "\n",
       "    .dataframe thead th {\n",
       "        text-align: right;\n",
       "    }\n",
       "</style>\n",
       "<table border=\"1\" class=\"dataframe\">\n",
       "  <thead>\n",
       "    <tr style=\"text-align: right;\">\n",
       "      <th></th>\n",
       "      <th>business_id</th>\n",
       "      <th>name</th>\n",
       "      <th>review_id</th>\n",
       "      <th>stars</th>\n",
       "      <th>date</th>\n",
       "      <th>text</th>\n",
       "      <th>useful</th>\n",
       "      <th>funny</th>\n",
       "      <th>cool</th>\n",
       "      <th>city</th>\n",
       "      <th>state</th>\n",
       "      <th>prob</th>\n",
       "    </tr>\n",
       "  </thead>\n",
       "  <tbody>\n",
       "    <tr>\n",
       "      <th>583528</th>\n",
       "      <td>of4V8nfW7GwJ03tLDdrOlA</td>\n",
       "      <td>Barrio Cafe</td>\n",
       "      <td>AAgiaPli9LrGaR34Z6aDqA</td>\n",
       "      <td>1</td>\n",
       "      <td>2015-02-18</td>\n",
       "      <td>OK. At least get the food prep right!\\n\\nWhile...</td>\n",
       "      <td>5</td>\n",
       "      <td>1</td>\n",
       "      <td>4</td>\n",
       "      <td>Phoenix</td>\n",
       "      <td>AZ</td>\n",
       "      <td>1.364579e-04</td>\n",
       "    </tr>\n",
       "    <tr>\n",
       "      <th>479967</th>\n",
       "      <td>nUpz0YiBsOK7ff9k3vUJ3A</td>\n",
       "      <td>Buddy V's Ristorante</td>\n",
       "      <td>4lMlilpK-I0eOM6nXjdT5w</td>\n",
       "      <td>5</td>\n",
       "      <td>2017-01-22</td>\n",
       "      <td>Wow. This place is always great. The service i...</td>\n",
       "      <td>0</td>\n",
       "      <td>0</td>\n",
       "      <td>0</td>\n",
       "      <td>Las Vegas</td>\n",
       "      <td>NV</td>\n",
       "      <td>1.231998e-01</td>\n",
       "    </tr>\n",
       "    <tr>\n",
       "      <th>239772</th>\n",
       "      <td>Hqs4YNST_ZHbshwyi4bnsQ</td>\n",
       "      <td>Old School Pizzeria</td>\n",
       "      <td>omQEPFvy0Cq0NR7n76SQXw</td>\n",
       "      <td>1</td>\n",
       "      <td>2014-09-02</td>\n",
       "      <td>Really disappointed!  We have been here before...</td>\n",
       "      <td>0</td>\n",
       "      <td>1</td>\n",
       "      <td>0</td>\n",
       "      <td>North Las Vegas</td>\n",
       "      <td>NV</td>\n",
       "      <td>3.007002e-13</td>\n",
       "    </tr>\n",
       "    <tr>\n",
       "      <th>365369</th>\n",
       "      <td>gotvSVEaPn_qHasAU33ejg</td>\n",
       "      <td>Ruchi Vegetarian South Indian Cuisine</td>\n",
       "      <td>44DXrsTM_OoqbJ1XdJFS5w</td>\n",
       "      <td>5</td>\n",
       "      <td>2016-08-29</td>\n",
       "      <td>Always good food and excellent personal servic...</td>\n",
       "      <td>0</td>\n",
       "      <td>0</td>\n",
       "      <td>0</td>\n",
       "      <td>Chandler</td>\n",
       "      <td>AZ</td>\n",
       "      <td>9.999195e-01</td>\n",
       "    </tr>\n",
       "    <tr>\n",
       "      <th>739002</th>\n",
       "      <td>t6ZIBNrQjvtwor8W-u3sUg</td>\n",
       "      <td>Chop Chop Wok</td>\n",
       "      <td>eR4js7q_FvTYNEsjcK4cXA</td>\n",
       "      <td>5</td>\n",
       "      <td>2017-02-04</td>\n",
       "      <td>This place is amazing. It's not pricey at all,...</td>\n",
       "      <td>0</td>\n",
       "      <td>0</td>\n",
       "      <td>0</td>\n",
       "      <td>Las Vegas</td>\n",
       "      <td>NV</td>\n",
       "      <td>1.005816e-01</td>\n",
       "    </tr>\n",
       "  </tbody>\n",
       "</table>\n",
       "</div>"
      ],
      "text/plain": [
       "                   business_id                                   name  \\\n",
       "583528  of4V8nfW7GwJ03tLDdrOlA                            Barrio Cafe   \n",
       "479967  nUpz0YiBsOK7ff9k3vUJ3A                   Buddy V's Ristorante   \n",
       "239772  Hqs4YNST_ZHbshwyi4bnsQ                    Old School Pizzeria   \n",
       "365369  gotvSVEaPn_qHasAU33ejg  Ruchi Vegetarian South Indian Cuisine   \n",
       "739002  t6ZIBNrQjvtwor8W-u3sUg                          Chop Chop Wok   \n",
       "\n",
       "                     review_id  stars       date  \\\n",
       "583528  AAgiaPli9LrGaR34Z6aDqA      1 2015-02-18   \n",
       "479967  4lMlilpK-I0eOM6nXjdT5w      5 2017-01-22   \n",
       "239772  omQEPFvy0Cq0NR7n76SQXw      1 2014-09-02   \n",
       "365369  44DXrsTM_OoqbJ1XdJFS5w      5 2016-08-29   \n",
       "739002  eR4js7q_FvTYNEsjcK4cXA      5 2017-02-04   \n",
       "\n",
       "                                                     text  useful  funny  \\\n",
       "583528  OK. At least get the food prep right!\\n\\nWhile...       5      1   \n",
       "479967  Wow. This place is always great. The service i...       0      0   \n",
       "239772  Really disappointed!  We have been here before...       0      1   \n",
       "365369  Always good food and excellent personal servic...       0      0   \n",
       "739002  This place is amazing. It's not pricey at all,...       0      0   \n",
       "\n",
       "        cool             city state          prob  \n",
       "583528     4          Phoenix    AZ  1.364579e-04  \n",
       "479967     0        Las Vegas    NV  1.231998e-01  \n",
       "239772     0  North Las Vegas    NV  3.007002e-13  \n",
       "365369     0         Chandler    AZ  9.999195e-01  \n",
       "739002     0        Las Vegas    NV  1.005816e-01  "
      ]
     },
     "execution_count": 36,
     "metadata": {},
     "output_type": "execute_result"
    }
   ],
   "source": [
    "cX_test.head()"
   ]
  },
  {
   "cell_type": "code",
   "execution_count": 37,
   "metadata": {},
   "outputs": [
    {
     "data": {
      "text/html": [
       "<div>\n",
       "<style scoped>\n",
       "    .dataframe tbody tr th:only-of-type {\n",
       "        vertical-align: middle;\n",
       "    }\n",
       "\n",
       "    .dataframe tbody tr th {\n",
       "        vertical-align: top;\n",
       "    }\n",
       "\n",
       "    .dataframe thead th {\n",
       "        text-align: right;\n",
       "    }\n",
       "</style>\n",
       "<table border=\"1\" class=\"dataframe\">\n",
       "  <thead>\n",
       "    <tr style=\"text-align: right;\">\n",
       "      <th></th>\n",
       "      <th>name</th>\n",
       "      <th>text</th>\n",
       "      <th>city</th>\n",
       "      <th>prob</th>\n",
       "    </tr>\n",
       "  </thead>\n",
       "  <tbody>\n",
       "    <tr>\n",
       "      <th>2378</th>\n",
       "      <td>Udipi Cafe</td>\n",
       "      <td>This has historically been my favorite restaur...</td>\n",
       "      <td>Monroeville</td>\n",
       "      <td>1.0</td>\n",
       "    </tr>\n",
       "    <tr>\n",
       "      <th>363761</th>\n",
       "      <td>Pastries N Chaat</td>\n",
       "      <td>This i believe is their fourth valley location...</td>\n",
       "      <td>Tempe</td>\n",
       "      <td>1.0</td>\n",
       "    </tr>\n",
       "    <tr>\n",
       "      <th>827601</th>\n",
       "      <td>India Palace</td>\n",
       "      <td>India Palace is the best Indian Restaurant to ...</td>\n",
       "      <td>Las Vegas</td>\n",
       "      <td>1.0</td>\n",
       "    </tr>\n",
       "    <tr>\n",
       "      <th>366697</th>\n",
       "      <td>Mount Everest India's Cuisine</td>\n",
       "      <td>My favorite Indian restaurant (Gaylord) is now...</td>\n",
       "      <td>Las Vegas</td>\n",
       "      <td>1.0</td>\n",
       "    </tr>\n",
       "    <tr>\n",
       "      <th>412820</th>\n",
       "      <td>Mount Everest India's Cuisine</td>\n",
       "      <td>When I saw Mt Everest getting ready to open I ...</td>\n",
       "      <td>Las Vegas</td>\n",
       "      <td>1.0</td>\n",
       "    </tr>\n",
       "  </tbody>\n",
       "</table>\n",
       "</div>"
      ],
      "text/plain": [
       "                                 name  \\\n",
       "2378                       Udipi Cafe   \n",
       "363761               Pastries N Chaat   \n",
       "827601                   India Palace   \n",
       "366697  Mount Everest India's Cuisine   \n",
       "412820  Mount Everest India's Cuisine   \n",
       "\n",
       "                                                     text         city  prob  \n",
       "2378    This has historically been my favorite restaur...  Monroeville   1.0  \n",
       "363761  This i believe is their fourth valley location...        Tempe   1.0  \n",
       "827601  India Palace is the best Indian Restaurant to ...    Las Vegas   1.0  \n",
       "366697  My favorite Indian restaurant (Gaylord) is now...    Las Vegas   1.0  \n",
       "412820  When I saw Mt Everest getting ready to open I ...    Las Vegas   1.0  "
      ]
     },
     "execution_count": 37,
     "metadata": {},
     "output_type": "execute_result"
    }
   ],
   "source": [
    "bus = cX_test.loc[p_flag & t_flag,['name', 'text', 'city', 'prob']].copy()\n",
    "\n",
    "bus = bus.sort_values(by='prob', axis=0, ascending=False)\n",
    "\n",
    "bus.head()"
   ]
  },
  {
   "cell_type": "code",
   "execution_count": 38,
   "metadata": {},
   "outputs": [
    {
     "data": {
      "text/plain": [
       "\"This has historically been my favorite restaurant in Pittsburgh. Unfortunately I eat a diet that isn't compatible with the carb-heavy S. Indian diet, but that doesn't change the fact that I will occasionally cheat and have a good meal here, and I will never stop praising it!\\n\\nThere is no 'atmosphere', unless you count the fact that it looks like your average restaurant in Chennai. It's clean, spartan diner booths, and up until a couple years ago didn't even use silverware (plastic forks and paper napkins in a cup at every table). But the food is what makes this restaurant amazing.\\n\\nMy favorite dish is the vegetable pullao, which is a mixture of rice and vegetables with spices served with raita. All of the dosas (big thin crepes) are wonderful, and it's difficult to choose a favorite-- you can't really go wrong. All of the chutneys are amazing, though the hari (green cilantro chutney) is the best in my opinion. The curries are good, too, but definitely not the strong point of the restaurant.\\n\\nUdipi has some of the best appetizers around. The best thing to do is order the appetizer sampler and share it with someone-- the combination of samosas, onion pakora (like onion rings), potato pakora, chili pakora, etc. is deep fried heaven. The idli are a healthier option, and they're always cooked to perfection. Light and fluffy and filling.\\n\\nThe food is very cheap and high quality. The waitstaff might seem a little gruff at first, but they're all really great, friendly people whom I've gotten to know over the years. Be prepared to wait if you choose to go during peak hours on weekends, after temple or during Hindu holidays. During off hours, there is never a wait, but I have waited up to an hour for a table during peak times. \\n\\nMake sure to check out the Indian goods import store, Shingar, next door for Bollywood films to rent or purchase, saris, beautiful jewelry and religious decor.\""
      ]
     },
     "execution_count": 38,
     "metadata": {},
     "output_type": "execute_result"
    }
   ],
   "source": [
    "bus['text'].iloc[0]"
   ]
  },
  {
   "cell_type": "code",
   "execution_count": null,
   "metadata": {},
   "outputs": [],
   "source": []
  },
  {
   "cell_type": "markdown",
   "metadata": {},
   "source": [
    "---\n",
    "\n",
    "#### Prediction: my reviews"
   ]
  },
  {
   "cell_type": "code",
   "execution_count": 39,
   "metadata": {},
   "outputs": [
    {
     "data": {
      "text/plain": [
       "array([[0.80626958, 0.19373042]])"
      ]
     },
     "execution_count": 39,
     "metadata": {},
     "output_type": "execute_result"
    }
   ],
   "source": [
    "nr_rev ='the tacos were great the carne asada was very yummy and the cheese was\\\n",
    "very stringy. yum. would go back great tacos and cold beers'\n",
    "\n",
    "vectorizer.transform([nr_rev])\n",
    "\n",
    "M_NB_model.predict_proba(vectorizer.transform([nr_rev]))"
   ]
  },
  {
   "cell_type": "code",
   "execution_count": 40,
   "metadata": {},
   "outputs": [
    {
     "data": {
      "text/plain": [
       "array([[0.05172995, 0.94827005]])"
      ]
     },
     "execution_count": 40,
     "metadata": {},
     "output_type": "execute_result"
    }
   ],
   "source": [
    "nr_rev ='the masala was great very yummy indeed, i wish the naan was not cold but the paneer and garlic rice'\n",
    "\n",
    "vectorizer.transform([nr_rev])\n",
    "\n",
    "M_NB_model.predict_proba(vectorizer.transform([nr_rev]))"
   ]
  },
  {
   "cell_type": "code",
   "execution_count": 41,
   "metadata": {},
   "outputs": [
    {
     "data": {
      "text/plain": [
       "array([[0.96240753, 0.03759247]])"
      ]
     },
     "execution_count": 41,
     "metadata": {},
     "output_type": "execute_result"
    }
   ],
   "source": [
    "nr_rev ='the cheese pizza and garlic bread were bleh. wish the beer was colder and the service really sucked.\\\n",
    "i would say stay away not worth it did not taste fresh. even the salad was wilted'\n",
    "\n",
    "vectorizer.transform([nr_rev])\n",
    "\n",
    "M_NB_model.predict_proba(vectorizer.transform([nr_rev]))"
   ]
  },
  {
   "cell_type": "code",
   "execution_count": null,
   "metadata": {},
   "outputs": [],
   "source": []
  },
  {
   "cell_type": "code",
   "execution_count": null,
   "metadata": {},
   "outputs": [],
   "source": []
  },
  {
   "cell_type": "markdown",
   "metadata": {},
   "source": [
    "---\n",
    "\n",
    "### False Negative\n",
    "\n",
    "Reviews for establishments that are Tagged as 'Veggie Friendly' but predicted as not being. \n",
    "-  It seems that the reviews here don't speak about the food, but more so about the establishment."
   ]
  },
  {
   "cell_type": "code",
   "execution_count": 42,
   "metadata": {},
   "outputs": [],
   "source": [
    "mask = y_test.index\n",
    "\n",
    "# true flag (T/F): positive class\n",
    "t_flag = y_test == 1\n",
    "\n",
    "# predicted flag (T/F): negative class\n",
    "p_flag = pred == 0"
   ]
  },
  {
   "cell_type": "code",
   "execution_count": 43,
   "metadata": {},
   "outputs": [
    {
     "data": {
      "text/html": [
       "<div>\n",
       "<style scoped>\n",
       "    .dataframe tbody tr th:only-of-type {\n",
       "        vertical-align: middle;\n",
       "    }\n",
       "\n",
       "    .dataframe tbody tr th {\n",
       "        vertical-align: top;\n",
       "    }\n",
       "\n",
       "    .dataframe thead th {\n",
       "        text-align: right;\n",
       "    }\n",
       "</style>\n",
       "<table border=\"1\" class=\"dataframe\">\n",
       "  <thead>\n",
       "    <tr style=\"text-align: right;\">\n",
       "      <th></th>\n",
       "      <th>name</th>\n",
       "      <th>text</th>\n",
       "      <th>city</th>\n",
       "      <th>prob</th>\n",
       "    </tr>\n",
       "  </thead>\n",
       "  <tbody>\n",
       "    <tr>\n",
       "      <th>148482</th>\n",
       "      <td>Mellow Mushroom</td>\n",
       "      <td>Beer seems very pricey, but they have a ton of...</td>\n",
       "      <td>Phoenix</td>\n",
       "      <td>0.499962</td>\n",
       "    </tr>\n",
       "    <tr>\n",
       "      <th>379390</th>\n",
       "      <td>Blanco Tacos + Tequila</td>\n",
       "      <td>Where do I start. Blanco tacos happy hour was ...</td>\n",
       "      <td>Scottsdale</td>\n",
       "      <td>0.499952</td>\n",
       "    </tr>\n",
       "    <tr>\n",
       "      <th>241922</th>\n",
       "      <td>Weera Thai Restaurant</td>\n",
       "      <td>Superb. Clean. The Take out containers are wor...</td>\n",
       "      <td>Las Vegas</td>\n",
       "      <td>0.499939</td>\n",
       "    </tr>\n",
       "    <tr>\n",
       "      <th>5966</th>\n",
       "      <td>Dhaba Indian Bistro</td>\n",
       "      <td>Excellent food, best Indian in Madison that I'...</td>\n",
       "      <td>Middleton</td>\n",
       "      <td>0.499920</td>\n",
       "    </tr>\n",
       "    <tr>\n",
       "      <th>736572</th>\n",
       "      <td>Everly</td>\n",
       "      <td>This place rocked. They even gave us free arti...</td>\n",
       "      <td>Madison</td>\n",
       "      <td>0.499906</td>\n",
       "    </tr>\n",
       "    <tr>\n",
       "      <th>777147</th>\n",
       "      <td>True Food Kitchen</td>\n",
       "      <td>Cool place. Okay food. The chef needs to learn...</td>\n",
       "      <td>Phoenix</td>\n",
       "      <td>0.499750</td>\n",
       "    </tr>\n",
       "    <tr>\n",
       "      <th>596328</th>\n",
       "      <td>Spirit Organic Cafe</td>\n",
       "      <td>Went in and was ignored pretty much. If they h...</td>\n",
       "      <td>Gilbert</td>\n",
       "      <td>0.499682</td>\n",
       "    </tr>\n",
       "    <tr>\n",
       "      <th>554482</th>\n",
       "      <td>Urban Turban</td>\n",
       "      <td>Wow, very tasty food. From a local, this place...</td>\n",
       "      <td>Las Vegas</td>\n",
       "      <td>0.499580</td>\n",
       "    </tr>\n",
       "    <tr>\n",
       "      <th>719753</th>\n",
       "      <td>Cafe Forte</td>\n",
       "      <td>This is an awesome restaurant in Downtown Scot...</td>\n",
       "      <td>Scottsdale</td>\n",
       "      <td>0.499540</td>\n",
       "    </tr>\n",
       "    <tr>\n",
       "      <th>137015</th>\n",
       "      <td>Joyride Taco House</td>\n",
       "      <td>Food is delicious and atmosphere is relaxed. T...</td>\n",
       "      <td>Phoenix</td>\n",
       "      <td>0.499520</td>\n",
       "    </tr>\n",
       "  </tbody>\n",
       "</table>\n",
       "</div>"
      ],
      "text/plain": [
       "                          name  \\\n",
       "148482         Mellow Mushroom   \n",
       "379390  Blanco Tacos + Tequila   \n",
       "241922   Weera Thai Restaurant   \n",
       "5966       Dhaba Indian Bistro   \n",
       "736572                  Everly   \n",
       "777147       True Food Kitchen   \n",
       "596328     Spirit Organic Cafe   \n",
       "554482            Urban Turban   \n",
       "719753              Cafe Forte   \n",
       "137015      Joyride Taco House   \n",
       "\n",
       "                                                     text        city  \\\n",
       "148482  Beer seems very pricey, but they have a ton of...     Phoenix   \n",
       "379390  Where do I start. Blanco tacos happy hour was ...  Scottsdale   \n",
       "241922  Superb. Clean. The Take out containers are wor...   Las Vegas   \n",
       "5966    Excellent food, best Indian in Madison that I'...   Middleton   \n",
       "736572  This place rocked. They even gave us free arti...     Madison   \n",
       "777147  Cool place. Okay food. The chef needs to learn...     Phoenix   \n",
       "596328  Went in and was ignored pretty much. If they h...     Gilbert   \n",
       "554482  Wow, very tasty food. From a local, this place...   Las Vegas   \n",
       "719753  This is an awesome restaurant in Downtown Scot...  Scottsdale   \n",
       "137015  Food is delicious and atmosphere is relaxed. T...     Phoenix   \n",
       "\n",
       "            prob  \n",
       "148482  0.499962  \n",
       "379390  0.499952  \n",
       "241922  0.499939  \n",
       "5966    0.499920  \n",
       "736572  0.499906  \n",
       "777147  0.499750  \n",
       "596328  0.499682  \n",
       "554482  0.499580  \n",
       "719753  0.499540  \n",
       "137015  0.499520  "
      ]
     },
     "execution_count": 43,
     "metadata": {},
     "output_type": "execute_result"
    }
   ],
   "source": [
    "bus = cX_test.loc[p_flag & t_flag,['name', 'text', 'city', 'prob']].copy()\n",
    "\n",
    "bus = bus.sort_values(by='prob', axis=0, ascending=False)\n",
    "bus.head(10)"
   ]
  },
  {
   "cell_type": "code",
   "execution_count": null,
   "metadata": {},
   "outputs": [],
   "source": []
  },
  {
   "cell_type": "code",
   "execution_count": 44,
   "metadata": {},
   "outputs": [
    {
     "data": {
      "text/plain": [
       "\"Beer seems very pricey, but they have a ton of different kinds on tap.  \\nThe food is absolutely excellent!  I love that they have baked wings.  The pizza my husband and I created (buffulo chicken, red sauce, and extra buffalo sauce) was awesome.  The crust is the best part, so if you're a person who usually skips that part, I highly recommend trying it!  It's got the perfect flavor with just a hint of sweetness to it.  It's really different from anything else I've had!\""
      ]
     },
     "execution_count": 44,
     "metadata": {},
     "output_type": "execute_result"
    }
   ],
   "source": [
    "bus['text'].iloc[0]"
   ]
  },
  {
   "cell_type": "code",
   "execution_count": 45,
   "metadata": {},
   "outputs": [
    {
     "data": {
      "text/plain": [
       "'Where do I start. Blanco tacos happy hour was exceptional. The chicken tacos were sensational. Those shrimp Po boy sandwiches......WOW! The bartender kept our shot glasses full. The drinks were top notch. I recommend any and everyone to check  out Blanco Tacos  for hip happening music and a really enjoy the great Mexican cuisine.'"
      ]
     },
     "execution_count": 45,
     "metadata": {},
     "output_type": "execute_result"
    }
   ],
   "source": [
    "bus['text'].iloc[1]"
   ]
  },
  {
   "cell_type": "code",
   "execution_count": 46,
   "metadata": {},
   "outputs": [
    {
     "data": {
      "text/plain": [
       "\"Wow, very tasty food. From a local, this place use to be very busy, and though it's not now (sunday) sure is tasty and flavorful. I had level  spice and that was enough. Whew...hot but good.\\n\\nWill definitely come again.\""
      ]
     },
     "execution_count": 46,
     "metadata": {},
     "output_type": "execute_result"
    }
   ],
   "source": [
    "bus['text'].iloc[7]"
   ]
  },
  {
   "cell_type": "code",
   "execution_count": null,
   "metadata": {},
   "outputs": [],
   "source": []
  }
 ],
 "metadata": {
  "kernelspec": {
   "display_name": "Python 3",
   "language": "python",
   "name": "python3"
  },
  "language_info": {
   "codemirror_mode": {
    "name": "ipython",
    "version": 3
   },
   "file_extension": ".py",
   "mimetype": "text/x-python",
   "name": "python",
   "nbconvert_exporter": "python",
   "pygments_lexer": "ipython3",
   "version": "3.6.4"
  }
 },
 "nbformat": 4,
 "nbformat_minor": 2
}
