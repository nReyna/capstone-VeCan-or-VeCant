{
 "cells": [
  {
   "cell_type": "code",
   "execution_count": 1,
   "metadata": {},
   "outputs": [],
   "source": [
    "import numpy   as np\n",
    "import pandas  as pd\n",
    "\n",
    "import seaborn as sns\n",
    "import matplotlib.pyplot as plt\n",
    "%matplotlib inline\n",
    "\n",
    "from sklearn.model_selection import train_test_split\n",
    "from sklearn.feature_extraction.text import TfidfVectorizer\n",
    "from sklearn.preprocessing   import scale, StandardScaler\n",
    "from sklearn.decomposition   import PCA, TruncatedSVD\n",
    "\n",
    "import pickle"
   ]
  },
  {
   "cell_type": "markdown",
   "metadata": {},
   "source": [
    "---\n",
    "\n",
    "### Function Definition"
   ]
  },
  {
   "cell_type": "code",
   "execution_count": 2,
   "metadata": {},
   "outputs": [],
   "source": [
    "def catPred(kmObj, gTrue, pred): \n",
    "    '''\n",
    "        kmObjn: a kmeans object\n",
    "        gTrue: true categories (ground truth)\n",
    "    '''\n",
    "    fig, ax = plt.subplots(nrows=1, ncols=5, sharey=True, figsize=(50,12))\n",
    "\n",
    "    numClusters = kmObj.get_params()['n_clusters']\n",
    "    \n",
    "    for i in range(numClusters):\n",
    "        mask = (pred == i)\n",
    "        val = np.unique( gTrue[mask], return_counts=True)\n",
    "        lbl = val[0]\n",
    "        ht  = val[1] / val[1].sum()\n",
    "        ax[i].bar(range(numClusters), height=ht, tick_label = lbl)\n",
    "        ax[i].set_xticklabels(lbl, fontsize=20)\n",
    "        ax[i].set_title(i, fontsize=20)\n",
    "\n",
    "        ax[0].set_yticklabels([\"0\", \"0.2\", \"0.4\", \"0.6\", \"0.8\"], fontsize=20)\n",
    "        ax[0].set_ylabel(\"Proportion\", fontsize = 32);\n",
    "        plt.suptitle(\"Proportion of Categories in each Clusterc\", fontsize = 32);"
   ]
  },
  {
   "cell_type": "code",
   "execution_count": 3,
   "metadata": {},
   "outputs": [],
   "source": [
    "def top_pred_words(kmObj, X_df, ftrs_list, pred, num_reviews=5, num_words=5): \n",
    "    '''\n",
    "        kmObjn: a kmeans object\n",
    "        gTrue: true categories (ground truth)\n",
    "    '''\n",
    "    \n",
    "    numClusters = kmObj.get_params()['n_clusters']\n",
    "    \n",
    "    for i in range(numClusters):\n",
    "        mask = (pred == i)\n",
    "        \n",
    "        rev_ind = [ind for ind, flag in enumerate(mask) if flag]\n",
    "        \n",
    "        sample_reviews = np.random.choice(rev_ind, num_reviews, replace=False)\n",
    "        \n",
    "        print(\"\\nCluster \", i, \" =====\")\n",
    "        for review in sample_reviews:\n",
    "            indx = X_df[review,:].indices\n",
    "            data = X_df[review,:].data\n",
    "            \n",
    "            termsVals = indx[data.argsort()][-num_words:]\n",
    "            \n",
    "            terms = []\n",
    "            for w in termsVals:\n",
    "                terms.append(ftrs_list[w])\n",
    "            print(terms)"
   ]
  },
  {
   "cell_type": "code",
   "execution_count": 67,
   "metadata": {},
   "outputs": [],
   "source": [
    "def center_top_words(kmeans_model, svd_model, ftrs, num_words=10):\n",
    "    '''\n",
    "        Print out the top num_words for each of the centroids in the kmeans model, \n",
    "        after we return the centroids back in 'word space' using the inverse SVD \n",
    "        transformation\n",
    "        \n",
    "        input:\n",
    "        kmeans_model -  kmeans model object\n",
    "        svd_model - svd model object\n",
    "        ftrs - the features from the TFIDF vectorizer\n",
    "        num_words - number of words to display        \n",
    "    '''\n",
    "        \n",
    "    num_words += 1\n",
    "    \n",
    "    ftrs_array = np.array(ftrs)\n",
    "\n",
    "    centroids = svd_model.inverse_transform(kmeans_model.cluster_centers_)\n",
    "\n",
    "    for c in centroids:\n",
    "        ind = np.abs(c).argsort()\n",
    "        ind = ind[-1:-num_words:-1]\n",
    "        print(ftrs_array[ind], \"\\n\")"
   ]
  },
  {
   "cell_type": "code",
   "execution_count": null,
   "metadata": {},
   "outputs": [],
   "source": []
  },
  {
   "cell_type": "markdown",
   "metadata": {},
   "source": [
    "---\n",
    "\n",
    "### Large Pickled Dataset\n",
    "\n"
   ]
  },
  {
   "cell_type": "code",
   "execution_count": 4,
   "metadata": {},
   "outputs": [],
   "source": [
    "df = pd.read_pickle(\"fiveCats.pkl\")"
   ]
  },
  {
   "cell_type": "code",
   "execution_count": 5,
   "metadata": {},
   "outputs": [],
   "source": [
    "X_df = df.drop('category', axis=1)\n",
    "y_df = df['category']"
   ]
  },
  {
   "cell_type": "code",
   "execution_count": 6,
   "metadata": {},
   "outputs": [],
   "source": [
    "X_train, X_test, y_train, y_test = train_test_split(X_df, y_df, test_size=0.3)"
   ]
  },
  {
   "cell_type": "code",
   "execution_count": 7,
   "metadata": {},
   "outputs": [
    {
     "name": "stdout",
     "output_type": "stream",
     "text": [
      "(517403, 11) (221745, 11)\n"
     ]
    }
   ],
   "source": [
    "print( X_train.shape, X_test.shape)"
   ]
  },
  {
   "cell_type": "markdown",
   "metadata": {},
   "source": [
    "---\n",
    "\n",
    "### Manipulate data sets"
   ]
  },
  {
   "cell_type": "code",
   "execution_count": 8,
   "metadata": {},
   "outputs": [],
   "source": [
    "m_termTrans = pickle.load(open('pkl_tfidf.p','rb'))\n",
    "m_svd = pickle.load(open('pkl_svd.p','rb'))\n",
    "m_kmeans = pickle.load(open('pkl_kmeans.p','rb'))"
   ]
  },
  {
   "cell_type": "markdown",
   "metadata": {},
   "source": [
    "#### Vectorize Review Text"
   ]
  },
  {
   "cell_type": "code",
   "execution_count": 9,
   "metadata": {},
   "outputs": [],
   "source": [
    "X_train_term  = m_termTrans.transform(X_train['text'])"
   ]
  },
  {
   "cell_type": "code",
   "execution_count": 10,
   "metadata": {},
   "outputs": [
    {
     "data": {
      "text/plain": [
       "(517403, 153378)"
      ]
     },
     "execution_count": 10,
     "metadata": {},
     "output_type": "execute_result"
    }
   ],
   "source": [
    "X_train_term.shape"
   ]
  },
  {
   "cell_type": "code",
   "execution_count": 11,
   "metadata": {},
   "outputs": [],
   "source": [
    "ftrs = m_termTrans.get_feature_names()"
   ]
  },
  {
   "cell_type": "markdown",
   "metadata": {},
   "source": [
    "#### Reduce Dimensionality"
   ]
  },
  {
   "cell_type": "code",
   "execution_count": 12,
   "metadata": {},
   "outputs": [],
   "source": [
    "X_train_term_svd = m_svd.transform(X_train_term)"
   ]
  },
  {
   "cell_type": "code",
   "execution_count": 13,
   "metadata": {},
   "outputs": [
    {
     "data": {
      "image/png": "[encoded data removed]",
      "text/plain": [
       "<Figure size 432x288 with 1 Axes>"
      ]
     },
     "metadata": {},
     "output_type": "display_data"
    }
   ],
   "source": [
    "s = m_svd.singular_values_\n",
    "\n",
    "x = [i+1 for i in range(len(s))]\n",
    "plt.plot(x, s, marker='o')\n",
    "plt.xlabel(\"Singular Values\")\n",
    "plt.ylabel(\"Value\");"
   ]
  },
  {
   "cell_type": "markdown",
   "metadata": {},
   "source": [
    "##### Percentage of Variance Explained"
   ]
  },
  {
   "cell_type": "code",
   "execution_count": 14,
   "metadata": {},
   "outputs": [
    {
     "data": {
      "text/plain": [
       "3.561945735071194"
      ]
     },
     "execution_count": 14,
     "metadata": {},
     "output_type": "execute_result"
    }
   ],
   "source": [
    "m_svd.explained_variance_ratio_.sum()*100"
   ]
  },
  {
   "cell_type": "markdown",
   "metadata": {},
   "source": [
    "---\n",
    "\n",
    "#### Cluster Reviews"
   ]
  },
  {
   "cell_type": "code",
   "execution_count": 15,
   "metadata": {},
   "outputs": [],
   "source": [
    "X_test_term = m_termTrans.transform(X_test['text'])"
   ]
  },
  {
   "cell_type": "code",
   "execution_count": 17,
   "metadata": {},
   "outputs": [],
   "source": [
    "X_test_term_svd = m_svd.transform(X_test_term)"
   ]
  },
  {
   "cell_type": "code",
   "execution_count": 18,
   "metadata": {},
   "outputs": [
    {
     "data": {
      "text/plain": [
       "(221745, 10)"
      ]
     },
     "execution_count": 18,
     "metadata": {},
     "output_type": "execute_result"
    }
   ],
   "source": [
    "X_test_term_svd.shape"
   ]
  },
  {
   "cell_type": "code",
   "execution_count": 19,
   "metadata": {},
   "outputs": [],
   "source": [
    "pred = m_kmeans.predict(X_test_term_svd)"
   ]
  },
  {
   "cell_type": "markdown",
   "metadata": {},
   "source": [
    "---\n",
    "\n",
    "#### Visualize Clusters"
   ]
  },
  {
   "cell_type": "code",
   "execution_count": 20,
   "metadata": {},
   "outputs": [
    {
     "data": {
      "image/png": "[encoded data removed]",
      "text/plain": [
       "<Figure size 3600x864 with 5 Axes>"
      ]
     },
     "metadata": {},
     "output_type": "display_data"
    }
   ],
   "source": [
    "catPred(m_kmeans, y_test, pred)"
   ]
  },
  {
   "cell_type": "code",
   "execution_count": 21,
   "metadata": {},
   "outputs": [
    {
     "name": "stdout",
     "output_type": "stream",
     "text": [
      "\n",
      "Cluster  0  =====\n",
      "['rice', 'wasn', 'clean', 'cooked', 'properly']\n",
      "['2nd', 'ohh', 'noodle', 'dumplings', 'yummmy']\n",
      "['banging', 'scaring', 'roasty', 'noodle', 'dan']\n",
      "['tso', 'buffet', 'sauce', 'sour', 'chicken']\n",
      "['chickpeas', 'chicken', 'mimosa', 'unreasonable', 'himilayan']\n",
      "\n",
      "Cluster  1  =====\n",
      "['fine', 'establishment', 'treat', 'consistently', 'aurora']\n",
      "['attend', 'hour', 'tenders', 'coronas', 'remote']\n",
      "['gone', 'valley', 'quiet', 'diverse', 'rebirth']\n",
      "['takeout', 'consistently', 'includes', 'kung', 'pao']\n",
      "['rocks', 'night', 'burrito', 'nights', 'luxor']\n",
      "\n",
      "Cluster  2  =====\n",
      "['likes', 'lemonade', 'switched', 'musty', 'wonky']\n",
      "['spicy', 'fridge', 'tacos', 'steelers', 'mushroom']\n",
      "['good', 'babacoa', 'salsa', 'foo', 'enchiladas']\n",
      "['chance', 'chips', 'tres', 'visit', 'guacamole']\n",
      "['grab', 'limited', 'tacos', 'dives', 'overlook']\n",
      "\n",
      "Cluster  3  =====\n",
      "['family', 'decided', 'better', 'worse', 'plastic']\n",
      "['counter', 'uptight', 'juggling', 'dreamin', 'cheeze']\n",
      "['listen', 'location', 'turning', 'costco', 'decatur']\n",
      "['waited', 'parents', 'ask', 'bottle', 'told']\n",
      "['vermicelli', 'norm', 'alittle', 'changed', 'anymore']\n",
      "\n",
      "Cluster  4  =====\n",
      "['pancakes', 'haha', 'blueberry', 'washroom', 'esp']\n",
      "['flipped', 'thai', 'reporting', 'bbb', 'basil']\n",
      "['grosses', 'accidental', 'nanny', 'shame', 'hair']\n",
      "['kefta', 'babaganuj', 'dentures', 'akaawi', 'mühalabiya']\n",
      "['creepy', 'sirloin', 'youre', 'doughnuts', '2wice']\n"
     ]
    }
   ],
   "source": [
    "top_pred_words(m_kmeans, X_test_term, ftrs, pred)"
   ]
  },
  {
   "cell_type": "markdown",
   "metadata": {},
   "source": [
    "#### Test Set: Class Balance"
   ]
  },
  {
   "cell_type": "code",
   "execution_count": 22,
   "metadata": {},
   "outputs": [
    {
     "data": {
      "text/plain": [
       "Mexican       90579\n",
       "Chinese       59068\n",
       "Vegetarian    31663\n",
       "Vegan         22173\n",
       "Indian        18262\n",
       "Name: category, dtype: int64"
      ]
     },
     "execution_count": 22,
     "metadata": {},
     "output_type": "execute_result"
    }
   ],
   "source": [
    "y_test.value_counts()"
   ]
  },
  {
   "cell_type": "code",
   "execution_count": 23,
   "metadata": {},
   "outputs": [
    {
     "data": {
      "image/png": "[encoded data removed]",
      "text/plain": [
       "<Figure size 432x288 with 1 Axes>"
      ]
     },
     "metadata": {},
     "output_type": "display_data"
    }
   ],
   "source": [
    "x = y_test.value_counts().values\n",
    "lbls = list(y_test.value_counts().index)\n",
    "plt.bar(range(len(x)), height=x, tick_label = lbls);"
   ]
  },
  {
   "cell_type": "markdown",
   "metadata": {},
   "source": [
    "#### Train Set: Class Balance"
   ]
  },
  {
   "cell_type": "code",
   "execution_count": 24,
   "metadata": {},
   "outputs": [
    {
     "data": {
      "text/plain": [
       "Mexican       211298\n",
       "Chinese       137954\n",
       "Vegetarian     74127\n",
       "Vegan          51280\n",
       "Indian         42744\n",
       "Name: category, dtype: int64"
      ]
     },
     "execution_count": 24,
     "metadata": {},
     "output_type": "execute_result"
    }
   ],
   "source": [
    "y_train.value_counts()"
   ]
  },
  {
   "cell_type": "code",
   "execution_count": 25,
   "metadata": {},
   "outputs": [
    {
     "data": {
      "image/png": "[encoded data removed]",
      "text/plain": [
       "<Figure size 432x288 with 1 Axes>"
      ]
     },
     "metadata": {},
     "output_type": "display_data"
    }
   ],
   "source": [
    "x = y_train.value_counts().values\n",
    "lbls = list(y_train.value_counts().index)\n",
    "plt.bar(range(len(x)), height=x, tick_label = lbls);"
   ]
  },
  {
   "cell_type": "markdown",
   "metadata": {},
   "source": [
    "---\n",
    "\n",
    "### Train data PREDICTION"
   ]
  },
  {
   "cell_type": "code",
   "execution_count": 26,
   "metadata": {},
   "outputs": [],
   "source": [
    "pred2 = m_kmeans.predict(X_train_term_svd)"
   ]
  },
  {
   "cell_type": "code",
   "execution_count": 27,
   "metadata": {},
   "outputs": [
    {
     "data": {
      "image/png": "[encoded data removed]",
      "text/plain": [
       "<Figure size 3600x864 with 5 Axes>"
      ]
     },
     "metadata": {},
     "output_type": "display_data"
    }
   ],
   "source": [
    "catPred(m_kmeans, y_train, pred2)"
   ]
  },
  {
   "cell_type": "code",
   "execution_count": 28,
   "metadata": {},
   "outputs": [
    {
     "name": "stdout",
     "output_type": "stream",
     "text": [
      "\n",
      "Cluster  0  =====\n",
      "['im', 'sui', 'baos', 'foreigners', 'wooteep']\n",
      "['couple', 'elbows', 'rubbing', 'soup', 'got']\n",
      "['ohwell', 'amazing', 'pumpkin', 'rolls', 'kappa']\n",
      "['rice', 'hard', 'cold', 'usual', 'hated']\n",
      "['sooo', 'fatty', 'beef', 'soup', 'schewan']\n",
      "\n",
      "Cluster  1  =====\n",
      "['tucked', 'definite', 'indoor', 'oasis', 'barboaca']\n",
      "['impressed', 'lamb', 'nan', 'timer', 'curry']\n",
      "['return', 'thanks', 'san', 'diego', 'recommending']\n",
      "['excellent', 'quick', 'sit', 'beat', 'flo']\n",
      "['reasonable', 'surprised', 'nachos', 'downtown', 'recommend']\n",
      "\n",
      "Cluster  2  =====\n",
      "['surprised', 'mix', 'carnitas', 'tuna', 'agree']\n",
      "['location', 'cent', 'awe', 'like', 'caramba']\n",
      "['trip', 'returning', 'tacos', 'henderson', 'gusta']\n",
      "['bacon', 'dish', 'seized', 'wrapped', 'cactus']\n",
      "['oaxaca', 'condesa', 'baseball', 'multitudes', 'tacos']\n",
      "\n",
      "Cluster  3  =====\n",
      "['rid', '2013', 'room', 'poor', 'area']\n",
      "['purposes', 'complainer', 'pay', 'serving', 'im']\n",
      "['pass', 'using', 'qew', 'sushi', 'dump']\n",
      "['undecided', 'headaches', 'buff', 'grill', 'worrisome']\n",
      "['apps', 'dessert', 'drinks', 'bar', 'birthday']\n",
      "\n",
      "Cluster  4  =====\n",
      "['remain', 'bliss', 'representation', 'ballantyne', 'ravings']\n",
      "['favorite', 'location', 'eating', 'week', 'roberto']\n",
      "['eggs', 'bright', 'hash', 'scrambled', 'browns']\n",
      "['thank', 'glass', 'knows', 'brittany', 'sumomaya']\n",
      "['pace', 'lousy', 'picante', 'tea', 'enchilada']\n"
     ]
    }
   ],
   "source": [
    "top_pred_words(m_kmeans, X_train_term, ftrs, pred2)"
   ]
  },
  {
   "cell_type": "markdown",
   "metadata": {},
   "source": [
    "# === === === === === === === === === === === === === === === "
   ]
  },
  {
   "cell_type": "code",
   "execution_count": 29,
   "metadata": {},
   "outputs": [],
   "source": [
    "# https://github.com/gSchool/dsi-solns-g69/blob/master/clustering/pair_part1_kmeans.py"
   ]
  },
  {
   "cell_type": "code",
   "execution_count": 30,
   "metadata": {},
   "outputs": [
    {
     "data": {
      "text/plain": [
       "array([4, 3, 4, ..., 0, 3, 4], dtype=int32)"
      ]
     },
     "execution_count": 30,
     "metadata": {},
     "output_type": "execute_result"
    }
   ],
   "source": [
    "pred"
   ]
  },
  {
   "cell_type": "code",
   "execution_count": 31,
   "metadata": {},
   "outputs": [
    {
     "name": "stdout",
     "output_type": "stream",
     "text": [
      "\n",
      "Random sample of reviews in each cluster\n"
     ]
    }
   ],
   "source": [
    "# Print out the reviews of a random sample of the restaurants assigned to each\n",
    "# cluster to get a sense of the category.\n",
    "\n",
    "print(\"\\nRandom sample of reviews in each cluster\")\n",
    "\n",
    "assigned_cluster = m_kmeans.transform(X_train_term_svd)#.argmin(axis=1)"
   ]
  },
  {
   "cell_type": "code",
   "execution_count": 32,
   "metadata": {},
   "outputs": [
    {
     "data": {
      "text/plain": [
       "array([[0.17370167, 0.18132169, 0.22219916, 0.06313402, 0.10283767],\n",
       "       [0.22245244, 0.2171537 , 0.125516  , 0.22619078, 0.19260694],\n",
       "       [0.17877719, 0.1740362 , 0.22193939, 0.07458221, 0.10576846],\n",
       "       ...,\n",
       "       [0.27255721, 0.18399541, 0.28560781, 0.23375713, 0.19815293],\n",
       "       [0.21845735, 0.31447897, 0.3226672 , 0.26157589, 0.25825591],\n",
       "       [0.29057467, 0.24912698, 0.3149542 , 0.2661925 , 0.24128963]])"
      ]
     },
     "execution_count": 32,
     "metadata": {},
     "output_type": "execute_result"
    }
   ],
   "source": [
    "assigned_cluster"
   ]
  },
  {
   "cell_type": "code",
   "execution_count": 33,
   "metadata": {},
   "outputs": [
    {
     "data": {
      "text/plain": [
       "array([3, 2, 3, 3, 4, 4, 4, 2, 4, 3])"
      ]
     },
     "execution_count": 33,
     "metadata": {},
     "output_type": "execute_result"
    }
   ],
   "source": [
    "i = 1\n",
    "\n",
    "assigned_cluster = m_kmeans.transform(X_train_term_svd)#.argmin(axis=1)\n",
    "\n",
    "assigned_cluster = assigned_cluster[:10,:].argmin(axis=1)\n",
    "\n",
    "assigned_cluster"
   ]
  },
  {
   "cell_type": "code",
   "execution_count": 68,
   "metadata": {},
   "outputs": [
    {
     "data": {
      "text/plain": [
       "array([3, 2, 3, 3, 4, 4, 4, 2, 4, 3], dtype=int32)"
      ]
     },
     "execution_count": 68,
     "metadata": {},
     "output_type": "execute_result"
    }
   ],
   "source": [
    "pred2[:10]"
   ]
  },
  {
   "cell_type": "code",
   "execution_count": 35,
   "metadata": {},
   "outputs": [
    {
     "data": {
      "text/plain": [
       "array([[ 0.18228339, -0.07692559, -0.04838772,  0.06779744,  0.00767893,\n",
       "         0.01091632, -0.018     , -0.01984398,  0.00185338,  0.00500899],\n",
       "       [ 0.18857081,  0.11460932, -0.03383267,  0.00410074, -0.00445603,\n",
       "         0.03475242, -0.00763856, -0.00889979, -0.01211165,  0.00153124],\n",
       "       [ 0.18041927,  0.01580211,  0.14842673,  0.03129908,  0.01417226,\n",
       "        -0.00342476, -0.01493756,  0.00080862,  0.04285377,  0.01111897],\n",
       "       [ 0.17438382, -0.04084372,  0.00193105, -0.07978318, -0.01179172,\n",
       "         0.00641159, -0.01008459,  0.00038248, -0.00527562,  0.0100825 ],\n",
       "       [ 0.12161112,  0.00383308, -0.00714448, -0.00041162, -0.00714538,\n",
       "        -0.02277857,  0.01963952,  0.01033667, -0.00295419, -0.01292969]])"
      ]
     },
     "execution_count": 35,
     "metadata": {},
     "output_type": "execute_result"
    }
   ],
   "source": [
    "m_kmeans.cluster_centers_"
   ]
  },
  {
   "cell_type": "markdown",
   "metadata": {},
   "source": [
    "---\n",
    "\n",
    "### Top Words for Cluster Centroids"
   ]
  },
  {
   "cell_type": "code",
   "execution_count": 66,
   "metadata": {},
   "outputs": [
    {
     "name": "stdout",
     "output_type": "stream",
     "text": [
      "['chicken' 'rice' 'good' 'chinese' 'food' 'fried' 'soup' 'beef' 'ordered'\n",
      " 'like'] \n",
      "\n",
      "['great' 'food' 'service' 'place' 'good' 'friendly' 'love' 'staff'\n",
      " 'amazing' 'mexican'] \n",
      "\n",
      "['tacos' 'taco' 'good' 'salsa' 'best' 'place' 'asada' 'mexican' 'fish'\n",
      " 'great'] \n",
      "\n",
      "['food' 'time' 'order' 'service' 'just' 'like' 'good' 'place' 'ordered'\n",
      " 'got'] \n",
      "\n",
      "['food' 'place' 'good' 'love' 'delicious' 'really' 'like' 'restaurant'\n",
      " 'friendly' 'staff'] \n",
      "\n"
     ]
    }
   ],
   "source": [
    "center_top_words(m_kmeans, m_svd, ftrs)"
   ]
  }
 ],
 "metadata": {
  "kernelspec": {
   "display_name": "Python 3",
   "language": "python",
   "name": "python3"
  },
  "language_info": {
   "codemirror_mode": {
    "name": "ipython",
    "version": 3
   },
   "file_extension": ".py",
   "mimetype": "text/x-python",
   "name": "python",
   "nbconvert_exporter": "python",
   "pygments_lexer": "ipython3",
   "version": "3.6.4"
  }
 },
 "nbformat": 4,
 "nbformat_minor": 2
}
