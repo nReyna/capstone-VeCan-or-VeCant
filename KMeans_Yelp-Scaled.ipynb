{
 "cells": [
  {
   "cell_type": "code",
   "execution_count": 1,
   "metadata": {},
   "outputs": [],
   "source": [
    "import numpy   as np\n",
    "import pandas  as pd\n",
    "\n",
    "import seaborn as sns\n",
    "import matplotlib.pyplot as plt\n",
    "%matplotlib inline\n",
    "\n",
    "from sklearn.model_selection import train_test_split\n",
    "from sklearn.feature_extraction.text import TfidfVectorizer\n",
    "from sklearn.preprocessing   import scale, StandardScaler\n",
    "from sklearn.decomposition   import PCA, TruncatedSVD\n",
    "\n",
    "import pickle"
   ]
  },
  {
   "cell_type": "markdown",
   "metadata": {},
   "source": [
    "---\n",
    "\n",
    "### Function Definition"
   ]
  },
  {
   "cell_type": "code",
   "execution_count": 2,
   "metadata": {},
   "outputs": [],
   "source": [
    "def catPred(kmObj, gTrue, pred): \n",
    "    '''\n",
    "        kmObjn: a kmeans object\n",
    "        gTrue: true categories (ground truth)\n",
    "    '''\n",
    "    fig, ax = plt.subplots(nrows=1, ncols=5, sharey=True, figsize=(50,12))\n",
    "\n",
    "    numClusters = kmObj.get_params()['n_clusters']\n",
    "    \n",
    "    for i in range(numClusters):\n",
    "        mask = (pred == i)\n",
    "        val = np.unique( gTrue[mask], return_counts=True)\n",
    "        lbl = val[0]\n",
    "        ht  = val[1] / val[1].sum()\n",
    "        ax[i].bar(range(numClusters), height=ht, tick_label = lbl)\n",
    "        ax[i].set_xticklabels(lbl, fontsize=20)\n",
    "        ax[i].set_title(i, fontsize=20)\n",
    "\n",
    "        ax[0].set_yticklabels([\"0\", \"0.2\", \"0.4\", \"0.6\", \"0.8\"], fontsize=20)\n",
    "        ax[0].set_ylabel(\"Proportion\", fontsize = 32);\n",
    "        plt.suptitle(\"Proportion of Categories in each Clusterc\", fontsize = 32);"
   ]
  },
  {
   "cell_type": "code",
   "execution_count": 3,
   "metadata": {},
   "outputs": [],
   "source": [
    "def top_pred_words(kmObj, X_df, ftrs_list, pred, num_reviews=5, num_words=5): \n",
    "    '''\n",
    "        kmObjn: a kmeans object\n",
    "        gTrue: true categories (ground truth)\n",
    "    '''\n",
    "    \n",
    "    numClusters = kmObj.get_params()['n_clusters']\n",
    "    \n",
    "    for i in range(numClusters):\n",
    "        mask = (pred == i)\n",
    "        \n",
    "        rev_ind = [ind for ind, flag in enumerate(mask) if flag]\n",
    "        \n",
    "        sample_reviews = np.random.choice(rev_ind, num_reviews, replace=False)\n",
    "        \n",
    "        print(\"\\nCluster \", i, \" =====\")\n",
    "        for review in sample_reviews:\n",
    "            indx = X_df[review,:].indices\n",
    "            data = X_df[review,:].data\n",
    "            \n",
    "            termsVals = indx[data.argsort()][-num_words:]\n",
    "            \n",
    "            terms = []\n",
    "            for w in termsVals:\n",
    "                terms.append(ftrs_list[w])\n",
    "            print(terms)"
   ]
  },
  {
   "cell_type": "code",
   "execution_count": null,
   "metadata": {},
   "outputs": [],
   "source": []
  },
  {
   "cell_type": "code",
   "execution_count": null,
   "metadata": {},
   "outputs": [],
   "source": []
  },
  {
   "cell_type": "markdown",
   "metadata": {},
   "source": [
    "---\n",
    "\n",
    "### Large Pickled Dataset\n",
    "\n"
   ]
  },
  {
   "cell_type": "code",
   "execution_count": 4,
   "metadata": {},
   "outputs": [],
   "source": [
    "df = pd.read_pickle(\"fiveCats.pkl\")"
   ]
  },
  {
   "cell_type": "code",
   "execution_count": 5,
   "metadata": {},
   "outputs": [],
   "source": [
    "X_df = df.drop('category', axis=1)\n",
    "y_df = df['category']"
   ]
  },
  {
   "cell_type": "code",
   "execution_count": 6,
   "metadata": {},
   "outputs": [],
   "source": [
    "X_train, X_test, y_train, y_test = train_test_split(X_df, y_df, test_size=0.3)"
   ]
  },
  {
   "cell_type": "code",
   "execution_count": 7,
   "metadata": {},
   "outputs": [
    {
     "name": "stdout",
     "output_type": "stream",
     "text": [
      "(517403, 11) (221745, 11)\n"
     ]
    }
   ],
   "source": [
    "print( X_train.shape, X_test.shape)"
   ]
  },
  {
   "cell_type": "markdown",
   "metadata": {},
   "source": [
    "---\n",
    "\n",
    "### Manipulate data sets"
   ]
  },
  {
   "cell_type": "code",
   "execution_count": 8,
   "metadata": {},
   "outputs": [],
   "source": [
    "m_termTrans = pickle.load(open('pkl_tfidf.p','rb'))\n",
    "m_scaler = pickle.load(open('pkl_scaler.p','rb'))\n",
    "m_svd = pickle.load(open('pkl_svd.p','rb'))\n",
    "m_kmeans = pickle.load(open('pkl_kmeans.p','rb'))"
   ]
  },
  {
   "cell_type": "markdown",
   "metadata": {},
   "source": [
    "#### Vectorize Review Text"
   ]
  },
  {
   "cell_type": "code",
   "execution_count": 9,
   "metadata": {},
   "outputs": [],
   "source": [
    "X_train_term  = m_termTrans.transform(X_train['text'])"
   ]
  },
  {
   "cell_type": "code",
   "execution_count": 10,
   "metadata": {},
   "outputs": [
    {
     "data": {
      "text/plain": [
       "(517403, 153378)"
      ]
     },
     "execution_count": 10,
     "metadata": {},
     "output_type": "execute_result"
    }
   ],
   "source": [
    "X_train_term.shape"
   ]
  },
  {
   "cell_type": "code",
   "execution_count": 11,
   "metadata": {},
   "outputs": [],
   "source": [
    "ftrs = m_termTrans.get_feature_names()"
   ]
  },
  {
   "cell_type": "markdown",
   "metadata": {},
   "source": [
    "#### Scale Sparse Matrix"
   ]
  },
  {
   "cell_type": "code",
   "execution_count": 12,
   "metadata": {},
   "outputs": [],
   "source": [
    "m_scaler = pickle.load(open('pkl_scaler.p','rb'))"
   ]
  },
  {
   "cell_type": "code",
   "execution_count": 13,
   "metadata": {},
   "outputs": [],
   "source": [
    "X_train_term = m_scaler.fit_transform(X_train_term)"
   ]
  },
  {
   "cell_type": "code",
   "execution_count": 14,
   "metadata": {},
   "outputs": [],
   "source": [
    "# sklearn.preprocessing.MaxAbsScaler \n",
    "# it is okay to have large scales"
   ]
  },
  {
   "cell_type": "markdown",
   "metadata": {},
   "source": [
    "#### Reduce Dimensionality"
   ]
  },
  {
   "cell_type": "code",
   "execution_count": 15,
   "metadata": {},
   "outputs": [],
   "source": [
    "X_train_term_svd = m_svd.transform(X_train_term)"
   ]
  },
  {
   "cell_type": "code",
   "execution_count": 16,
   "metadata": {},
   "outputs": [
    {
     "data": {
      "image/png": "[encoded data removed]",
      "text/plain": [
       "<Figure size 432x288 with 1 Axes>"
      ]
     },
     "metadata": {},
     "output_type": "display_data"
    }
   ],
   "source": [
    "s = m_svd.singular_values_\n",
    "\n",
    "x = [i+1 for i in range(len(s))]\n",
    "plt.plot(x, s, marker='o')\n",
    "plt.xlabel(\"Singular Values\")\n",
    "plt.ylabel(\"Value\");"
   ]
  },
  {
   "cell_type": "markdown",
   "metadata": {},
   "source": [
    "##### Percentage of Variance Explained"
   ]
  },
  {
   "cell_type": "code",
   "execution_count": 17,
   "metadata": {},
   "outputs": [
    {
     "data": {
      "text/plain": [
       "3.561945735071194"
      ]
     },
     "execution_count": 17,
     "metadata": {},
     "output_type": "execute_result"
    }
   ],
   "source": [
    "m_svd.explained_variance_ratio_.sum()*100"
   ]
  },
  {
   "cell_type": "markdown",
   "metadata": {},
   "source": [
    "---\n",
    "\n",
    "#### Cluster Reviews"
   ]
  },
  {
   "cell_type": "code",
   "execution_count": 18,
   "metadata": {},
   "outputs": [],
   "source": [
    "X_test_term = m_termTrans.transform(X_test['text'])"
   ]
  },
  {
   "cell_type": "code",
   "execution_count": 19,
   "metadata": {},
   "outputs": [],
   "source": [
    "X_test_term_scaled = m_scaler.transform(X_test_term)"
   ]
  },
  {
   "cell_type": "code",
   "execution_count": 20,
   "metadata": {},
   "outputs": [],
   "source": [
    "X_test_term_svd = m_svd.transform(X_test_term_scaled)"
   ]
  },
  {
   "cell_type": "code",
   "execution_count": 21,
   "metadata": {},
   "outputs": [
    {
     "data": {
      "text/plain": [
       "(221745, 10)"
      ]
     },
     "execution_count": 21,
     "metadata": {},
     "output_type": "execute_result"
    }
   ],
   "source": [
    "X_test_term_svd.shape"
   ]
  },
  {
   "cell_type": "code",
   "execution_count": 22,
   "metadata": {},
   "outputs": [],
   "source": [
    "pred = m_kmeans.predict(X_test_term_svd)"
   ]
  },
  {
   "cell_type": "markdown",
   "metadata": {},
   "source": [
    "---\n",
    "\n",
    "#### Visualize Clusters"
   ]
  },
  {
   "cell_type": "code",
   "execution_count": 23,
   "metadata": {},
   "outputs": [
    {
     "data": {
      "image/png": "[encoded data removed]",
      "text/plain": [
       "<Figure size 3600x864 with 5 Axes>"
      ]
     },
     "metadata": {},
     "output_type": "display_data"
    }
   ],
   "source": [
    "catPred(m_kmeans, y_test, pred)"
   ]
  },
  {
   "cell_type": "code",
   "execution_count": 24,
   "metadata": {},
   "outputs": [
    {
     "name": "stdout",
     "output_type": "stream",
     "text": [
      "\n",
      "Cluster  0  =====\n",
      "['diming', 'center', 'thai', 'lotus', 'dated']\n",
      "['tailed', 'sayed', 'scallops', 'chicken', 'steamed']\n",
      "['carrot', 'awesome', 'centre', 'bowl', 'eaton']\n",
      "['magic', 'genius', 'andrew', 'devine', 'fran']\n",
      "['love', 'veg', 'walnut', 'blow', 'brownie']\n",
      "\n",
      "Cluster  1  =====\n",
      "['sweet', 'burrito', 'clean', 'things', 'efficient']\n",
      "['employees', 'corner', 'station', 'facility', 'hardworking']\n",
      "['write', 'types', 'inexpensive', 'effort', 'clearance']\n",
      "['picture', 'training', 'combined', 'tour', 'march']\n",
      "['spiritually', 'reiki', 'practitioners', 'health', 'spirit']\n",
      "\n",
      "Cluster  2  =====\n",
      "['inject', 'nights', 'downtempo', 'tacos', 'hip']\n",
      "['salsa', 'fried', 'avocado', 'deep', 'taco']\n",
      "['overcooked', 'jicama', 'retained', 'astonishingly', 'cauliflower']\n",
      "['tripa', 'tacos', 'las', 'el', 'gordo']\n",
      "['fit', 'decent', 'broiled', 'mackerel', 'ambition']\n",
      "\n",
      "Cluster  3  =====\n",
      "['end', 'mariachis', 'strip', 'properties', 'getting']\n",
      "['team', 'buffalonians', 'fries', 'steelers', 'paprikash']\n",
      "['plate', 'garlic', 'charcuterie', 'hearth', 'rokerij']\n",
      "['german', 'react', 'carrot', 'birthday', 'cupcake']\n",
      "['midwest', 'wrappers', 'pedestrian', 'fortunes', 'chin']\n",
      "\n",
      "Cluster  4  =====\n",
      "['のイベントに参加した際に宿泊', 'ちょっとあるくけどもなかなかなの好立地です', 'しかもお酒も飲み放題', 'ご飯はホテル内部にも数点お店あり', 'mirageホテル']\n",
      "['wir', 'dass', 'und', 'ich', 'die']\n",
      "['für', 'wir', 'waren', 'viel', 'wenig']\n",
      "['shake', 'sorts', 'carnivore', 'sensitive', 'malt']\n",
      "['vegetarian', 'burger', 'outstanding', 'kale', 'bison']\n"
     ]
    }
   ],
   "source": [
    "top_pred_words(m_kmeans, X_test_term, ftrs, pred)"
   ]
  },
  {
   "cell_type": "markdown",
   "metadata": {},
   "source": [
    "#### Test Set: Class Balance"
   ]
  },
  {
   "cell_type": "code",
   "execution_count": 25,
   "metadata": {},
   "outputs": [
    {
     "data": {
      "text/plain": [
       "Mexican       90708\n",
       "Chinese       58724\n",
       "Vegetarian    31851\n",
       "Vegan         21989\n",
       "Indian        18473\n",
       "Name: category, dtype: int64"
      ]
     },
     "execution_count": 25,
     "metadata": {},
     "output_type": "execute_result"
    }
   ],
   "source": [
    "y_test.value_counts()"
   ]
  },
  {
   "cell_type": "code",
   "execution_count": 26,
   "metadata": {},
   "outputs": [
    {
     "data": {
      "image/png": "[encoded data removed]",
      "text/plain": [
       "<Figure size 432x288 with 1 Axes>"
      ]
     },
     "metadata": {},
     "output_type": "display_data"
    }
   ],
   "source": [
    "x = y_test.value_counts().values\n",
    "lbls = list(y_test.value_counts().index)\n",
    "plt.bar(range(len(x)), height=x, tick_label = lbls);"
   ]
  },
  {
   "cell_type": "markdown",
   "metadata": {},
   "source": [
    "#### Train Set: Class Balance"
   ]
  },
  {
   "cell_type": "code",
   "execution_count": 27,
   "metadata": {},
   "outputs": [
    {
     "data": {
      "text/plain": [
       "Mexican       211169\n",
       "Chinese       138298\n",
       "Vegetarian     73939\n",
       "Vegan          51464\n",
       "Indian         42533\n",
       "Name: category, dtype: int64"
      ]
     },
     "execution_count": 27,
     "metadata": {},
     "output_type": "execute_result"
    }
   ],
   "source": [
    "y_train.value_counts()"
   ]
  },
  {
   "cell_type": "code",
   "execution_count": 28,
   "metadata": {},
   "outputs": [
    {
     "data": {
      "image/png": "[encoded data removed]",
      "text/plain": [
       "<Figure size 432x288 with 1 Axes>"
      ]
     },
     "metadata": {},
     "output_type": "display_data"
    }
   ],
   "source": [
    "x = y_train.value_counts().values\n",
    "lbls = list(y_train.value_counts().index)\n",
    "plt.bar(range(len(x)), height=x, tick_label = lbls);"
   ]
  },
  {
   "cell_type": "markdown",
   "metadata": {},
   "source": [
    "---\n",
    "\n",
    "### Train data PREDICTION"
   ]
  },
  {
   "cell_type": "code",
   "execution_count": 29,
   "metadata": {},
   "outputs": [],
   "source": [
    "pred2 = m_kmeans.predict(X_train_term_svd)"
   ]
  },
  {
   "cell_type": "code",
   "execution_count": 30,
   "metadata": {},
   "outputs": [
    {
     "data": {
      "image/png": "[encoded data removed]",
      "text/plain": [
       "<Figure size 3600x864 with 5 Axes>"
      ]
     },
     "metadata": {},
     "output_type": "display_data"
    }
   ],
   "source": [
    "catPred(m_kmeans, y_train, pred2)"
   ]
  },
  {
   "cell_type": "code",
   "execution_count": 31,
   "metadata": {},
   "outputs": [
    {
     "name": "stdout",
     "output_type": "stream",
     "text": [
      "\n",
      "Cluster  0  =====\n",
      "['greasy', 'perfectly', 'tom', 'rangoon', 'kha']\n",
      "['imperial', 'wild', 'uneaten', 'maki', 'kamikazi']\n",
      "['complementary', 'devoured', 'feedback', 'fiery', 'constructive']\n",
      "['shell', 'preferred', 'pepper', 'vinegar', 'crabs']\n",
      "['vegetables', 'generous', 'young', 'appears', 'foo']\n",
      "\n",
      "Cluster  1  =====\n",
      "['meal', 'dinner', 'authentic', 'clean', '14']\n",
      "['locals', 'celebrate', 'anniversary', 'sweetheart', 'babe']\n",
      "['extremely', 'fair', 'gotten', 'pleased', 'strongly']\n",
      "['king', 'thank', 'haha', 'alex', 'scorpion']\n",
      "['drive', 'twice', 'employees', 'normal', 'ect']\n",
      "\n",
      "Cluster  2  =====\n",
      "['chunky', 'snob', 'chimis', 'partial', 'ranked']\n",
      "['salmon', 'diet', 'chopped', 'warning', 'dangerous']\n",
      "['seriously', 'cause', 'swear', 'crack', 'sprinkle']\n",
      "['church', 'cons', 'sweating', 'hooker', 'toooooooooooo']\n",
      "['venture', 'isnt', 'adobado', '35th', 'biztec']\n",
      "\n",
      "Cluster  3  =====\n",
      "['improves', 'playhouse', 'viejo', 'puente', 'reckoned']\n",
      "['forever', 'grease', 'post', 'swimming', 'scathing']\n",
      "['compelled', 'pecans', 'popsicle', 'unfrozen', 'paleterias']\n",
      "['ale', 'ashley', 'steel', 'rowdy', 'stormy']\n",
      "['jamun', 'tilapia', 'deceiving', 'intrigued', 'rectify']\n",
      "\n",
      "Cluster  4  =====\n",
      "['enttäuschte', 'derzeit', 'genervte', 'tanzsall', 'mindestverzeher']\n",
      "['crave', 'dreams', 'verduras', 'temporada']\n",
      "['bowls', 'smoothies', 'cauliflower', 'treats', 'scrambles']\n",
      "['chouette', 'sandwhichs', 'rosemont', 'pratique', 'simples']\n",
      "['gefüllt', 'bemüht', 'kühl', 'agieren', 'schnellstens']\n"
     ]
    }
   ],
   "source": [
    "top_pred_words(m_kmeans, X_train_term, ftrs, pred2)"
   ]
  },
  {
   "cell_type": "markdown",
   "metadata": {},
   "source": [
    "# === === === === === === === === === === === === === === === "
   ]
  },
  {
   "cell_type": "code",
   "execution_count": 32,
   "metadata": {},
   "outputs": [],
   "source": [
    "# https://github.com/gSchool/dsi-solns-g69/blob/master/clustering/pair_part1_kmeans.py"
   ]
  },
  {
   "cell_type": "code",
   "execution_count": 33,
   "metadata": {},
   "outputs": [
    {
     "data": {
      "text/plain": [
       "array([3, 3, 3, ..., 3, 0, 3], dtype=int32)"
      ]
     },
     "execution_count": 33,
     "metadata": {},
     "output_type": "execute_result"
    }
   ],
   "source": [
    "pred"
   ]
  },
  {
   "cell_type": "code",
   "execution_count": 34,
   "metadata": {},
   "outputs": [
    {
     "name": "stdout",
     "output_type": "stream",
     "text": [
      "\n",
      "Random sample of reviews in each cluster\n"
     ]
    }
   ],
   "source": [
    "# Print out the reviews of a random sample of the restaurants assigned to each\n",
    "# cluster to get a sense of the category.\n",
    "\n",
    "print(\"\\nRandom sample of reviews in each cluster\")\n",
    "\n",
    "assigned_cluster = m_kmeans.transform(X_train_term_svd)#.argmin(axis=1)"
   ]
  },
  {
   "cell_type": "code",
   "execution_count": 35,
   "metadata": {},
   "outputs": [
    {
     "data": {
      "text/plain": [
       "array([[10.70976395, 10.80950748, 10.80801317, 10.77709808, 10.82897384],\n",
       "       [ 8.23425571,  8.23127872,  8.24559982,  8.17852668,  8.26335746],\n",
       "       [10.1504984 , 10.20453895, 10.20683353, 10.20189912, 10.22653754],\n",
       "       ...,\n",
       "       [ 8.36048032,  8.45066269,  8.43484504,  8.42637785,  8.45482779],\n",
       "       [ 7.48002472,  7.53974418,  7.53143227,  7.47844366,  7.52203524],\n",
       "       [ 5.35965736,  5.36667635,  5.3447253 ,  5.33728206,  5.38497468]])"
      ]
     },
     "execution_count": 35,
     "metadata": {},
     "output_type": "execute_result"
    }
   ],
   "source": [
    "assigned_cluster"
   ]
  },
  {
   "cell_type": "code",
   "execution_count": 36,
   "metadata": {},
   "outputs": [
    {
     "data": {
      "text/plain": [
       "array([0, 3, 0, 2, 1, 1, 3, 2, 1, 0])"
      ]
     },
     "execution_count": 36,
     "metadata": {},
     "output_type": "execute_result"
    }
   ],
   "source": [
    "i = 1\n",
    "\n",
    "assigned_cluster = m_kmeans.transform(X_train_term_svd)#.argmin(axis=1)\n",
    "\n",
    "assigned_cluster = assigned_cluster[:10,:].argmin(axis=1)\n",
    "\n",
    "assigned_cluster"
   ]
  }
 ],
 "metadata": {
  "kernelspec": {
   "display_name": "Python 3",
   "language": "python",
   "name": "python3"
  },
  "language_info": {
   "codemirror_mode": {
    "name": "ipython",
    "version": 3
   },
   "file_extension": ".py",
   "mimetype": "text/x-python",
   "name": "python",
   "nbconvert_exporter": "python",
   "pygments_lexer": "ipython3",
   "version": "3.6.4"
  }
 },
 "nbformat": 4,
 "nbformat_minor": 2
}
