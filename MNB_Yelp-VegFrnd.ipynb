{
 "cells": [
  {
   "cell_type": "markdown",
   "metadata": {},
   "source": [
    "#### Aug. 10, 2018 320pm"
   ]
  },
  {
   "cell_type": "code",
   "execution_count": 1,
   "metadata": {},
   "outputs": [],
   "source": [
    "import numpy   as np\n",
    "import pandas  as pd\n",
    "\n",
    "from sklearn.model_selection import train_test_split\n",
    "from sklearn.feature_extraction.text import TfidfVectorizer\n",
    "\n",
    "import pickle\n",
    "from nltk.corpus import stopwords\n",
    "\n",
    "import re"
   ]
  },
  {
   "cell_type": "markdown",
   "metadata": {},
   "source": [
    "---\n",
    "\n",
    "### Large Pickled Dataset\n",
    "\n"
   ]
  },
  {
   "cell_type": "code",
   "execution_count": 2,
   "metadata": {},
   "outputs": [
    {
     "name": "stdout",
     "output_type": "stream",
     "text": [
      "CPU times: user 784 ms, sys: 564 ms, total: 1.35 s\n",
      "Wall time: 1.8 s\n"
     ]
    }
   ],
   "source": [
    "%%time\n",
    "df = pd.read_pickle(\"newRev_VegCols_US.pkl\")"
   ]
  },
  {
   "cell_type": "code",
   "execution_count": 3,
   "metadata": {},
   "outputs": [
    {
     "name": "stdout",
     "output_type": "stream",
     "text": [
      "CPU times: user 72 ms, sys: 48 ms, total: 120 ms\n",
      "Wall time: 232 ms\n"
     ]
    }
   ],
   "source": [
    "%%time\n",
    "X_df = df.drop(['vegFriendly', 'Vegan', 'Vegetarian'], axis=1)\n",
    "y_df = df['vegFriendly']"
   ]
  },
  {
   "cell_type": "code",
   "execution_count": 4,
   "metadata": {},
   "outputs": [
    {
     "name": "stdout",
     "output_type": "stream",
     "text": [
      "<class 'pandas.core.frame.DataFrame'>\n",
      "RangeIndex: 923002 entries, 0 to 923001\n",
      "Data columns (total 17 columns):\n",
      "business_id    923002 non-null object\n",
      "name           923002 non-null object\n",
      "review_id      923002 non-null object\n",
      "stars          923002 non-null int64\n",
      "date           923002 non-null datetime64[ns]\n",
      "text           923002 non-null object\n",
      "useful         923002 non-null int64\n",
      "funny          923002 non-null int64\n",
      "cool           923002 non-null int64\n",
      "city           923002 non-null object\n",
      "state          923002 non-null object\n",
      "Thai           923002 non-null float64\n",
      "Italian        923002 non-null float64\n",
      "Indian         923002 non-null float64\n",
      "Chinese        923002 non-null float64\n",
      "Mexican        923002 non-null float64\n",
      "Text_length    923002 non-null int64\n",
      "dtypes: datetime64[ns](1), float64(5), int64(5), object(6)\n",
      "memory usage: 119.7+ MB\n"
     ]
    }
   ],
   "source": [
    "X_df.info()"
   ]
  },
  {
   "cell_type": "code",
   "execution_count": 5,
   "metadata": {},
   "outputs": [
    {
     "name": "stdout",
     "output_type": "stream",
     "text": [
      "CPU times: user 17.1 s, sys: 136 ms, total: 17.3 s\n",
      "Wall time: 18.9 s\n"
     ]
    }
   ],
   "source": [
    "%%time\n",
    "X_df.iloc[:, 5] = X_df['text'].apply( lambda rev: re.sub(r'(\\d+)', '', rev) )"
   ]
  },
  {
   "cell_type": "code",
   "execution_count": 6,
   "metadata": {},
   "outputs": [
    {
     "name": "stdout",
     "output_type": "stream",
     "text": [
      "CPU times: user 740 ms, sys: 0 ns, total: 740 ms\n",
      "Wall time: 1.02 s\n"
     ]
    }
   ],
   "source": [
    "%%time\n",
    "X_df.iloc[:, 5] = X_df['text'].apply( lambda rev: rev.replace('_', '') )"
   ]
  },
  {
   "cell_type": "code",
   "execution_count": 7,
   "metadata": {},
   "outputs": [],
   "source": [
    "X_train, X_test, y_train, y_test = train_test_split(X_df, y_df, test_size=0.3)"
   ]
  },
  {
   "cell_type": "code",
   "execution_count": 8,
   "metadata": {},
   "outputs": [
    {
     "name": "stdout",
     "output_type": "stream",
     "text": [
      "(646101, 17) (276901, 17)\n"
     ]
    }
   ],
   "source": [
    "print( X_train.shape, X_test.shape)"
   ]
  },
  {
   "cell_type": "markdown",
   "metadata": {},
   "source": [
    "---\n",
    "\n",
    "### Manipulate data sets"
   ]
  },
  {
   "cell_type": "code",
   "execution_count": 9,
   "metadata": {},
   "outputs": [],
   "source": [
    "stopWords = list(stopwords.words('english'))\n",
    "stopWords.extend(['good', 'excellent', 'best', 'like', 'place', 'really', 'ordered', 'amazing', 'fantastic', 'am', 'pm'])"
   ]
  },
  {
   "cell_type": "code",
   "execution_count": 10,
   "metadata": {},
   "outputs": [],
   "source": [
    "vectorizer = TfidfVectorizer(stop_words=stopWords)"
   ]
  },
  {
   "cell_type": "markdown",
   "metadata": {},
   "source": [
    "#### Vectorize Review Text"
   ]
  },
  {
   "cell_type": "code",
   "execution_count": 11,
   "metadata": {},
   "outputs": [
    {
     "name": "stdout",
     "output_type": "stream",
     "text": [
      "CPU times: user 46.5 s, sys: 628 ms, total: 47.1 s\n",
      "Wall time: 53 s\n"
     ]
    }
   ],
   "source": [
    "%%time\n",
    "X_train_term  = vectorizer.fit_transform(X_train['text'])"
   ]
  },
  {
   "cell_type": "code",
   "execution_count": 12,
   "metadata": {},
   "outputs": [
    {
     "data": {
      "text/plain": [
       "(646101, 140970)"
      ]
     },
     "execution_count": 12,
     "metadata": {},
     "output_type": "execute_result"
    }
   ],
   "source": [
    "X_train_term.shape"
   ]
  },
  {
   "cell_type": "code",
   "execution_count": 13,
   "metadata": {},
   "outputs": [],
   "source": [
    "ftrs = vectorizer.get_feature_names()"
   ]
  },
  {
   "cell_type": "code",
   "execution_count": 14,
   "metadata": {},
   "outputs": [
    {
     "data": {
      "text/plain": [
       "['aa',\n",
       " 'aaa',\n",
       " 'aaaa',\n",
       " 'aaaaa',\n",
       " 'aaaaaa',\n",
       " 'aaaaaaaaaa',\n",
       " 'aaaaaaaaaaaaaaaaaaaaaaaaaauuuuuuuuuuuuuuuuggggggggggggggggggg',\n",
       " 'aaaaaaaaaaaaaand',\n",
       " 'aaaaaaaaaaaaaauthentic',\n",
       " 'aaaaaaaaaaaand',\n",
       " 'aaaaaaaaaaack',\n",
       " 'aaaaaaaaaah',\n",
       " 'aaaaaaaaaand',\n",
       " 'aaaaaaaaargh',\n",
       " 'aaaaaaaack',\n",
       " 'aaaaaaaamazing',\n",
       " 'aaaaaaaawesooooooooooooome',\n",
       " 'aaaaaaah',\n",
       " 'aaaaaaahhhhhh',\n",
       " 'aaaaaaamazing',\n",
       " 'aaaaaaammmmazing',\n",
       " 'aaaaaaand',\n",
       " 'aaaaaaggghhh',\n",
       " 'aaaaaah',\n",
       " 'aaaaaahhhhh',\n",
       " 'aaaaaahhhhhmazing',\n",
       " 'aaaaaamazing',\n",
       " 'aaaaaand',\n",
       " 'aaaaaannnndddd',\n",
       " 'aaaaaawesome',\n",
       " 'aaaaagh',\n",
       " 'aaaaah',\n",
       " 'aaaaahhh',\n",
       " 'aaaaahhhhhhmazing',\n",
       " 'aaaaahhhhmaaazeballs',\n",
       " 'aaaaamazing',\n",
       " 'aaaaammmaazzzinnngg',\n",
       " 'aaaaand',\n",
       " 'aaaaawful',\n",
       " 'aaaaay',\n",
       " 'aaaack',\n",
       " 'aaaagh',\n",
       " 'aaaah',\n",
       " 'aaaahh',\n",
       " 'aaaahhh',\n",
       " 'aaaahhhh',\n",
       " 'aaaahhhhhhs',\n",
       " 'aaaahmazzzing',\n",
       " 'aaaajúa',\n",
       " 'aaaalllllllll',\n",
       " 'aaaallright',\n",
       " 'aaaamaaazing',\n",
       " 'aaaamazing',\n",
       " 'aaaamazzzzing',\n",
       " 'aaaammaaazzziiingggg',\n",
       " 'aaaammazzing',\n",
       " 'aaaammmazziiigggg',\n",
       " 'aaaammmmmmazing',\n",
       " 'aaaamzing',\n",
       " 'aaaand',\n",
       " 'aaaandd',\n",
       " 'aaaanddd',\n",
       " 'aaaannnnd',\n",
       " 'aaaanyway',\n",
       " 'aaaarreeeee',\n",
       " 'aaaarrgh',\n",
       " 'aaaawesoooome',\n",
       " 'aaaawwwesome',\n",
       " 'aaaayway',\n",
       " 'aaagggrrrrrrrhhhhh',\n",
       " 'aaagh',\n",
       " 'aaah',\n",
       " 'aaahed',\n",
       " 'aaahh',\n",
       " 'aaahhh',\n",
       " 'aaahhhh',\n",
       " 'aaahhhhh',\n",
       " 'aaahhhhhhh',\n",
       " 'aaahhhhmmmaaazzziiiinnnnggg',\n",
       " 'aaahhhmazing',\n",
       " 'aaahmaaaazing',\n",
       " 'aaahmazing',\n",
       " 'aaahs',\n",
       " 'aaaiiiiight',\n",
       " 'aaallll',\n",
       " 'aaalways',\n",
       " 'aaamaazing',\n",
       " 'aaamazing',\n",
       " 'aaammaaazzziinnnngggg',\n",
       " 'aaammaazzing',\n",
       " 'aaammaziiiing',\n",
       " 'aaammazing',\n",
       " 'aaammmazing',\n",
       " 'aaammmazinggggg',\n",
       " 'aaammmmaaazzziinnggg',\n",
       " 'aaand',\n",
       " 'aaannd',\n",
       " 'aaarghhh',\n",
       " 'aaawww',\n",
       " 'aaawwwwsome',\n",
       " 'aaay',\n",
       " 'aab',\n",
       " 'aac',\n",
       " 'aachi',\n",
       " 'aacross',\n",
       " 'aadbcc',\n",
       " 'aadd',\n",
       " 'aadorbsssssss',\n",
       " 'aagain',\n",
       " 'aah',\n",
       " 'aahaha',\n",
       " 'aahc',\n",
       " 'aahed',\n",
       " 'aahh',\n",
       " 'aahhh',\n",
       " 'aahhhh',\n",
       " 'aahhhhhaaaahhhhh',\n",
       " 'aahhhhhh',\n",
       " 'aahhhhhhmazing',\n",
       " 'aahing',\n",
       " 'aahran',\n",
       " 'aahs',\n",
       " 'aaid',\n",
       " 'aaiiight',\n",
       " 'aaim',\n",
       " 'aakowa',\n",
       " 'aalad',\n",
       " 'aaliyah',\n",
       " 'aall',\n",
       " 'aalll',\n",
       " 'aalo',\n",
       " 'aaloo',\n",
       " 'aalways',\n",
       " 'aalyssa',\n",
       " 'aam',\n",
       " 'aamaaazing',\n",
       " 'aamaazingly',\n",
       " 'aamazing',\n",
       " 'aamco',\n",
       " 'aammaazzing',\n",
       " 'aammmmazing',\n",
       " 'aamzing',\n",
       " 'aan',\n",
       " 'aand',\n",
       " 'aandwiches',\n",
       " 'aangekleed',\n",
       " 'aanold',\n",
       " 'aanrader',\n",
       " 'aany',\n",
       " 'aaovdvrdbvfzjbtweela',\n",
       " 'aapam',\n",
       " 'aapex',\n",
       " 'aapulco',\n",
       " 'aardvark',\n",
       " 'aargh',\n",
       " 'aarika',\n",
       " 'aaron',\n",
       " 'aaronlauxdesign',\n",
       " 'aarp',\n",
       " 'aarrived',\n",
       " 'aarón',\n",
       " 'aas',\n",
       " 'aash',\n",
       " 'aat',\n",
       " 'aatching',\n",
       " 'aate',\n",
       " 'aavailable',\n",
       " 'aawesome',\n",
       " 'aawl',\n",
       " 'aawsome',\n",
       " 'aawwwesooomme',\n",
       " 'aaxixufoaukvaxvorg',\n",
       " 'aay',\n",
       " 'aayesha',\n",
       " 'ab',\n",
       " 'ababa',\n",
       " 'aback',\n",
       " 'abacus',\n",
       " 'abadado',\n",
       " 'abado',\n",
       " 'abadoba',\n",
       " 'abadobo',\n",
       " 'abados',\n",
       " 'abajo',\n",
       " 'abak',\n",
       " 'abale',\n",
       " 'abali',\n",
       " 'abalone',\n",
       " 'abalonushrooms',\n",
       " 'aban',\n",
       " 'abandon',\n",
       " 'abandoned',\n",
       " 'abandoning',\n",
       " 'abandonment',\n",
       " 'abandonned',\n",
       " 'abandons',\n",
       " 'abao',\n",
       " 'abaot',\n",
       " 'abarca',\n",
       " 'abari',\n",
       " 'abarrotes',\n",
       " 'abate',\n",
       " 'abated',\n",
       " 'abatement',\n",
       " 'abates',\n",
       " 'abating',\n",
       " 'abaut',\n",
       " 'abavado',\n",
       " 'abay',\n",
       " 'abayas',\n",
       " 'abba',\n",
       " 'abbas',\n",
       " 'abbastanza',\n",
       " 'abbey',\n",
       " 'abbeyesque',\n",
       " 'abbia',\n",
       " 'abbiamo',\n",
       " 'abbodanza',\n",
       " 'abbodonza',\n",
       " 'abbona',\n",
       " 'abbondanza',\n",
       " 'abbot',\n",
       " 'abbott',\n",
       " 'abbout',\n",
       " 'abbra',\n",
       " 'abbracci',\n",
       " 'abbrasive',\n",
       " 'abbreviate',\n",
       " 'abbreviated',\n",
       " 'abbreviation',\n",
       " 'abbreviations',\n",
       " 'abbruzzese',\n",
       " 'abbstanzo',\n",
       " 'abbundenza',\n",
       " 'abby',\n",
       " 'abc',\n",
       " 'abcd',\n",
       " 'abcdelicious',\n",
       " 'abcers',\n",
       " 'abcs',\n",
       " 'abd',\n",
       " 'abdication',\n",
       " 'abdo',\n",
       " 'abdola',\n",
       " 'abdolutely',\n",
       " 'abdomen',\n",
       " 'abdominal',\n",
       " 'abdoul',\n",
       " 'abducted',\n",
       " 'abducting',\n",
       " 'abduction',\n",
       " 'abductor',\n",
       " 'abdul',\n",
       " 'abdullah',\n",
       " 'abe',\n",
       " 'abeba',\n",
       " 'abed',\n",
       " 'abeer',\n",
       " 'abeit',\n",
       " 'abel',\n",
       " 'abeled',\n",
       " 'abelule',\n",
       " 'abend',\n",
       " 'abendlich',\n",
       " 'abendliche',\n",
       " 'abendlichen',\n",
       " 'abends',\n",
       " 'aber',\n",
       " 'abercrombie',\n",
       " 'aberdeen',\n",
       " 'aberrant',\n",
       " 'aberration',\n",
       " 'aberrations',\n",
       " 'aberto',\n",
       " 'abertos',\n",
       " 'abesh',\n",
       " 'abesha',\n",
       " 'abet',\n",
       " 'abetos',\n",
       " 'abetter',\n",
       " 'abeula',\n",
       " 'abeulo',\n",
       " 'abeulos',\n",
       " 'abeyance',\n",
       " 'abf',\n",
       " 'abfab',\n",
       " 'abfertigung',\n",
       " 'abgeht',\n",
       " 'abgenutzt',\n",
       " 'abgeschmeckt',\n",
       " 'abgesehen',\n",
       " 'abgesperrte',\n",
       " 'abgoosht',\n",
       " 'abhi',\n",
       " 'abhor',\n",
       " 'abhore',\n",
       " 'abhorrent',\n",
       " 'abhorrently',\n",
       " 'abhors',\n",
       " 'abhängig',\n",
       " 'abi',\n",
       " 'abiance',\n",
       " 'abidance',\n",
       " 'abide',\n",
       " 'abided',\n",
       " 'abides',\n",
       " 'abiding',\n",
       " 'abience',\n",
       " 'abienta',\n",
       " 'abiertas',\n",
       " 'abierto',\n",
       " 'abiertos',\n",
       " 'abiet',\n",
       " 'abig',\n",
       " 'abigail',\n",
       " 'abigal',\n",
       " 'abililty',\n",
       " 'abilities',\n",
       " 'ability',\n",
       " 'abish',\n",
       " 'abismal',\n",
       " 'abiss',\n",
       " 'abit',\n",
       " 'abita',\n",
       " 'abitanti',\n",
       " 'abituale',\n",
       " 'abiut',\n",
       " 'abject',\n",
       " 'abke',\n",
       " 'ablado',\n",
       " 'ablaze',\n",
       " 'able',\n",
       " 'abled',\n",
       " 'ables',\n",
       " 'ablige',\n",
       " 'abliged',\n",
       " 'ablo',\n",
       " 'ablondigas',\n",
       " 'ablsolutely',\n",
       " 'ablt',\n",
       " 'ablum',\n",
       " 'ably',\n",
       " 'abmiance',\n",
       " 'abmience',\n",
       " 'abnormal',\n",
       " 'abnormally',\n",
       " 'abnoxious',\n",
       " 'abo',\n",
       " 'aboard',\n",
       " 'abobada',\n",
       " 'abobado',\n",
       " 'aboboda',\n",
       " 'abodaba',\n",
       " 'abodabba',\n",
       " 'abodabo',\n",
       " 'abodaca',\n",
       " 'abodada',\n",
       " 'abodadas',\n",
       " 'abodado',\n",
       " 'abode',\n",
       " 'abodoba',\n",
       " 'abodobe',\n",
       " 'abodobo',\n",
       " 'abododa',\n",
       " 'abodova',\n",
       " 'abogada',\n",
       " 'abogado',\n",
       " 'aboit',\n",
       " 'aboiut',\n",
       " 'aboldegas',\n",
       " 'abolish',\n",
       " 'abolished',\n",
       " 'abolitas',\n",
       " 'abolone',\n",
       " 'abolotti',\n",
       " 'abolute',\n",
       " 'abomidable',\n",
       " 'abominable',\n",
       " 'abominably',\n",
       " 'abomination',\n",
       " 'abominations',\n",
       " 'abondagas',\n",
       " 'abondanza',\n",
       " 'abondega',\n",
       " 'abondegas',\n",
       " 'abondigas',\n",
       " 'abondogas',\n",
       " 'aboot',\n",
       " 'aboout',\n",
       " 'aboretum',\n",
       " 'aborrotes',\n",
       " 'abort',\n",
       " 'aborted',\n",
       " 'abortion',\n",
       " 'abos',\n",
       " 'aboseffilutely',\n",
       " 'aboslut',\n",
       " 'aboslutely',\n",
       " 'aboslutley',\n",
       " 'abosolue',\n",
       " 'abosolutely',\n",
       " 'abosorbed',\n",
       " 'abosultely',\n",
       " 'abot',\n",
       " 'abother',\n",
       " 'abotminutesand',\n",
       " 'abotu',\n",
       " 'abou',\n",
       " 'aboug',\n",
       " 'abouh',\n",
       " 'abouissa',\n",
       " 'abouit',\n",
       " 'aboujt',\n",
       " 'abound',\n",
       " 'abounded',\n",
       " 'abounding',\n",
       " 'abounds',\n",
       " 'abour',\n",
       " 'aboutabout',\n",
       " 'abouther',\n",
       " 'abouthis',\n",
       " 'abouts',\n",
       " 'aboutt',\n",
       " 'abouut',\n",
       " 'abouy',\n",
       " 'abovada',\n",
       " 'aboveandbeyond',\n",
       " 'abovementioned',\n",
       " 'abover',\n",
       " 'abpvmjkjychtyiz',\n",
       " 'abq',\n",
       " 'abqiysswewbxnsbcuwwso',\n",
       " 'abra',\n",
       " 'abracadabra',\n",
       " 'abracos',\n",
       " 'abrado',\n",
       " 'abraham',\n",
       " 'abrahams',\n",
       " 'abram',\n",
       " 'abrams',\n",
       " 'abran',\n",
       " 'abrasion',\n",
       " 'abrasive',\n",
       " 'abrasively',\n",
       " 'abrazzo',\n",
       " 'abreast',\n",
       " 'abreviated',\n",
       " 'abria',\n",
       " 'abricots',\n",
       " 'abridged',\n",
       " 'abrigada',\n",
       " 'abril',\n",
       " 'abrir',\n",
       " 'abroad',\n",
       " 'abrputly',\n",
       " 'abrubtly',\n",
       " 'abrupt',\n",
       " 'abruptly',\n",
       " 'abruptness',\n",
       " 'abruscato',\n",
       " 'abruzza',\n",
       " 'abruzze',\n",
       " 'abruzzi',\n",
       " 'abruzzo',\n",
       " 'abs',\n",
       " 'absatively',\n",
       " 'abschließend',\n",
       " 'abschluss',\n",
       " 'abscond',\n",
       " 'absconded',\n",
       " 'absconding',\n",
       " 'abseits',\n",
       " 'absence',\n",
       " 'absences',\n",
       " 'absent',\n",
       " 'absentee',\n",
       " 'absently',\n",
       " 'absentminded',\n",
       " 'absentmindedly',\n",
       " 'absinthe',\n",
       " 'absinthey',\n",
       " 'absloutly',\n",
       " 'abso',\n",
       " 'absollutely',\n",
       " 'absolor',\n",
       " 'absoloutely',\n",
       " 'absoloutley',\n",
       " 'absoloutly',\n",
       " 'absolte',\n",
       " 'absoltely',\n",
       " 'absoluely',\n",
       " 'absoluetly',\n",
       " 'absolultely',\n",
       " 'absolultey',\n",
       " 'absolument',\n",
       " 'absolustely',\n",
       " 'absolut',\n",
       " 'absolutamente',\n",
       " 'absolute',\n",
       " 'absolutel',\n",
       " 'absolutelly',\n",
       " 'absolutelt',\n",
       " 'absolutely',\n",
       " 'absolutelyabsolutely',\n",
       " 'absolutelyorder',\n",
       " 'absoluter',\n",
       " 'absolutes',\n",
       " 'absolutety',\n",
       " 'absolutey',\n",
       " 'absolutle',\n",
       " 'absolutley',\n",
       " 'absolutly',\n",
       " 'absolutripoff',\n",
       " 'absolutuely',\n",
       " 'absoluyely',\n",
       " 'absolve',\n",
       " 'absolved',\n",
       " 'absoooooooolutely',\n",
       " 'absorb',\n",
       " 'absorbable',\n",
       " 'absorbance',\n",
       " 'absorbant',\n",
       " 'absorbed',\n",
       " 'absorbent',\n",
       " 'absorber',\n",
       " 'absorbinent',\n",
       " 'absorbing',\n",
       " 'absorbs',\n",
       " 'absorbtion',\n",
       " 'absord',\n",
       " 'absorded',\n",
       " 'absorption',\n",
       " 'absosutely',\n",
       " 'absou',\n",
       " 'absouletly',\n",
       " 'absoulety',\n",
       " 'absouloty',\n",
       " 'absoult',\n",
       " 'absoultely',\n",
       " 'absoultly',\n",
       " 'absoulty',\n",
       " 'absoulutely',\n",
       " 'absoulutly',\n",
       " 'absoutely',\n",
       " 'absoutley',\n",
       " 'absoutly',\n",
       " 'abstain',\n",
       " 'abstained',\n",
       " 'abstaining',\n",
       " 'abstains',\n",
       " 'abstammung',\n",
       " 'abstemious',\n",
       " 'abstinence',\n",
       " 'abstract',\n",
       " 'abstracts',\n",
       " 'absultely',\n",
       " 'absulute',\n",
       " 'absurb',\n",
       " 'absurd',\n",
       " 'absurdist',\n",
       " 'absurdity',\n",
       " 'absurdly',\n",
       " 'absured',\n",
       " 'absuridity',\n",
       " 'absutley',\n",
       " 'abt',\n",
       " 'abtibiotic',\n",
       " 'abtwist',\n",
       " 'abu',\n",
       " 'abuala',\n",
       " 'abudantly',\n",
       " 'abuela',\n",
       " 'abuelalita',\n",
       " 'abuelas',\n",
       " 'abuelita',\n",
       " 'abuelitas',\n",
       " 'abuelito',\n",
       " 'abuelitta',\n",
       " 'abuellas',\n",
       " 'abuello',\n",
       " 'abuelo',\n",
       " 'abuelos',\n",
       " 'abuffino',\n",
       " 'abuj',\n",
       " 'abulea',\n",
       " 'abuleas',\n",
       " 'abuleos',\n",
       " 'abulita',\n",
       " 'abulon',\n",
       " 'abunance',\n",
       " 'abundance',\n",
       " 'abundances',\n",
       " 'abundancy',\n",
       " 'abundane',\n",
       " 'abundant',\n",
       " 'abundante',\n",
       " 'abundantes',\n",
       " 'abundantly',\n",
       " 'abundent',\n",
       " 'abura',\n",
       " 'aburtos',\n",
       " 'abusan',\n",
       " 'abuse',\n",
       " 'abused',\n",
       " 'abusers',\n",
       " 'abuses',\n",
       " 'abusing',\n",
       " 'abusive',\n",
       " 'abusively',\n",
       " 'abusrd',\n",
       " 'abustle',\n",
       " 'abut',\n",
       " 'abuts',\n",
       " 'abutted',\n",
       " 'abutting',\n",
       " 'abuzz',\n",
       " 'abv',\n",
       " 'abviously',\n",
       " 'abvouisly',\n",
       " 'abwechslung',\n",
       " 'abyone',\n",
       " 'abysmal',\n",
       " 'abysmally',\n",
       " 'abyss',\n",
       " 'abyssina',\n",
       " 'abyssinia',\n",
       " 'abyssmal',\n",
       " 'abzug',\n",
       " 'abzüge',\n",
       " 'abzüglich',\n",
       " 'ac',\n",
       " 'aca',\n",
       " 'acabarla',\n",
       " 'acabaron',\n",
       " 'acabas',\n",
       " 'acaben',\n",
       " 'acabo',\n",
       " 'acac',\n",
       " 'acaci',\n",
       " 'acacia',\n",
       " 'academic',\n",
       " 'academics',\n",
       " 'academy',\n",
       " 'acadia',\n",
       " 'acadian',\n",
       " 'acadino',\n",
       " 'acado',\n",
       " 'acai',\n",
       " 'acaii',\n",
       " 'acais',\n",
       " 'acalpulco',\n",
       " 'acamole',\n",
       " 'acapaulco',\n",
       " 'acapella',\n",
       " 'acapuelco',\n",
       " 'acapulco',\n",
       " 'acaricia',\n",
       " 'acas',\n",
       " 'acaí',\n",
       " 'acc',\n",
       " 'accandle',\n",
       " 'accapella',\n",
       " 'accdentally',\n",
       " 'accdg',\n",
       " 'acceded',\n",
       " 'accedently',\n",
       " 'accelerate',\n",
       " 'accelerated',\n",
       " 'acceleration',\n",
       " 'accelerator',\n",
       " 'accent',\n",
       " 'accentauted',\n",
       " 'accented',\n",
       " 'accenting',\n",
       " 'accents',\n",
       " 'accentuate',\n",
       " 'accentuated',\n",
       " 'accentuates',\n",
       " 'accentuating',\n",
       " 'accept',\n",
       " 'acceptability',\n",
       " 'acceptable',\n",
       " 'acceptably',\n",
       " 'acceptance',\n",
       " 'accepted',\n",
       " 'acceptible',\n",
       " 'accepting',\n",
       " 'acception',\n",
       " 'acceptional',\n",
       " 'acceptionally',\n",
       " 'accepts',\n",
       " 'accesible',\n",
       " 'accesibles',\n",
       " 'access',\n",
       " 'accessed',\n",
       " 'accesses',\n",
       " 'accessibility',\n",
       " 'accessible',\n",
       " 'accessibly',\n",
       " 'accessing',\n",
       " 'accessive',\n",
       " 'accessories',\n",
       " 'accessorize',\n",
       " 'accessorized',\n",
       " 'accessorizing',\n",
       " 'accessory',\n",
       " 'accesssories',\n",
       " 'accidenally',\n",
       " 'accidenly',\n",
       " 'accident',\n",
       " 'accidental',\n",
       " 'accidentallly',\n",
       " 'accidentally',\n",
       " 'accidentaly',\n",
       " 'accidented',\n",
       " 'accidentially',\n",
       " 'accidently',\n",
       " 'accidents',\n",
       " 'accidic',\n",
       " 'acciented',\n",
       " 'accio',\n",
       " 'accionista',\n",
       " 'accistic',\n",
       " 'acclaim',\n",
       " 'acclaimed',\n",
       " 'acclaims',\n",
       " 'acclamated',\n",
       " 'acclamation',\n",
       " 'acclamations',\n",
       " 'acclaments',\n",
       " 'acclimate',\n",
       " 'acclimated',\n",
       " 'acclimating',\n",
       " 'acclimation',\n",
       " 'accoding',\n",
       " 'accolade',\n",
       " 'accolades',\n",
       " 'accomadate',\n",
       " 'accomadated',\n",
       " 'accomadatig',\n",
       " 'accomadating',\n",
       " 'accomadations',\n",
       " 'accomaditing',\n",
       " 'accomadting',\n",
       " 'accomdate',\n",
       " 'accomdates',\n",
       " 'accomdating',\n",
       " 'accomdation',\n",
       " 'accomdations',\n",
       " 'accomdoating',\n",
       " 'accomedate',\n",
       " 'accomedated',\n",
       " 'accomedating',\n",
       " 'accomediating',\n",
       " 'accomendating',\n",
       " 'accomendatting',\n",
       " 'accomidaring',\n",
       " 'accomidate',\n",
       " 'accomidated',\n",
       " 'accomidating',\n",
       " 'accomidations',\n",
       " 'accomiding',\n",
       " 'accommadated',\n",
       " 'accommadating',\n",
       " 'accommate',\n",
       " 'accommating',\n",
       " 'accommdating',\n",
       " 'accommidating',\n",
       " 'accomminating',\n",
       " 'accommodadting',\n",
       " 'accommodate',\n",
       " 'accommodated',\n",
       " 'accommodates',\n",
       " 'accommodating',\n",
       " 'accommodatingly',\n",
       " 'accommodation',\n",
       " 'accommodationing',\n",
       " 'accommodations',\n",
       " 'accommodative',\n",
       " 'accommoding',\n",
       " 'accomod',\n",
       " 'accomodate',\n",
       " 'accomodated',\n",
       " 'accomodates',\n",
       " 'accomodatin',\n",
       " 'accomodating',\n",
       " 'accomodation',\n",
       " 'accomodations',\n",
       " 'accomodative',\n",
       " 'accomoding',\n",
       " 'accomondating',\n",
       " 'accomp',\n",
       " 'accompagnement',\n",
       " 'accompaines',\n",
       " 'accompainment',\n",
       " 'accompamied',\n",
       " 'accompaniaments',\n",
       " 'accompanie',\n",
       " 'accompanied',\n",
       " 'accompaniement',\n",
       " 'accompaniements',\n",
       " 'accompanients',\n",
       " 'accompanies',\n",
       " 'accompaniment',\n",
       " 'accompaniments',\n",
       " 'accompaning',\n",
       " 'accompanishes',\n",
       " 'accompannied',\n",
       " 'accompany',\n",
       " 'accompanyin',\n",
       " 'accompanying',\n",
       " 'accompanyment',\n",
       " 'accompanyments',\n",
       " 'accompanys',\n",
       " 'accompiament',\n",
       " 'accompianment',\n",
       " 'accompianments',\n",
       " 'accompiant',\n",
       " 'accompied',\n",
       " 'accompiened',\n",
       " 'accompish',\n",
       " 'accompli',\n",
       " 'accomplice',\n",
       " 'accomplish',\n",
       " 'accomplished',\n",
       " 'accomplishes',\n",
       " 'accomplishing',\n",
       " 'accomplishment',\n",
       " 'accomplishments',\n",
       " 'accompnied',\n",
       " 'accompniments',\n",
       " 'accompying',\n",
       " 'accomudating',\n",
       " 'acconplished',\n",
       " 'accoomodating',\n",
       " 'accord',\n",
       " 'accordance',\n",
       " 'accordian',\n",
       " 'according',\n",
       " 'accordingly',\n",
       " 'accordion',\n",
       " 'accordionist',\n",
       " 'accordions',\n",
       " 'accost',\n",
       " 'accosted',\n",
       " 'accosting',\n",
       " 'accostom',\n",
       " 'accostomed',\n",
       " 'accosts',\n",
       " 'account',\n",
       " 'accountability',\n",
       " 'accountable',\n",
       " 'accountant',\n",
       " 'accountants',\n",
       " 'accounted',\n",
       " 'accounter',\n",
       " 'accounting',\n",
       " 'accounts',\n",
       " 'accoustic',\n",
       " 'accoustics',\n",
       " 'accoustomed',\n",
       " 'accouterment',\n",
       " 'accouterments',\n",
       " 'accoutics',\n",
       " 'accoutrement',\n",
       " 'accoutrements',\n",
       " 'accp',\n",
       " 'accquaintance',\n",
       " 'accrediation',\n",
       " 'accredit',\n",
       " 'accreditation',\n",
       " 'accredited',\n",
       " 'accross',\n",
       " 'accrue',\n",
       " 'accrued',\n",
       " 'accrues',\n",
       " 'acct',\n",
       " 'accudent',\n",
       " 'accueil',\n",
       " 'accuired',\n",
       " 'acculades',\n",
       " 'accumen',\n",
       " 'accumlating',\n",
       " 'accumstomed',\n",
       " 'accumulate',\n",
       " 'accumulated',\n",
       " 'accumulates',\n",
       " 'accumulating',\n",
       " 'accumulation',\n",
       " 'accupied',\n",
       " 'accupplulo',\n",
       " 'accuracies',\n",
       " 'accuracy',\n",
       " 'accurate',\n",
       " 'accurately',\n",
       " 'accurrate',\n",
       " 'accusal',\n",
       " 'accusation',\n",
       " 'accusations',\n",
       " 'accusatorial',\n",
       " 'accusatorially',\n",
       " 'accusatory',\n",
       " 'accuse',\n",
       " 'accused',\n",
       " 'accuses',\n",
       " 'accusing',\n",
       " 'accusingly',\n",
       " 'accustics',\n",
       " 'accustom',\n",
       " 'accustomed',\n",
       " 'accutally',\n",
       " 'accutramontes',\n",
       " 'accèder',\n",
       " 'accès',\n",
       " 'acdc',\n",
       " 'ace',\n",
       " 'aced',\n",
       " 'acehole',\n",
       " 'aceite',\n",
       " 'aceitoso',\n",
       " 'acelerada',\n",
       " 'acent',\n",
       " 'aceon',\n",
       " 'aceptable',\n",
       " 'aceptables',\n",
       " 'aceptan',\n",
       " 'aceptar',\n",
       " 'acerbic',\n",
       " 'acerca',\n",
       " 'acercan',\n",
       " 'acercó',\n",
       " 'acerqué',\n",
       " 'acers',\n",
       " 'acertain',\n",
       " 'aces',\n",
       " 'acess',\n",
       " 'acetaia',\n",
       " 'aceto',\n",
       " 'acetone',\n",
       " 'acetquencen',\n",
       " 'acetylene',\n",
       " 'acevedo',\n",
       " 'acewood',\n",
       " 'acfeeb',\n",
       " 'ach',\n",
       " 'acha',\n",
       " 'achaar',\n",
       " 'achaari',\n",
       " 'achali',\n",
       " 'achar',\n",
       " 'achari',\n",
       " 'achatz',\n",
       " 'achd',\n",
       " 'ache',\n",
       " 'ached',\n",
       " 'acheived',\n",
       " 'aches',\n",
       " 'achievable',\n",
       " 'achieve',\n",
       " 'achieved',\n",
       " 'achievement',\n",
       " 'achievements',\n",
       " 'achiever',\n",
       " 'achieves',\n",
       " 'achieving',\n",
       " 'achilles',\n",
       " 'achilote',\n",
       " 'aching',\n",
       " 'achiote',\n",
       " 'achknowledgement',\n",
       " 'achocolypse',\n",
       " 'achoite',\n",
       " 'acholic',\n",
       " 'achoo',\n",
       " 'achosen',\n",
       " 'achote',\n",
       " 'achtung',\n",
       " 'achy',\n",
       " 'acia',\n",
       " 'acid',\n",
       " 'acida',\n",
       " 'acidic',\n",
       " 'acidicly',\n",
       " 'acidified',\n",
       " 'acidity',\n",
       " 'acidly',\n",
       " 'acidness',\n",
       " 'acidophilus',\n",
       " 'acids',\n",
       " 'acidy',\n",
       " 'acidz',\n",
       " 'aciento',\n",
       " 'acini',\n",
       " 'ack',\n",
       " 'ackkk',\n",
       " 'acknolwedged',\n",
       " 'acknolwedgement',\n",
       " 'acknowled',\n",
       " 'acknowlede',\n",
       " 'acknowledge',\n",
       " ...]"
      ]
     },
     "execution_count": 14,
     "metadata": {},
     "output_type": "execute_result"
    }
   ],
   "source": [
    "ftrs"
   ]
  },
  {
   "cell_type": "markdown",
   "metadata": {},
   "source": [
    "---\n",
    "\n",
    "#### Mutlinomial NB - Train"
   ]
  },
  {
   "cell_type": "code",
   "execution_count": null,
   "metadata": {},
   "outputs": [],
   "source": [
    ">>> clf = GaussianNB()\n",
    ">>> clf.fit(X, Y)\n",
    "GaussianNB(priors=None)\n",
    ">>> print(clf.predict([[-0.8, -1]]))\n",
    "[1]\n",
    ">>> clf_pf = GaussianNB()\n",
    ">>> clf_pf.partial_fit(X, Y, np.unique(Y))\n",
    "GaussianNB(priors=None)\n",
    ">>> print(clf_pf.predict([[-0.8, -1]]))"
   ]
  },
  {
   "cell_type": "code",
   "execution_count": 15,
   "metadata": {},
   "outputs": [],
   "source": [
    "from sklearn.naive_bayes import MultinomialNB"
   ]
  },
  {
   "cell_type": "code",
   "execution_count": 16,
   "metadata": {},
   "outputs": [
    {
     "name": "stdout",
     "output_type": "stream",
     "text": [
      "CPU times: user 0 ns, sys: 0 ns, total: 0 ns\n",
      "Wall time: 11.7 µs\n"
     ]
    }
   ],
   "source": [
    "%%time\n",
    "M_NB_model = MultinomialNB()"
   ]
  },
  {
   "cell_type": "code",
   "execution_count": 17,
   "metadata": {},
   "outputs": [
    {
     "name": "stdout",
     "output_type": "stream",
     "text": [
      "CPU times: user 312 ms, sys: 16 ms, total: 328 ms\n",
      "Wall time: 646 ms\n"
     ]
    },
    {
     "data": {
      "text/plain": [
       "MultinomialNB(alpha=1.0, class_prior=None, fit_prior=True)"
      ]
     },
     "execution_count": 17,
     "metadata": {},
     "output_type": "execute_result"
    }
   ],
   "source": [
    "%%time\n",
    "M_NB_model.fit(X_train_term, y_train)"
   ]
  },
  {
   "cell_type": "markdown",
   "metadata": {},
   "source": [
    "---\n",
    "\n",
    "#### Multinomial NB - Test"
   ]
  },
  {
   "cell_type": "code",
   "execution_count": 18,
   "metadata": {},
   "outputs": [
    {
     "name": "stdout",
     "output_type": "stream",
     "text": [
      "CPU times: user 20.4 s, sys: 132 ms, total: 20.5 s\n",
      "Wall time: 27 s\n"
     ]
    }
   ],
   "source": [
    "%%time\n",
    "X_test_term = vectorizer.transform(X_test['text'])"
   ]
  },
  {
   "cell_type": "code",
   "execution_count": 19,
   "metadata": {},
   "outputs": [
    {
     "data": {
      "text/plain": [
       "(276901, 140970)"
      ]
     },
     "execution_count": 19,
     "metadata": {},
     "output_type": "execute_result"
    }
   ],
   "source": [
    "X_test_term.shape"
   ]
  },
  {
   "cell_type": "code",
   "execution_count": 20,
   "metadata": {},
   "outputs": [
    {
     "name": "stdout",
     "output_type": "stream",
     "text": [
      "CPU times: user 88 ms, sys: 0 ns, total: 88 ms\n",
      "Wall time: 177 ms\n"
     ]
    }
   ],
   "source": [
    "%%time\n",
    "pred = M_NB_model.predict(X_test_term)"
   ]
  },
  {
   "cell_type": "code",
   "execution_count": 21,
   "metadata": {},
   "outputs": [
    {
     "data": {
      "text/plain": [
       "276901"
      ]
     },
     "execution_count": 21,
     "metadata": {},
     "output_type": "execute_result"
    }
   ],
   "source": [
    "len(pred)"
   ]
  },
  {
   "cell_type": "code",
   "execution_count": 22,
   "metadata": {},
   "outputs": [
    {
     "data": {
      "text/plain": [
       "array([0., 0., 0., 0., 0., 0., 0., 0., 0., 0., 0., 0., 0., 0., 0., 0., 0.,\n",
       "       0., 0., 0., 0., 0., 0., 0., 0., 0., 0., 0., 0., 0.])"
      ]
     },
     "execution_count": 22,
     "metadata": {},
     "output_type": "execute_result"
    }
   ],
   "source": [
    "pred[:30]"
   ]
  },
  {
   "cell_type": "code",
   "execution_count": 23,
   "metadata": {},
   "outputs": [
    {
     "data": {
      "text/plain": [
       "array([0., 1.])"
      ]
     },
     "execution_count": 23,
     "metadata": {},
     "output_type": "execute_result"
    }
   ],
   "source": [
    "np.unique(pred)"
   ]
  },
  {
   "cell_type": "code",
   "execution_count": 24,
   "metadata": {},
   "outputs": [
    {
     "data": {
      "text/plain": [
       "608724    1.0\n",
       "473159    0.0\n",
       "789863    0.0\n",
       "791257    0.0\n",
       "326030    0.0\n",
       "242723    1.0\n",
       "653320    0.0\n",
       "309784    0.0\n",
       "117409    0.0\n",
       "362256    1.0\n",
       "Name: vegFriendly, dtype: float64"
      ]
     },
     "execution_count": 24,
     "metadata": {},
     "output_type": "execute_result"
    }
   ],
   "source": [
    "y_test[:10]"
   ]
  },
  {
   "cell_type": "code",
   "execution_count": 25,
   "metadata": {
    "scrolled": true
   },
   "outputs": [
    {
     "data": {
      "text/plain": [
       "array([0., 0., 0., 0., 0., 0., 0., 0., 0., 0.])"
      ]
     },
     "execution_count": 25,
     "metadata": {},
     "output_type": "execute_result"
    }
   ],
   "source": [
    "pred[:10]"
   ]
  },
  {
   "cell_type": "code",
   "execution_count": 26,
   "metadata": {},
   "outputs": [],
   "source": [
    "from sklearn.metrics import confusion_matrix, accuracy_score, precision_score, recall_score, f1_score\n",
    "\n",
    "from sklearn.metrics import classification_report, roc_auc_score, roc_curve"
   ]
  },
  {
   "cell_type": "code",
   "execution_count": 27,
   "metadata": {},
   "outputs": [
    {
     "data": {
      "text/plain": [
       "array([[218943,   1397],\n",
       "       [ 43837,  12724]])"
      ]
     },
     "execution_count": 27,
     "metadata": {},
     "output_type": "execute_result"
    }
   ],
   "source": [
    "lbls = ['vegFriendly', 'Non-vegFriendly']\n",
    "\n",
    "cm = confusion_matrix(y_test, pred)\n",
    "cm"
   ]
  },
  {
   "cell_type": "code",
   "execution_count": 28,
   "metadata": {},
   "outputs": [
    {
     "name": "stdout",
     "output_type": "stream",
     "text": [
      "             precision    recall  f1-score   support\n",
      "\n",
      "        0.0       0.83      0.99      0.91    220340\n",
      "        1.0       0.90      0.22      0.36     56561\n",
      "\n",
      "avg / total       0.85      0.84      0.79    276901\n",
      "\n"
     ]
    }
   ],
   "source": [
    "print(classification_report(y_test, pred))"
   ]
  },
  {
   "cell_type": "code",
   "execution_count": 29,
   "metadata": {},
   "outputs": [
    {
     "data": {
      "text/plain": [
       "0.8366419767353676"
      ]
     },
     "execution_count": 29,
     "metadata": {},
     "output_type": "execute_result"
    }
   ],
   "source": [
    "accuracy_score(y_test, pred)"
   ]
  },
  {
   "cell_type": "code",
   "execution_count": 30,
   "metadata": {},
   "outputs": [
    {
     "data": {
      "text/plain": [
       "0.9010693293676085"
      ]
     },
     "execution_count": 30,
     "metadata": {},
     "output_type": "execute_result"
    }
   ],
   "source": [
    "precision_score(y_test, pred)"
   ]
  },
  {
   "cell_type": "code",
   "execution_count": 31,
   "metadata": {},
   "outputs": [
    {
     "data": {
      "text/plain": [
       "0.22496066194020614"
      ]
     },
     "execution_count": 31,
     "metadata": {},
     "output_type": "execute_result"
    }
   ],
   "source": [
    "recall_score(y_test, pred)"
   ]
  },
  {
   "cell_type": "code",
   "execution_count": 32,
   "metadata": {},
   "outputs": [
    {
     "data": {
      "text/plain": [
       "0.360035086726465"
      ]
     },
     "execution_count": 32,
     "metadata": {},
     "output_type": "execute_result"
    }
   ],
   "source": [
    "f1_score(y_test, pred)"
   ]
  },
  {
   "cell_type": "code",
   "execution_count": 36,
   "metadata": {},
   "outputs": [
    {
     "name": "stdout",
     "output_type": "stream",
     "text": [
      "Confusion matrix, without normalization\n"
     ]
    },
    {
     "data": {
      "image/png": "[encoded data removed]",
      "text/plain": [
       "<Figure size 432x288 with 2 Axes>"
      ]
     },
     "metadata": {},
     "output_type": "display_data"
    }
   ],
   "source": [
    "plot_confusion_matrix(cm,lbls)"
   ]
  },
  {
   "cell_type": "code",
   "execution_count": 41,
   "metadata": {},
   "outputs": [],
   "source": [
    "y_score = M_NB_model.predict_proba(X_test_term)[:,1]"
   ]
  },
  {
   "cell_type": "code",
   "execution_count": 42,
   "metadata": {},
   "outputs": [
    {
     "data": {
      "text/plain": [
       "array([0.2375639 , 0.01452686, 0.20183143, 0.08411144, 0.044017  ,\n",
       "       0.17490146, 0.07130041, 0.03327107, 0.17920261, 0.2273582 ])"
      ]
     },
     "execution_count": 42,
     "metadata": {},
     "output_type": "execute_result"
    }
   ],
   "source": [
    "y_score[:10]"
   ]
  },
  {
   "cell_type": "code",
   "execution_count": 43,
   "metadata": {},
   "outputs": [],
   "source": [
    "fpr, tpr, thresholds = roc_curve(y_test, y_score, pos_label=1)"
   ]
  },
  {
   "cell_type": "code",
   "execution_count": 52,
   "metadata": {},
   "outputs": [
    {
     "name": "stdout",
     "output_type": "stream",
     "text": [
      "AUC score: 0.8567253478612689\n"
     ]
    },
    {
     "data": {
      "image/png": "[encoded data removed]",
      "text/plain": [
       "<Figure size 864x720 with 1 Axes>"
      ]
     },
     "metadata": {},
     "output_type": "display_data"
    }
   ],
   "source": [
    "plt.figure(figsize=(12,10))\n",
    "plt.plot(fpr, tpr, 'o--')\n",
    "plt.ylabel(\"True Positive Rate\",  fontsize=14)\n",
    "plt.xlabel(\"False Positive Rate\", fontsize=14);\n",
    "print(\"AUC score:\", roc_auc_score(y_test, y_score))"
   ]
  },
  {
   "cell_type": "code",
   "execution_count": null,
   "metadata": {},
   "outputs": [],
   "source": []
  },
  {
   "cell_type": "code",
   "execution_count": 38,
   "metadata": {},
   "outputs": [
    {
     "ename": "AttributeError",
     "evalue": "'MultinomialNB' object has no attribute 'feature_importances_'",
     "output_type": "error",
     "traceback": [
      "\u001b[0;31m---------------------------------------------------------------------------\u001b[0m",
      "\u001b[0;31mAttributeError\u001b[0m                            Traceback (most recent call last)",
      "\u001b[0;32m<ipython-input-38-3f33b19fff12>\u001b[0m in \u001b[0;36m<module>\u001b[0;34m()\u001b[0m\n\u001b[0;32m----> 1\u001b[0;31m \u001b[0mimportances\u001b[0m \u001b[0;34m=\u001b[0m \u001b[0mM_NB_model\u001b[0m\u001b[0;34m.\u001b[0m\u001b[0mfeature_importances_\u001b[0m\u001b[0;34m\u001b[0m\u001b[0m\n\u001b[0m\u001b[1;32m      2\u001b[0m \u001b[0;34m\u001b[0m\u001b[0m\n\u001b[1;32m      3\u001b[0m \u001b[0mimportances\u001b[0m\u001b[0;34m\u001b[0m\u001b[0m\n",
      "\u001b[0;31mAttributeError\u001b[0m: 'MultinomialNB' object has no attribute 'feature_importances_'"
     ]
    }
   ],
   "source": [
    "importances = M_NB_model.feature_importances_\n",
    "\n",
    "importances"
   ]
  },
  {
   "cell_type": "code",
   "execution_count": null,
   "metadata": {},
   "outputs": [],
   "source": []
  },
  {
   "cell_type": "code",
   "execution_count": 35,
   "metadata": {},
   "outputs": [],
   "source": [
    "import itertools \n",
    "import matplotlib.pyplot as plt\n",
    "%matplotlib inline\n",
    "\n",
    "def plot_confusion_matrix(cm, classes, normalize=False, title='Confusion matrix', cmap=plt.cm.Blues):\n",
    "    \"\"\"\n",
    "        This function prints and plots the confusion matrix.\n",
    "        Normalization can be applied by setting `normalize=True`.\n",
    "    \"\"\"\n",
    "    \n",
    "    if normalize:\n",
    "        cm = cm.astype('float') / cm.sum(axis=1)[:, np.newaxis]\n",
    "        print(\"Normalized confusion matrix\")\n",
    "    else:\n",
    "        print('Confusion matrix, without normalization')\n",
    "\n",
    "#     print(cm)\n",
    "\n",
    "    plt.imshow(cm, interpolation='nearest', cmap=cmap)\n",
    "    plt.title(title)\n",
    "    plt.colorbar()\n",
    "    tick_marks = np.arange(len(classes))\n",
    "    plt.xticks(tick_marks, classes, rotation=45)\n",
    "    plt.yticks(tick_marks, classes)\n",
    "\n",
    "    fmt = '.2f' if normalize else 'd'\n",
    "    thresh = cm.max() / 2.\n",
    "    for i, j in itertools.product(range(cm.shape[0]), range(cm.shape[1])):\n",
    "        plt.text(j, i, format(cm[i, j], fmt), horizontalalignment=\"center\",\n",
    "                 color=\"white\" if cm[i, j] > thresh else \"black\")\n",
    "        \n",
    "    plt.tight_layout()\n",
    "    plt.ylabel('True label')\n",
    "    plt.xlabel('Predicted label')"
   ]
  },
  {
   "cell_type": "code",
   "execution_count": null,
   "metadata": {},
   "outputs": [],
   "source": []
  }
 ],
 "metadata": {
  "kernelspec": {
   "display_name": "Python 3",
   "language": "python",
   "name": "python3"
  },
  "language_info": {
   "codemirror_mode": {
    "name": "ipython",
    "version": 3
   },
   "file_extension": ".py",
   "mimetype": "text/x-python",
   "name": "python",
   "nbconvert_exporter": "python",
   "pygments_lexer": "ipython3",
   "version": "3.6.4"
  }
 },
 "nbformat": 4,
 "nbformat_minor": 2
}
