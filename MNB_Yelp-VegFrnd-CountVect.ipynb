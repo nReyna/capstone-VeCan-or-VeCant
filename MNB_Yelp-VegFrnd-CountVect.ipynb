{
 "cells": [
  {
   "cell_type": "markdown",
   "metadata": {},
   "source": [
    "#### Aug. 12, 2018 2pm"
   ]
  },
  {
   "cell_type": "code",
   "execution_count": 1,
   "metadata": {},
   "outputs": [],
   "source": [
    "import numpy   as np\n",
    "import pandas  as pd\n",
    "\n",
    "import pickle\n",
    "import re\n",
    "from nltk.corpus import stopwords\n",
    "from sklearn.model_selection import train_test_split\n",
    "from sklearn.feature_extraction.text import CountVectorizer\n",
    "from sklearn.naive_bayes import MultinomialNB\n",
    "\n",
    "from sklearn.metrics import accuracy_score, precision_score, recall_score, f1_score\n",
    "from sklearn.metrics import confusion_matrix, classification_report, roc_auc_score, roc_curve\n"
   ]
  },
  {
   "cell_type": "markdown",
   "metadata": {},
   "source": [
    "---\n",
    "\n",
    "#### Function Definitions"
   ]
  },
  {
   "cell_type": "code",
   "execution_count": 2,
   "metadata": {},
   "outputs": [],
   "source": [
    "def time_Now():\n",
    "    import datetime\n",
    "    import pytz\n",
    "    utc_now = pytz.utc.localize(datetime.datetime.utcnow())\n",
    "    pst_now = utc_now.astimezone(pytz.timezone(\"America/Los_Angeles\"))\n",
    "    return (pst_now)"
   ]
  },
  {
   "cell_type": "code",
   "execution_count": 33,
   "metadata": {},
   "outputs": [],
   "source": [
    "import itertools \n",
    "import matplotlib.pyplot as plt\n",
    "%matplotlib inline\n",
    "\n",
    "def plot_confusion_matrix(cm, classes, normalize=False, title='Confusion matrix', cmap=plt.cm.Blues):\n",
    "    \"\"\"\n",
    "        This function prints and plots the confusion matrix.\n",
    "        Normalization can be applied by setting `normalize=True`.\n",
    "    \"\"\"\n",
    "    \n",
    "    if normalize:\n",
    "        cm = cm.astype('float') / cm.sum(axis=1)[:, np.newaxis]\n",
    "        print(\"Normalized confusion matrix\")\n",
    "    else:\n",
    "        print('Confusion matrix, without normalization')\n",
    "\n",
    "    plt.imshow(cm, interpolation='nearest', cmap=cmap)\n",
    "    plt.title(title)\n",
    "#     plt.colorbar()\n",
    "    tick_marks = np.arange(len(classes))\n",
    "    plt.xticks(tick_marks, classes, rotation=45)\n",
    "    plt.yticks(tick_marks, classes)\n",
    "\n",
    "    fmt = '.2f' if normalize else 'd'\n",
    "    thresh = cm.max() / 2.\n",
    "    for i, j in itertools.product(range(cm.shape[0]), range(cm.shape[1])):\n",
    "        plt.text(j, i, format(cm[i, j], fmt), horizontalalignment=\"center\",\n",
    "                 color=\"white\" if cm[i, j] > thresh else \"black\", fontsize=14)\n",
    "        \n",
    "    plt.tight_layout()\n",
    "    plt.ylabel('True label',  fontsize=14)\n",
    "    plt.xlabel('Predicted label',  fontsize=14)"
   ]
  },
  {
   "cell_type": "code",
   "execution_count": 4,
   "metadata": {},
   "outputs": [],
   "source": [
    "def plot_model_ROC(model, X_df, y_true, figTitle=None, printMetrics=False, figName=None):\n",
    "    '''\n",
    "        Function will plot the Model's ROC curve with several options:\n",
    "        - alter the fig TITLE\n",
    "        - APPEND model metrics to the figure\n",
    "        - SAVE figure as a *.png and a*.pdf file\n",
    "        \n",
    "        Function will execute with only 3 of the 6 parameters\n",
    "        - sklearn model that can give a predict_proba\n",
    "        - X_df to apply the predict_proba\n",
    "        - y_true the true values to compute TPR and FPR (T/F positive rates)\n",
    "    '''\n",
    "    \n",
    "    pred = model.predict(X_df)\n",
    "    y_score = model.predict_proba(X_df)[:,1]\n",
    "\n",
    "    fpr, tpr, thresholds = roc_curve(y_true, y_score, pos_label=1)\n",
    "\n",
    "    plt.figure(figsize=(12,10))\n",
    "    plt.plot(fpr, tpr, 'o--')\n",
    "    plt.plot(np.linspace(0,1), np.linspace(0,1), 'k--')\n",
    "    plt.ylabel(\"True Positive Rate\",  fontsize=14)\n",
    "    plt.xlabel(\"False Positive Rate\", fontsize=14);\n",
    "    plt.text(.6, .1, \"AUC score: {0:.4f}\".format( roc_auc_score(y_test, y_score) ), fontsize=14);\n",
    "    \n",
    "    if figTitle:\n",
    "        plt.title(figTitle)\n",
    "    else:\n",
    "        plt.title(str(model))\n",
    "        \n",
    "    if printMetrics:\n",
    "        plt.text(.6, .15, \"Accuracy score: {0:.4f}\".format( accuracy_score(y_true, pred) ), fontsize=14);\n",
    "        plt.text(.6, .2, \"Precision score: {0:.4f}\".format( precision_score(y_true, pred) ), fontsize=14);\n",
    "        plt.text(.6, .25, \"Recall score: {0:.4f}\".format( recall_score(y_true, pred) ), fontsize=14);\n",
    "        plt.text(.6, .3, \"F1 score: {0:.4f}\".format( f1_score(y_true, pred) ), fontsize=14);\n",
    "\n",
    "    if figName:\n",
    "        print(\"saving...\" + figName)\n",
    "        plt.gcf()\n",
    "        plt.savefig(figName + '.png')\n",
    "        plt.savefig(figName + '.pdf')"
   ]
  },
  {
   "cell_type": "code",
   "execution_count": 5,
   "metadata": {},
   "outputs": [],
   "source": [
    "def show_most_informative_features(vectorizer, clf, n=20):\n",
    "    \n",
    "    feature_names = vectorizer.get_feature_names()\n",
    "    coefs_with_fns = sorted(zip(clf.coef_[0], feature_names))\n",
    "    \n",
    "    top = zip(coefs_with_fns[:n], coefs_with_fns[:-(n + 1):-1])\n",
    "    for (coef_1, fn_1), (coef_2, fn_2) in top:\n",
    "        print(\"\\t%.4f\\t%-15s\\t\\t%.4f\\t%-15s\" % (coef_1, fn_1, coef_2, fn_2))"
   ]
  },
  {
   "cell_type": "code",
   "execution_count": 6,
   "metadata": {},
   "outputs": [],
   "source": [
    "def topWords(clf_model_nb, vectorFts, numFtrs=50):\n",
    "\n",
    "    \n",
    "    # Empirical log probability of features x_i, given a class y; P(x_i|y).\n",
    "\n",
    "    ftr_logProb = clf_model_nb.feature_log_prob_\n",
    "    ftr_logProb.shape\n",
    "\n",
    "    # Smoothed empirical log probability for each class.\n",
    "    class_logProb = clf_model_nb.class_log_prior_\n",
    "\n",
    "\n",
    "    posterior_ratios = (ftr_logProb[1,:] - ftr_logProb[0,:] + class_logProb[1] - class_logProb[0])\n",
    "\n",
    "    inds = np.argsort(posterior_ratios)[-1:-200:-1]\n",
    "\n",
    "    # posterior_ratios[inds]\n",
    "\n",
    "    print(np.array(vectorFts)[inds])"
   ]
  },
  {
   "cell_type": "markdown",
   "metadata": {},
   "source": [
    "---\n",
    "### Modified: "
   ]
  },
  {
   "cell_type": "code",
   "execution_count": 7,
   "metadata": {},
   "outputs": [
    {
     "name": "stdout",
     "output_type": "stream",
     "text": [
      "Last modified on:  2018-08-15 09:40:49.055831-07:00\n"
     ]
    }
   ],
   "source": [
    "print(\"Last modified on: \", time_Now())"
   ]
  },
  {
   "cell_type": "markdown",
   "metadata": {},
   "source": [
    "---\n",
    "\n",
    "### Large Pickled Dataset\n",
    "\n"
   ]
  },
  {
   "cell_type": "code",
   "execution_count": 8,
   "metadata": {},
   "outputs": [
    {
     "name": "stdout",
     "output_type": "stream",
     "text": [
      "CPU times: user 800 ms, sys: 532 ms, total: 1.33 s\n",
      "Wall time: 1.33 s\n"
     ]
    }
   ],
   "source": [
    "%%time\n",
    "df = pd.read_pickle(\"newRev_VegCols_US.pkl\")"
   ]
  },
  {
   "cell_type": "code",
   "execution_count": 9,
   "metadata": {},
   "outputs": [
    {
     "name": "stdout",
     "output_type": "stream",
     "text": [
      "CPU times: user 96 ms, sys: 32 ms, total: 128 ms\n",
      "Wall time: 129 ms\n"
     ]
    }
   ],
   "source": [
    "%%time\n",
    "X_df = df.drop(['vegFriendly', 'Vegan', 'Vegetarian'], axis=1)\n",
    "y_df = df['vegFriendly']"
   ]
  },
  {
   "cell_type": "code",
   "execution_count": 10,
   "metadata": {},
   "outputs": [
    {
     "name": "stdout",
     "output_type": "stream",
     "text": [
      "<class 'pandas.core.frame.DataFrame'>\n",
      "RangeIndex: 923002 entries, 0 to 923001\n",
      "Data columns (total 17 columns):\n",
      "business_id    923002 non-null object\n",
      "name           923002 non-null object\n",
      "review_id      923002 non-null object\n",
      "stars          923002 non-null int64\n",
      "date           923002 non-null datetime64[ns]\n",
      "text           923002 non-null object\n",
      "useful         923002 non-null int64\n",
      "funny          923002 non-null int64\n",
      "cool           923002 non-null int64\n",
      "city           923002 non-null object\n",
      "state          923002 non-null object\n",
      "Thai           923002 non-null float64\n",
      "Italian        923002 non-null float64\n",
      "Indian         923002 non-null float64\n",
      "Chinese        923002 non-null float64\n",
      "Mexican        923002 non-null float64\n",
      "Text_length    923002 non-null int64\n",
      "dtypes: datetime64[ns](1), float64(5), int64(5), object(6)\n",
      "memory usage: 119.7+ MB\n"
     ]
    }
   ],
   "source": [
    "X_df.info()"
   ]
  },
  {
   "cell_type": "code",
   "execution_count": 11,
   "metadata": {},
   "outputs": [
    {
     "name": "stdout",
     "output_type": "stream",
     "text": [
      "CPU times: user 16.2 s, sys: 124 ms, total: 16.3 s\n",
      "Wall time: 16.3 s\n"
     ]
    }
   ],
   "source": [
    "%%time\n",
    "X_df.iloc[:, 5] = X_df['text'].apply( lambda rev: re.sub(r'(\\d+)', '', rev) )"
   ]
  },
  {
   "cell_type": "code",
   "execution_count": 12,
   "metadata": {},
   "outputs": [
    {
     "name": "stdout",
     "output_type": "stream",
     "text": [
      "CPU times: user 688 ms, sys: 0 ns, total: 688 ms\n",
      "Wall time: 685 ms\n"
     ]
    }
   ],
   "source": [
    "%%time\n",
    "X_df.iloc[:, 5] = X_df['text'].apply( lambda rev: rev.replace('_', '') )"
   ]
  },
  {
   "cell_type": "code",
   "execution_count": 13,
   "metadata": {},
   "outputs": [],
   "source": [
    "X_train, X_test, y_train, y_test = train_test_split(X_df, y_df, test_size=0.3, random_state=62)"
   ]
  },
  {
   "cell_type": "code",
   "execution_count": 14,
   "metadata": {},
   "outputs": [
    {
     "name": "stdout",
     "output_type": "stream",
     "text": [
      "(646101, 17) (276901, 17)\n"
     ]
    }
   ],
   "source": [
    "print( X_train.shape, X_test.shape)"
   ]
  },
  {
   "cell_type": "markdown",
   "metadata": {},
   "source": [
    "---\n",
    "\n",
    "### Manipulate data sets"
   ]
  },
  {
   "cell_type": "code",
   "execution_count": 15,
   "metadata": {},
   "outputs": [],
   "source": [
    "stopWords = list(stopwords.words('english'))\n",
    "stopWords.extend(['good', 'excellent', 'best', 'like', 'place', 'really', 'ordered', 'amazing', 'fantastic', 'am', 'pm'])\n",
    "# 189 words with the 'eng' set\n",
    "stopWords.extend(['aa', 'aaa', 'aaaa', 'aaaaa', 'aaaaaa', 'aaaaaaaaaaaaaaaaaaaaaaaaaauuuuuuuuuuuuuuuuggggggggggggggggggg', 'aaaaaaah'])\n",
    "stopWords.extend(['aaaaaaamazing', 'aaaaaaand', 'aaaaaamazing', 'aaaaahhhh', 'aaaaahhhhhhmazing', 'aaaaahhhhmaaazeballs', 'aaaaamazing', 'aaaaand'])\n",
    "stopWords.extend(['aaaack', 'aaaamazing', 'aaaammmazziiigggg', 'aaaand', 'aaaarrgh', 'aaah', 'aaahh'])\n",
    "stopWords.extend(['aaahhhh', 'aaahhhhh', 'aaahhhhmmmaaazzziiiinnnnggg'])\n",
    "stopWords.extend(['aaammaziiiing', 'aaand', 'aab', 'aaboud', 'aac', 'aachi', 'aadd', 'aaggh', 'aagh', 'aah', 'aahan', 'aahc', 'aahhh'])\n",
    "stopWords.extend(['aahhhh', 'aahhhhhh', 'aahhhhhhmazing', 'aahhhhhmazing', 'aahhhhmazing', 'aahing', 'aahran'])\n",
    "# 234 words with the 'eng' set\n",
    "stopWords.extend(['aaaaaaaaaa', 'aaaaaaaaaaaaaand', 'aaaaaaaaaaaaaauthentic', 'aaaaaaaaaaaaaawwwwwwwwwwwwwwwwwwwwww', 'aaaaaaaaaaack', 'aaaaaaaaaaah', 'aaaaaaaaaand', 'aaaaaaaaargh', 'aaaaaaaack', 'aaaaaaaahhhhhhhhh', 'aaaaaaaamazing', 'aaaaaaaand', 'aaaaaaall', 'aaaaaaamaaaaazing', 'aaaaaaammmmazing', 'aaaaaahhhh', 'aaaaaahhhhh', 'aaaaaahhhhhmazing', 'aaaaaand', 'aaaaaannnddd', 'aaaaaannnndddd', 'aaaaagh', 'aaaaah', 'aaaaahhhhmazing', 'aaaaamaaazing', 'aaaaammmaazzzinnngg', 'aaaaarrrggghh', 'aaaaawful', 'aaaaay', 'aaaagh', 'aaaah', 'aaaahh', 'aaaahhh', 'aaaahhhh', 'aaaahhhhhhh', 'aaaahmazzzing', 'aaaajúa', 'aaaall', 'aaaalllllllll', 'aaaallright', 'aaaammaaazzinnnggg', 'aaaammazzing', 'aaaammmaaaaazzzziiiinnnngggg', 'aaaammmaaazing', 'aaaammmmmmazing', 'aaaamzing', 'aaaandd', 'aaaanddd', 'aaaannnd', 'aaaannnnd', 'aaaanyway', 'aaaawesoooome', 'aaaawwwesome', 'aaaawwwww', 'aaagggrrrrrrrhhhhh', 'aaahahaa', 'aaahhh', 'aaahhhhhhh', 'aaahhhs', 'aaahing', 'aaahmaaaazing', 'aaahmazing', 'aaahs', 'aaaiiiiight', 'aaall', 'aaallll', 'aaalways', 'aaamaazing', 'aaamazing', 'aaammaaazzziinnnngggg', 'aaammazing', 'aaammmazing', 'aaammmazinggggg', 'aaammmmaaazzziinnggg', 'aaannd', 'aaanndd', 'aaannndd', 'aaannnnd', 'aaanyway', 'aaare', 'aaawwee', 'aaawww', 'aaawwwwsome', 'aaay', 'aacross', 'aadbcc', 'aadorbsssssss', 'aagain', 'aahaan', 'aahed', 'aahh', 'aahs', 'aaid', 'aaiight', 'aaiiight', 'aaim', 'aaka', 'aaked', 'aaliyah', 'aall'])\n",
    "stopWords.extend(['aaaaaaaaaaaaahhhhhhh', 'aaaaaaaaaah', 'aaaaaaaahhhhmazing', 'aaaaaaaawesooooooooooooome', 'aaaaaaggghhh', 'aaaaaah', 'aaaaaawesome', 'aaaaahhh', 'aaaaahhhhhh', 'aaaahhhhhhs', 'aaaajua', 'aaaalmost', 'aaaamazzzzing', 'aaaammaaazzziiingggg', 'aaaarreeeee', 'aaagh', 'aaahed', 'aaahhhmaaaazing', 'aaahhhmazing', 'aaammaazzing', 'aaarghhh', 'aahaha', 'aahhhhhaaaahhhhh'])\n",
    "# 357 words with the 'eng' set"
   ]
  },
  {
   "cell_type": "code",
   "execution_count": 16,
   "metadata": {},
   "outputs": [],
   "source": [
    "vectorizer = CountVectorizer(stop_words=stopWords, strip_accents = 'ascii' )"
   ]
  },
  {
   "cell_type": "markdown",
   "metadata": {},
   "source": [
    "#### Vectorize Review Text"
   ]
  },
  {
   "cell_type": "code",
   "execution_count": 17,
   "metadata": {},
   "outputs": [
    {
     "name": "stdout",
     "output_type": "stream",
     "text": [
      "CPU times: user 49.2 s, sys: 576 ms, total: 49.8 s\n",
      "Wall time: 49.8 s\n"
     ]
    }
   ],
   "source": [
    "%%time\n",
    "X_train_term  = vectorizer.fit_transform(X_train['text'])"
   ]
  },
  {
   "cell_type": "code",
   "execution_count": 18,
   "metadata": {},
   "outputs": [
    {
     "data": {
      "text/plain": [
       "(646101, 137644)"
      ]
     },
     "execution_count": 18,
     "metadata": {},
     "output_type": "execute_result"
    }
   ],
   "source": [
    "X_train_term.shape"
   ]
  },
  {
   "cell_type": "code",
   "execution_count": 19,
   "metadata": {},
   "outputs": [],
   "source": [
    "ftrs = vectorizer.get_feature_names()"
   ]
  },
  {
   "cell_type": "code",
   "execution_count": 20,
   "metadata": {},
   "outputs": [
    {
     "data": {
      "text/plain": [
       "357"
      ]
     },
     "execution_count": 20,
     "metadata": {},
     "output_type": "execute_result"
    }
   ],
   "source": [
    "len(vectorizer.get_stop_words())"
   ]
  },
  {
   "cell_type": "markdown",
   "metadata": {},
   "source": [
    "---\n",
    "\n",
    "#### Mutlinomial NB - Train"
   ]
  },
  {
   "cell_type": "code",
   "execution_count": 21,
   "metadata": {},
   "outputs": [
    {
     "name": "stdout",
     "output_type": "stream",
     "text": [
      "CPU times: user 0 ns, sys: 0 ns, total: 0 ns\n",
      "Wall time: 15.5 µs\n"
     ]
    }
   ],
   "source": [
    "%%time\n",
    "M_NB_model = MultinomialNB()"
   ]
  },
  {
   "cell_type": "code",
   "execution_count": 22,
   "metadata": {},
   "outputs": [
    {
     "name": "stdout",
     "output_type": "stream",
     "text": [
      "CPU times: user 352 ms, sys: 68 ms, total: 420 ms\n",
      "Wall time: 419 ms\n"
     ]
    },
    {
     "data": {
      "text/plain": [
       "MultinomialNB(alpha=1.0, class_prior=None, fit_prior=True)"
      ]
     },
     "execution_count": 22,
     "metadata": {},
     "output_type": "execute_result"
    }
   ],
   "source": [
    "%%time\n",
    "M_NB_model.fit(X_train_term, y_train)"
   ]
  },
  {
   "cell_type": "markdown",
   "metadata": {},
   "source": [
    "---\n",
    "\n",
    "#### Multinomial NB - Test"
   ]
  },
  {
   "cell_type": "code",
   "execution_count": 23,
   "metadata": {},
   "outputs": [
    {
     "name": "stdout",
     "output_type": "stream",
     "text": [
      "CPU times: user 20.6 s, sys: 76 ms, total: 20.7 s\n",
      "Wall time: 20.6 s\n"
     ]
    }
   ],
   "source": [
    "%%time\n",
    "X_test_term = vectorizer.transform(X_test['text'])"
   ]
  },
  {
   "cell_type": "code",
   "execution_count": 24,
   "metadata": {},
   "outputs": [
    {
     "data": {
      "text/plain": [
       "(276901, 137644)"
      ]
     },
     "execution_count": 24,
     "metadata": {},
     "output_type": "execute_result"
    }
   ],
   "source": [
    "X_test_term.shape"
   ]
  },
  {
   "cell_type": "code",
   "execution_count": 25,
   "metadata": {},
   "outputs": [
    {
     "name": "stdout",
     "output_type": "stream",
     "text": [
      "CPU times: user 96 ms, sys: 12 ms, total: 108 ms\n",
      "Wall time: 106 ms\n"
     ]
    }
   ],
   "source": [
    "%%time\n",
    "pred = M_NB_model.predict(X_test_term)"
   ]
  },
  {
   "cell_type": "code",
   "execution_count": 26,
   "metadata": {},
   "outputs": [
    {
     "name": "stdout",
     "output_type": "stream",
     "text": [
      "             precision    recall  f1-score   support\n",
      "\n",
      "        0.0       0.90      0.91      0.91    220211\n",
      "        1.0       0.65      0.61      0.63     56690\n",
      "\n",
      "avg / total       0.85      0.85      0.85    276901\n",
      "\n"
     ]
    }
   ],
   "source": [
    "print(classification_report(y_test, pred))"
   ]
  },
  {
   "cell_type": "code",
   "execution_count": 27,
   "metadata": {},
   "outputs": [
    {
     "data": {
      "text/plain": [
       "0.8515787230815346"
      ]
     },
     "execution_count": 27,
     "metadata": {},
     "output_type": "execute_result"
    }
   ],
   "source": [
    "accuracy_score(y_test, pred)"
   ]
  },
  {
   "cell_type": "code",
   "execution_count": 28,
   "metadata": {},
   "outputs": [
    {
     "data": {
      "text/plain": [
       "0.6452905438145291"
      ]
     },
     "execution_count": 28,
     "metadata": {},
     "output_type": "execute_result"
    }
   ],
   "source": [
    "precision_score(y_test, pred)"
   ]
  },
  {
   "cell_type": "code",
   "execution_count": 29,
   "metadata": {},
   "outputs": [
    {
     "data": {
      "text/plain": [
       "0.6107779149761863"
      ]
     },
     "execution_count": 29,
     "metadata": {},
     "output_type": "execute_result"
    }
   ],
   "source": [
    "recall_score(y_test, pred)"
   ]
  },
  {
   "cell_type": "code",
   "execution_count": 30,
   "metadata": {},
   "outputs": [
    {
     "data": {
      "text/plain": [
       "0.6275600826476239"
      ]
     },
     "execution_count": 30,
     "metadata": {},
     "output_type": "execute_result"
    }
   ],
   "source": [
    "f1_score(y_test, pred)"
   ]
  },
  {
   "cell_type": "code",
   "execution_count": 35,
   "metadata": {},
   "outputs": [],
   "source": [
    "lbls = ['Non-vegFriendly', 'vegFriendly']\n",
    "cm = confusion_matrix(y_test, pred)"
   ]
  },
  {
   "cell_type": "code",
   "execution_count": 36,
   "metadata": {},
   "outputs": [
    {
     "name": "stdout",
     "output_type": "stream",
     "text": [
      "Confusion matrix, without normalization\n",
      "saving...MNB_357Stw_full_1pgr\n"
     ]
    },
    {
     "data": {
      "image/png": "[encoded data removed]",
      "text/plain": [
       "<Figure size 432x288 with 1 Axes>"
      ]
     },
     "metadata": {},
     "output_type": "display_data"
    }
   ],
   "source": [
    "plot_confusion_matrix(cm,lbls)\n",
    "figName = 'MNB_357Stw_full_1pgr'\n",
    "# print(\"saving...\" + figName)\n",
    "# plt.gcf()\n",
    "# plt.savefig(figName + '.png')\n",
    "# plt.savefig(figName + '.pdf')"
   ]
  },
  {
   "cell_type": "code",
   "execution_count": 32,
   "metadata": {},
   "outputs": [
    {
     "data": {
      "image/png": "[encoded data removed]",
      "text/plain": [
       "<Figure size 864x720 with 1 Axes>"
      ]
     },
     "metadata": {},
     "output_type": "display_data"
    }
   ],
   "source": [
    "fTitle = 'Multinomial NB with ~350 StopWords (Full)'\n",
    "mMetrics = True\n",
    "fName = 'MNB_357StWds_full_countV'\n",
    "plot_model_ROC(M_NB_model, X_test_term, y_test, fTitle, mMetrics)#, fName)"
   ]
  },
  {
   "cell_type": "markdown",
   "metadata": {},
   "source": [
    "---\n",
    "\n",
    "### Log odds of priors"
   ]
  },
  {
   "cell_type": "code",
   "execution_count": 33,
   "metadata": {},
   "outputs": [
    {
     "name": "stdout",
     "output_type": "stream",
     "text": [
      "\t-15.7105\t14             \t\t-4.0107\tfood           \n",
      "\t-15.7105\tTM             \t\t-4.6553\tgreat          \n",
      "\t-15.7105\taaaaaaahhhhhh  \t\t-4.9457\tservice        \n",
      "\t-15.7105\taaaamaaazing   \t\t-5.1159\tone            \n",
      "\t-15.7105\taaaayway       \t\t-5.1306\ttime           \n",
      "\t-15.7105\taakowa         \t\t-5.1555\tback           \n",
      "\t-15.7105\taalad          \t\t-5.1945\tgo             \n",
      "\t-15.7105\taalmon         \t\t-5.2389\tchicken        \n",
      "\t-15.7105\taalo           \t\t-5.2397\tget            \n",
      "\t-15.7105\taalways        \t\t-5.2947\twould          \n",
      "\t-15.7105\taalyssa        \t\t-5.3323\talso           \n",
      "\t-15.7105\taamaaazing     \t\t-5.3356\trestaurant     \n",
      "\t-15.7105\taamaazingly    \t\t-5.3512\tdelicious      \n",
      "\t-15.7105\taamco          \t\t-5.4212\tlove           \n",
      "\t-15.7105\taamsotto       \t\t-5.4334\tmenu           \n",
      "\t-15.7105\taamzing        \t\t-5.4398\tvegan          \n",
      "\t-15.7105\taandwiches     \t\t-5.4578\ttry            \n",
      "\t-15.7105\taangekleed     \t\t-5.5492\torder          \n",
      "\t-15.7105\taangenaam      \t\t-5.6044\tgot            \n",
      "\t-15.7105\taanji          \t\t-5.6586\tus             \n"
     ]
    }
   ],
   "source": [
    "show_most_informative_features(vectorizer, M_NB_model, 20)"
   ]
  },
  {
   "cell_type": "markdown",
   "metadata": {},
   "source": [
    "---\n",
    "### Ratio of posteriors for both classes"
   ]
  },
  {
   "cell_type": "code",
   "execution_count": 34,
   "metadata": {},
   "outputs": [
    {
     "name": "stdout",
     "output_type": "stream",
     "text": [
      "['injera' 'wac' 'vegenation' 'tsoynami' 'tsoynamis' 'lalibela' 'vegeway'\n",
      " 'gomen' 'grabbagreen' 'soynami' 'lunasagna' 'chopt' 'nami' 'wellness'\n",
      " 'brimstone' 'tfk' 'chakra' 'capastrami' 'tibs' 'eatt' 'brizza' 'pastoli'\n",
      " 'alicha' 'misir' 'moko' 'chima' 'yayo' 'mijana' 'violette' 'doan' 'tlt'\n",
      " 'thailicious' 'choolaah' 'tsom' 'taytu' 'cinnaholic' 'pitza' 'apteka'\n",
      " 'dotty' 'ethiopian' 'zizi' 'grabba' 'doro' 'lgbtq' 'hussong' 'abay' 'ycs'\n",
      " 'olivier' 'misoya' 'teff' 'yc' 'mvpita' 'yinzburgh' 'fosolia' 'quesas'\n",
      " 'tikil' 'adda' 'wheatgrass' 'rvc' 'merkato' 'fern' 'fuegos' 'kome'\n",
      " 'soynamis' 'graz' 'zoma' 'rawco' 'sambusas' 'mika' 'ipho' 'berbere'\n",
      " 'aladdins' 'sega' 'braggs' 'chikn' 'panevino' 'buraka' 'sonio' 'ganoosh'\n",
      " 'hemp' 'ikes' 'naji' 'kinoko' 'tofurky' 'treehouse' 'capistrami'\n",
      " 'sprinly' 'nandini' 'sambussa' 'kitfo' 'jovany' 'nekter' 'gandhi'\n",
      " 'kyklos' 'omnis' 'pastolis' 'greene' 'dumplinghaus' 'zenith' 'condesa'\n",
      " 'angara' 'yalla' 'ethiopians' 'mestizo' 'maca' 'shawerma' 'dobra'\n",
      " 'chopshop' 'goku' 'ladonia' 'bhushan' 'pitaya' 'pterodactyl' 'rani'\n",
      " 'everly' 'weil' 'burgerim' 'bbbq' 'nush' 'veggieat' 'bizness' 'nakamura'\n",
      " 'dougan' 'gluuteny' 'arieanna' 'cotti' 'quiessence' 'hussongs' 'aladdin'\n",
      " 'nonvegan' 'kibbie' 'sambusa' 'davor' 'zizis' 'burtons' 'bowlology'\n",
      " 'genghi' 'taboule' 'freshii' 'acai' 'turban' 'dowry' 'wunderhund' 'neche'\n",
      " 'wafflewich' 'carob' 'misr' 'dorowat' 'yebeg' 'swani' 'yh' 'lyfe'\n",
      " 'panacea' 'veganbites' 'franktuary' 'kye' 'tadig' 'tarako' 'ayib'\n",
      " 'nojito' 'gratine' 'runnelstone' 'deirdre' 'yekik' 'parmageddon' 'fuma'\n",
      " 'butterbeer' 'cheba' 'optima' 'udupi' 'tahini' 'zoes' 'tediberto'\n",
      " 'treehuggers' 'kosmic' 'namastay' 'ceebee' 'egglessrolls' 'sambusek'\n",
      " 'vimto' 'freshbox' 'injeera' 'dorowot' 'uvjtslktguglzencja' 'ritesh'\n",
      " 'dolmas' 'souplantation' 'pasties' 'ethiopia' 'vegenaise' 'tigra'\n",
      " 'meateater' 'inguday' 'abides' 'qwik' 'dwg' 'griefo' 'oggie' 'daawat']\n"
     ]
    }
   ],
   "source": [
    "topWords(M_NB_model, ftrs, 50)"
   ]
  },
  {
   "cell_type": "code",
   "execution_count": null,
   "metadata": {},
   "outputs": [],
   "source": []
  }
 ],
 "metadata": {
  "kernelspec": {
   "display_name": "Python 3",
   "language": "python",
   "name": "python3"
  },
  "language_info": {
   "codemirror_mode": {
    "name": "ipython",
    "version": 3
   },
   "file_extension": ".py",
   "mimetype": "text/x-python",
   "name": "python",
   "nbconvert_exporter": "python",
   "pygments_lexer": "ipython3",
   "version": "3.6.4"
  }
 },
 "nbformat": 4,
 "nbformat_minor": 2
}
