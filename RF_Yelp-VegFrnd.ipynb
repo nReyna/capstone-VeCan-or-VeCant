{
 "cells": [
  {
   "cell_type": "markdown",
   "metadata": {},
   "source": [
    "#### Aug. 9, 2018 1pm"
   ]
  },
  {
   "cell_type": "code",
   "execution_count": 1,
   "metadata": {},
   "outputs": [],
   "source": [
    "import numpy   as np\n",
    "import pandas  as pd\n",
    "\n",
    "import seaborn as sns\n",
    "import matplotlib.pyplot as plt\n",
    "%matplotlib inline\n",
    "\n",
    "from sklearn.model_selection import train_test_split\n",
    "from sklearn.feature_extraction.text import TfidfVectorizer\n",
    "from sklearn.preprocessing   import scale, StandardScaler\n",
    "from sklearn.decomposition   import PCA, TruncatedSVD\n",
    "\n",
    "import pickle\n",
    "from nltk.corpus import stopwords\n",
    "\n",
    "import re"
   ]
  },
  {
   "cell_type": "markdown",
   "metadata": {},
   "source": [
    "---\n",
    "\n",
    "### Large Pickled Dataset\n",
    "\n"
   ]
  },
  {
   "cell_type": "code",
   "execution_count": 2,
   "metadata": {},
   "outputs": [
    {
     "name": "stdout",
     "output_type": "stream",
     "text": [
      "CPU times: user 804 ms, sys: 532 ms, total: 1.34 s\n",
      "Wall time: 1.34 s\n"
     ]
    }
   ],
   "source": [
    "%%time\n",
    "df = pd.read_pickle(\"newRev_VegCols_US.pkl\")"
   ]
  },
  {
   "cell_type": "code",
   "execution_count": 3,
   "metadata": {},
   "outputs": [
    {
     "data": {
      "text/plain": [
       "0.0    733919\n",
       "1.0    189083\n",
       "Name: vegFriendly, dtype: int64"
      ]
     },
     "execution_count": 3,
     "metadata": {},
     "output_type": "execute_result"
    }
   ],
   "source": [
    "df['vegFriendly'].value_counts()"
   ]
  },
  {
   "cell_type": "code",
   "execution_count": 4,
   "metadata": {},
   "outputs": [],
   "source": [
    "X_df = df.drop(['vegFriendly', 'Vegan', 'Vegetarian'], axis=1)\n",
    "y_df = df['vegFriendly']"
   ]
  },
  {
   "cell_type": "code",
   "execution_count": 5,
   "metadata": {},
   "outputs": [
    {
     "name": "stdout",
     "output_type": "stream",
     "text": [
      "<class 'pandas.core.frame.DataFrame'>\n",
      "RangeIndex: 923002 entries, 0 to 923001\n",
      "Data columns (total 17 columns):\n",
      "business_id    923002 non-null object\n",
      "name           923002 non-null object\n",
      "review_id      923002 non-null object\n",
      "stars          923002 non-null int64\n",
      "date           923002 non-null datetime64[ns]\n",
      "text           923002 non-null object\n",
      "useful         923002 non-null int64\n",
      "funny          923002 non-null int64\n",
      "cool           923002 non-null int64\n",
      "city           923002 non-null object\n",
      "state          923002 non-null object\n",
      "Thai           923002 non-null float64\n",
      "Italian        923002 non-null float64\n",
      "Indian         923002 non-null float64\n",
      "Chinese        923002 non-null float64\n",
      "Mexican        923002 non-null float64\n",
      "Text_length    923002 non-null int64\n",
      "dtypes: datetime64[ns](1), float64(5), int64(5), object(6)\n",
      "memory usage: 119.7+ MB\n"
     ]
    }
   ],
   "source": [
    "X_df.info()"
   ]
  },
  {
   "cell_type": "code",
   "execution_count": 6,
   "metadata": {},
   "outputs": [
    {
     "name": "stdout",
     "output_type": "stream",
     "text": [
      "CPU times: user 16.6 s, sys: 180 ms, total: 16.8 s\n",
      "Wall time: 16.8 s\n"
     ]
    }
   ],
   "source": [
    "%%time\n",
    "X_df.iloc[:, 5] = X_df['text'].apply( lambda rev: re.sub(r'(\\d+)', '', rev) )"
   ]
  },
  {
   "cell_type": "code",
   "execution_count": 7,
   "metadata": {},
   "outputs": [
    {
     "name": "stdout",
     "output_type": "stream",
     "text": [
      "CPU times: user 6.95 s, sys: 0 ns, total: 6.95 s\n",
      "Wall time: 6.95 s\n"
     ]
    }
   ],
   "source": [
    "%%time\n",
    "X_df.iloc[:, 5] = X_df['text'].apply( lambda rev: re.sub(r'^[a]*[a-zA-Z]*$', '', rev) )"
   ]
  },
  {
   "cell_type": "code",
   "execution_count": 8,
   "metadata": {},
   "outputs": [
    {
     "name": "stdout",
     "output_type": "stream",
     "text": [
      "CPU times: user 684 ms, sys: 4 ms, total: 688 ms\n",
      "Wall time: 687 ms\n"
     ]
    }
   ],
   "source": [
    "%%time\n",
    "X_df.iloc[:, 5] = X_df['text'].apply( lambda rev: rev.replace('_', '') )"
   ]
  },
  {
   "cell_type": "code",
   "execution_count": 51,
   "metadata": {},
   "outputs": [
    {
     "name": "stdout",
     "output_type": "stream",
     "text": [
      "CPU times: user 2.02 s, sys: 0 ns, total: 2.02 s\n",
      "Wall time: 2.03 s\n"
     ]
    }
   ],
   "source": [
    "%%time\n",
    "X_df.iloc[:, 5] = X_df['text'].apply( lambda rev: re.sub(r'[a][a][a]*', '', rev) )"
   ]
  },
  {
   "cell_type": "code",
   "execution_count": 52,
   "metadata": {},
   "outputs": [],
   "source": [
    "X_train, X_test, y_train, y_test = train_test_split(X_df, y_df, test_size=0.3)"
   ]
  },
  {
   "cell_type": "code",
   "execution_count": 53,
   "metadata": {},
   "outputs": [
    {
     "name": "stdout",
     "output_type": "stream",
     "text": [
      "(646101, 17) (276901, 17)\n"
     ]
    }
   ],
   "source": [
    "print( X_train.shape, X_test.shape)"
   ]
  },
  {
   "cell_type": "markdown",
   "metadata": {},
   "source": [
    "---\n",
    "\n",
    "### Manipulate data sets"
   ]
  },
  {
   "cell_type": "code",
   "execution_count": 54,
   "metadata": {},
   "outputs": [],
   "source": [
    "stopWords = list(stopwords.words('english'))\n",
    "stopWords.extend(['good', 'excellent', 'best', 'like', 'place', 'really', 'ordered', 'amazing', 'fantastic', 'am', 'pm'])"
   ]
  },
  {
   "cell_type": "code",
   "execution_count": 55,
   "metadata": {},
   "outputs": [],
   "source": [
    "vectorizer = TfidfVectorizer(stop_words=stopWords)"
   ]
  },
  {
   "cell_type": "markdown",
   "metadata": {},
   "source": [
    "#### Vectorize Review Text"
   ]
  },
  {
   "cell_type": "code",
   "execution_count": 56,
   "metadata": {},
   "outputs": [
    {
     "name": "stdout",
     "output_type": "stream",
     "text": [
      "CPU times: user 45.3 s, sys: 1.9 s, total: 47.2 s\n",
      "Wall time: 47.2 s\n"
     ]
    }
   ],
   "source": [
    "%%time\n",
    "X_train_term  = vectorizer.fit_transform(X_train['text'])"
   ]
  },
  {
   "cell_type": "code",
   "execution_count": 57,
   "metadata": {},
   "outputs": [
    {
     "data": {
      "text/plain": [
       "(646101, 140511)"
      ]
     },
     "execution_count": 57,
     "metadata": {},
     "output_type": "execute_result"
    }
   ],
   "source": [
    "X_train_term.shape"
   ]
  },
  {
   "cell_type": "code",
   "execution_count": 58,
   "metadata": {},
   "outputs": [],
   "source": [
    "ftrs = vectorizer.get_feature_names()"
   ]
  },
  {
   "cell_type": "code",
   "execution_count": 59,
   "metadata": {},
   "outputs": [
    {
     "data": {
      "text/plain": [
       "['aa',\n",
       " 'aaa',\n",
       " 'aaaa',\n",
       " 'aaaaa',\n",
       " 'aaaaaa',\n",
       " 'aaaaaaaaaaaaaaaaaaaaaaaaaauuuuuuuuuuuuuuuuggggggggggggggggggg',\n",
       " 'aaaaaaah',\n",
       " 'aaaaaaamazing',\n",
       " 'aaaaaaand',\n",
       " 'aaaaaamazing',\n",
       " 'aaaaahhhh',\n",
       " 'aaaaahhhhhhmazing',\n",
       " 'aaaaahhhhmaaazeballs',\n",
       " 'aaaaamazing',\n",
       " 'aaaaand',\n",
       " 'aaaack',\n",
       " 'aaaamazing',\n",
       " 'aaaammmazziiigggg',\n",
       " 'aaaand',\n",
       " 'aaaarrgh',\n",
       " 'aaah',\n",
       " 'aaahh',\n",
       " 'aaahhhh',\n",
       " 'aaahhhhh',\n",
       " 'aaahhhhmmmaaazzziiiinnnnggg',\n",
       " 'aaammaziiiing',\n",
       " 'aaand',\n",
       " 'aab',\n",
       " 'aaboud',\n",
       " 'aac',\n",
       " 'aachi',\n",
       " 'aadd',\n",
       " 'aaggh',\n",
       " 'aagh',\n",
       " 'aah',\n",
       " 'aahan',\n",
       " 'aahc',\n",
       " 'aahhh',\n",
       " 'aahhhh',\n",
       " 'aahhhhhh',\n",
       " 'aahhhhhhmazing',\n",
       " 'aahhhhhmazing',\n",
       " 'aahhhhmazing',\n",
       " 'aahing',\n",
       " 'aahran',\n",
       " 'aajúa',\n",
       " 'aakowa',\n",
       " 'aaliyah',\n",
       " 'aalll',\n",
       " 'aallll',\n",
       " 'aaloo',\n",
       " 'aalyssa',\n",
       " 'aam',\n",
       " 'aamazing',\n",
       " 'aamco',\n",
       " 'aammmazing',\n",
       " 'aammmazinggggg',\n",
       " 'aammmazzzinnngg',\n",
       " 'aand',\n",
       " 'aandd',\n",
       " 'aanddddd',\n",
       " 'aanold',\n",
       " 'aanyway',\n",
       " 'aaovdvrdbvfzjbtweela',\n",
       " 'aapam',\n",
       " 'aardvark',\n",
       " 'aare',\n",
       " 'aargh',\n",
       " 'aarghhh',\n",
       " 'aarika',\n",
       " 'aaron',\n",
       " 'aarp',\n",
       " 'aarrrggghh',\n",
       " 'aarón',\n",
       " 'aas',\n",
       " 'aash',\n",
       " 'aasssighyeeeeeeeee',\n",
       " 'aau',\n",
       " 'aawesome',\n",
       " 'aawwwesooomme',\n",
       " 'aawwwww',\n",
       " 'aaxixufoaukvaxvorg',\n",
       " 'aay',\n",
       " 'aayesha',\n",
       " 'aayway',\n",
       " 'ab',\n",
       " 'ababa',\n",
       " 'abacc',\n",
       " 'aback',\n",
       " 'abacus',\n",
       " 'abadado',\n",
       " 'abado',\n",
       " 'abadoba',\n",
       " 'abadobo',\n",
       " 'abajo',\n",
       " 'abak',\n",
       " 'abale',\n",
       " 'abali',\n",
       " 'abalone',\n",
       " 'abalones',\n",
       " 'aban',\n",
       " 'abandon',\n",
       " 'abandoned',\n",
       " 'abandoning',\n",
       " 'abandonment',\n",
       " 'abandons',\n",
       " 'abaot',\n",
       " 'abar',\n",
       " 'abari',\n",
       " 'abarrotes',\n",
       " 'abate',\n",
       " 'abated',\n",
       " 'abatement',\n",
       " 'abates',\n",
       " 'abating',\n",
       " 'abaut',\n",
       " 'abay',\n",
       " 'abayas',\n",
       " 'abayrestaurant',\n",
       " 'abba',\n",
       " 'abbaratta',\n",
       " 'abbas',\n",
       " 'abbastanza',\n",
       " 'abbey',\n",
       " 'abbeyesque',\n",
       " 'abbi',\n",
       " 'abbia',\n",
       " 'abbiamo',\n",
       " 'abbodanza',\n",
       " 'abbodonza',\n",
       " 'abbona',\n",
       " 'abbondanza',\n",
       " 'abbot',\n",
       " 'abbott',\n",
       " 'abbrasive',\n",
       " 'abbreviate',\n",
       " 'abbreviated',\n",
       " 'abbreviation',\n",
       " 'abbreviations',\n",
       " 'abbruzzese',\n",
       " 'abbstanzo',\n",
       " 'abbundenza',\n",
       " 'abby',\n",
       " 'abc',\n",
       " 'abcd',\n",
       " 'abcdelicious',\n",
       " 'abcers',\n",
       " 'abck',\n",
       " 'abcs',\n",
       " 'abd',\n",
       " 'abdication',\n",
       " 'abdo',\n",
       " 'abdola',\n",
       " 'abdolutely',\n",
       " 'abdomen',\n",
       " 'abdominal',\n",
       " 'abducted',\n",
       " 'abducting',\n",
       " 'abduction',\n",
       " 'abductor',\n",
       " 'abdul',\n",
       " 'abdullah',\n",
       " 'abe',\n",
       " 'abed',\n",
       " 'abeer',\n",
       " 'abei',\n",
       " 'abeit',\n",
       " 'abel',\n",
       " 'abeled',\n",
       " 'abelule',\n",
       " 'abend',\n",
       " 'abendlich',\n",
       " 'abendliche',\n",
       " 'abendlichen',\n",
       " 'abends',\n",
       " 'aber',\n",
       " 'abercrombie',\n",
       " 'aberdeen',\n",
       " 'aberrant',\n",
       " 'aberration',\n",
       " 'aberrations',\n",
       " 'abesh',\n",
       " 'abesha',\n",
       " 'abet',\n",
       " 'abetos',\n",
       " 'abetter',\n",
       " 'abeulas',\n",
       " 'abeulo',\n",
       " 'abeulos',\n",
       " 'abeyance',\n",
       " 'abf',\n",
       " 'abfab',\n",
       " 'abfertigung',\n",
       " 'abfüllung',\n",
       " 'abgenutzt',\n",
       " 'abgeschmeckt',\n",
       " 'abgesehen',\n",
       " 'abgesperrte',\n",
       " 'abgetrennt',\n",
       " 'abgoosht',\n",
       " 'abhi',\n",
       " 'abhor',\n",
       " 'abhorrent',\n",
       " 'abhorrently',\n",
       " 'abhors',\n",
       " 'abhrahim',\n",
       " 'abhängig',\n",
       " 'abi',\n",
       " 'abiance',\n",
       " 'abiatta',\n",
       " 'abidance',\n",
       " 'abide',\n",
       " 'abided',\n",
       " 'abides',\n",
       " 'abiding',\n",
       " 'abience',\n",
       " 'abienta',\n",
       " 'abierto',\n",
       " 'abiertos',\n",
       " 'abiet',\n",
       " 'abigail',\n",
       " 'abigale',\n",
       " 'abilities',\n",
       " 'ability',\n",
       " 'abish',\n",
       " 'abisimal',\n",
       " 'abismal',\n",
       " 'abiss',\n",
       " 'abissmal',\n",
       " 'abit',\n",
       " 'abita',\n",
       " 'abitanti',\n",
       " 'abituale',\n",
       " 'abiut',\n",
       " 'abject',\n",
       " 'abjectly',\n",
       " 'abke',\n",
       " 'ablaze',\n",
       " 'able',\n",
       " 'abled',\n",
       " 'ablegos',\n",
       " 'ableness',\n",
       " 'ables',\n",
       " 'ablidged',\n",
       " 'ablige',\n",
       " 'abliged',\n",
       " 'ablo',\n",
       " 'ablondigas',\n",
       " 'ablongida',\n",
       " 'ablsolutely',\n",
       " 'ablt',\n",
       " 'ablum',\n",
       " 'ably',\n",
       " 'abmiance',\n",
       " 'abmience',\n",
       " 'abnoctious',\n",
       " 'abnormal',\n",
       " 'abnormality',\n",
       " 'abnormally',\n",
       " 'abnoxious',\n",
       " 'abo',\n",
       " 'aboard',\n",
       " 'abobada',\n",
       " 'abobado',\n",
       " 'abobo',\n",
       " 'aboboda',\n",
       " 'abocado',\n",
       " 'abodaba',\n",
       " 'abodabas',\n",
       " 'abodabba',\n",
       " 'abodabo',\n",
       " 'abodaca',\n",
       " 'abodada',\n",
       " 'abode',\n",
       " 'abodoba',\n",
       " 'abodobe',\n",
       " 'abodobo',\n",
       " 'abodova',\n",
       " 'abogado',\n",
       " 'aboit',\n",
       " 'aboiut',\n",
       " 'aboldegas',\n",
       " 'abolish',\n",
       " 'abolished',\n",
       " 'abolitas',\n",
       " 'abolognese',\n",
       " 'abolone',\n",
       " 'abolute',\n",
       " 'abomidable',\n",
       " 'abominable',\n",
       " 'abominably',\n",
       " 'abomination',\n",
       " 'abominations',\n",
       " 'abondagas',\n",
       " 'abondanza',\n",
       " 'abondigas',\n",
       " 'abondogas',\n",
       " 'aboot',\n",
       " 'aboout',\n",
       " 'aboretum',\n",
       " 'aborio',\n",
       " 'aborrotes',\n",
       " 'abort',\n",
       " 'aborted',\n",
       " 'abortion',\n",
       " 'abos',\n",
       " 'aboseffilutely',\n",
       " 'aboslutely',\n",
       " 'aboslutley',\n",
       " 'abosolue',\n",
       " 'abosolute',\n",
       " 'abosolutely',\n",
       " 'abosultely',\n",
       " 'abotminutesand',\n",
       " 'abotu',\n",
       " 'abou',\n",
       " 'aboug',\n",
       " 'abouh',\n",
       " 'aboujt',\n",
       " 'abound',\n",
       " 'abounded',\n",
       " 'abounding',\n",
       " 'abounds',\n",
       " 'abour',\n",
       " 'aboutabout',\n",
       " 'aboutamom',\n",
       " 'aboutfry',\n",
       " 'abouth',\n",
       " 'abouthis',\n",
       " 'aboutitt',\n",
       " 'aboutkomex',\n",
       " 'aboutonce',\n",
       " 'abouts',\n",
       " 'aboutt',\n",
       " 'aboutthis',\n",
       " 'abouy',\n",
       " 'aboveandbeyond',\n",
       " 'abovementioned',\n",
       " 'abover',\n",
       " 'abq',\n",
       " 'abra',\n",
       " 'abracadabra',\n",
       " 'abracos',\n",
       " 'abrade',\n",
       " 'abraham',\n",
       " 'abram',\n",
       " 'abrams',\n",
       " 'abran',\n",
       " 'abrasion',\n",
       " 'abrasive',\n",
       " 'abrasively',\n",
       " 'abreast',\n",
       " 'abreviated',\n",
       " 'abria',\n",
       " 'abricots',\n",
       " 'abridged',\n",
       " 'abrigada',\n",
       " 'abril',\n",
       " 'abrio',\n",
       " 'abrir',\n",
       " 'abroad',\n",
       " 'abrputly',\n",
       " 'abrubtly',\n",
       " 'abrumados',\n",
       " 'abrupt',\n",
       " 'abruptly',\n",
       " 'abruptness',\n",
       " 'abruscato',\n",
       " 'abruzza',\n",
       " 'abruzze',\n",
       " 'abruzzese',\n",
       " 'abruzzi',\n",
       " 'abruzzis',\n",
       " 'abruzzo',\n",
       " 'abräumen',\n",
       " 'abs',\n",
       " 'absa',\n",
       " 'absatively',\n",
       " 'absativley',\n",
       " 'abscess',\n",
       " 'abscesses',\n",
       " 'abschließend',\n",
       " 'abscond',\n",
       " 'absconded',\n",
       " 'absconding',\n",
       " 'abseits',\n",
       " 'absence',\n",
       " 'absences',\n",
       " 'absent',\n",
       " 'absentee',\n",
       " 'absentia',\n",
       " 'absently',\n",
       " 'absentminded',\n",
       " 'absentmindedly',\n",
       " 'absinthe',\n",
       " 'absintheeeeeee',\n",
       " 'absinthey',\n",
       " 'absloutly',\n",
       " 'abslutely',\n",
       " 'abso',\n",
       " 'absobtion',\n",
       " 'absofrnkinglotley',\n",
       " 'absokutly',\n",
       " 'absollutely',\n",
       " 'absoloutely',\n",
       " 'absoloutley',\n",
       " 'absoloutly',\n",
       " 'absoltely',\n",
       " 'absoluely',\n",
       " 'absoluetly',\n",
       " 'absolultely',\n",
       " 'absolultey',\n",
       " 'absolument',\n",
       " 'absolustely',\n",
       " 'absolut',\n",
       " 'absolutamente',\n",
       " 'absolute',\n",
       " 'absolutedly',\n",
       " 'absolutel',\n",
       " 'absolutellllyyyyyyyy',\n",
       " 'absolutelly',\n",
       " 'absolutelt',\n",
       " 'absolutely',\n",
       " 'absolutelyabsolutely',\n",
       " 'absolutelylove',\n",
       " 'absolutelyo',\n",
       " 'absolutelyorder',\n",
       " 'absoluter',\n",
       " 'absolutes',\n",
       " 'absolutety',\n",
       " 'absolutey',\n",
       " 'absolutle',\n",
       " 'absolutley',\n",
       " 'absolutly',\n",
       " 'absolutripoff',\n",
       " 'absolutuely',\n",
       " 'absoluut',\n",
       " 'absoluyely',\n",
       " 'absolve',\n",
       " 'absolved',\n",
       " 'absoooooooolutely',\n",
       " 'absorb',\n",
       " 'absorbance',\n",
       " 'absorbancy',\n",
       " 'absorbed',\n",
       " 'absorbent',\n",
       " 'absorber',\n",
       " 'absorbinent',\n",
       " 'absorbing',\n",
       " 'absorbs',\n",
       " 'absorbtion',\n",
       " 'absord',\n",
       " 'absorded',\n",
       " 'absorption',\n",
       " 'absorutly',\n",
       " 'absosutely',\n",
       " 'absouletly',\n",
       " 'absoult',\n",
       " 'absoulte',\n",
       " 'absoultely',\n",
       " 'absoultly',\n",
       " 'absoulutely',\n",
       " 'absoulutly',\n",
       " 'absoutely',\n",
       " 'absoutley',\n",
       " 'absoutly',\n",
       " 'abstain',\n",
       " 'abstained',\n",
       " 'abstainer',\n",
       " 'abstaining',\n",
       " 'abstains',\n",
       " 'abstemious',\n",
       " 'abstentia',\n",
       " 'abstinence',\n",
       " 'abstract',\n",
       " 'abstractly',\n",
       " 'abstracts',\n",
       " 'absultely',\n",
       " 'absulute',\n",
       " 'absurb',\n",
       " 'absurd',\n",
       " 'absurdity',\n",
       " 'absurdly',\n",
       " 'absured',\n",
       " 'absuridity',\n",
       " 'absutley',\n",
       " 'abt',\n",
       " 'abtibiotic',\n",
       " 'abu',\n",
       " 'abucheas',\n",
       " 'abudant',\n",
       " 'abudantly',\n",
       " 'abuela',\n",
       " 'abuelalita',\n",
       " 'abuelas',\n",
       " 'abuelita',\n",
       " 'abuelitas',\n",
       " 'abuelito',\n",
       " 'abuelitos',\n",
       " 'abuella',\n",
       " 'abuello',\n",
       " 'abuelo',\n",
       " 'abuelos',\n",
       " 'abuffino',\n",
       " 'abuj',\n",
       " 'abulea',\n",
       " 'abuleas',\n",
       " 'abuleo',\n",
       " 'abuleos',\n",
       " 'abulita',\n",
       " 'abulon',\n",
       " 'abulos',\n",
       " 'abunance',\n",
       " 'abunch',\n",
       " 'abundance',\n",
       " 'abundances',\n",
       " 'abundancy',\n",
       " 'abundane',\n",
       " 'abundant',\n",
       " 'abundante',\n",
       " 'abundantly',\n",
       " 'abundent',\n",
       " 'abura',\n",
       " 'aburtos',\n",
       " 'abusan',\n",
       " 'abuse',\n",
       " 'abused',\n",
       " 'abuser',\n",
       " 'abusers',\n",
       " 'abuses',\n",
       " 'abusing',\n",
       " 'abusive',\n",
       " 'abusively',\n",
       " 'abusrd',\n",
       " 'abusrdly',\n",
       " 'abustle',\n",
       " 'abut',\n",
       " 'abuts',\n",
       " 'abutted',\n",
       " 'abutting',\n",
       " 'abuzz',\n",
       " 'abv',\n",
       " 'abvionce',\n",
       " 'abvouisly',\n",
       " 'abwechslung',\n",
       " 'abysmal',\n",
       " 'abysmally',\n",
       " 'abyss',\n",
       " 'abyssal',\n",
       " 'abyssina',\n",
       " 'abyssinia',\n",
       " 'abyssmal',\n",
       " 'abythibg',\n",
       " 'abzug',\n",
       " 'abzüge',\n",
       " 'ac',\n",
       " 'aca',\n",
       " 'acabamos',\n",
       " 'acaban',\n",
       " 'acabarla',\n",
       " 'acabas',\n",
       " 'acaben',\n",
       " 'acabo',\n",
       " 'acacado',\n",
       " 'acacia',\n",
       " 'acada',\n",
       " 'academic',\n",
       " 'academics',\n",
       " 'academy',\n",
       " 'acadia',\n",
       " 'acadian',\n",
       " 'acadino',\n",
       " 'acado',\n",
       " 'acai',\n",
       " 'acaii',\n",
       " 'acais',\n",
       " 'acalpulco',\n",
       " 'acamole',\n",
       " 'acanto',\n",
       " 'acapaulco',\n",
       " 'acapulco',\n",
       " 'acapulo',\n",
       " 'acar',\n",
       " 'acari',\n",
       " 'acarte',\n",
       " 'acas',\n",
       " 'acaì',\n",
       " 'acaí',\n",
       " 'acc',\n",
       " 'accapella',\n",
       " 'accdg',\n",
       " 'acceded',\n",
       " 'accedently',\n",
       " 'accelerate',\n",
       " 'accelerated',\n",
       " 'accelerating',\n",
       " 'acceleration',\n",
       " 'accelerator',\n",
       " 'accent',\n",
       " 'accentauted',\n",
       " 'accented',\n",
       " 'accenting',\n",
       " 'accents',\n",
       " 'accentuate',\n",
       " 'accentuated',\n",
       " 'accentuates',\n",
       " 'accentuating',\n",
       " 'accept',\n",
       " 'acceptabel',\n",
       " 'acceptability',\n",
       " 'acceptable',\n",
       " 'acceptably',\n",
       " 'acceptance',\n",
       " 'accepted',\n",
       " 'acceptible',\n",
       " 'accepting',\n",
       " 'acception',\n",
       " 'acceptional',\n",
       " 'acceptionally',\n",
       " 'accepts',\n",
       " 'accesible',\n",
       " 'accesibles',\n",
       " 'access',\n",
       " 'accessable',\n",
       " 'accessed',\n",
       " 'accesses',\n",
       " 'accessibilitiy',\n",
       " 'accessibility',\n",
       " 'accessible',\n",
       " 'accessibly',\n",
       " 'accessing',\n",
       " 'accessive',\n",
       " 'accessories',\n",
       " 'accessorized',\n",
       " 'accessorizing',\n",
       " 'accessory',\n",
       " 'accidenally',\n",
       " 'accidenrky',\n",
       " 'accident',\n",
       " 'accidental',\n",
       " 'accidentallly',\n",
       " 'accidentally',\n",
       " 'accidentaly',\n",
       " 'accidentially',\n",
       " 'accidently',\n",
       " 'accidents',\n",
       " 'accidic',\n",
       " 'accio',\n",
       " 'accionista',\n",
       " 'accistic',\n",
       " 'acclaim',\n",
       " 'acclaimed',\n",
       " 'acclaims',\n",
       " 'acclamated',\n",
       " 'acclamation',\n",
       " 'acclaments',\n",
       " 'acclimate',\n",
       " 'acclimated',\n",
       " 'acclimating',\n",
       " 'acclimation',\n",
       " 'acco',\n",
       " 'accoding',\n",
       " 'accodomates',\n",
       " 'accolade',\n",
       " 'accolades',\n",
       " 'accomadate',\n",
       " 'accomadated',\n",
       " 'accomadatig',\n",
       " 'accomadating',\n",
       " 'accomadations',\n",
       " 'accomaditing',\n",
       " 'accomadte',\n",
       " 'accomadting',\n",
       " 'accomdate',\n",
       " 'accomdates',\n",
       " 'accomdating',\n",
       " 'accomdation',\n",
       " 'accomdations',\n",
       " 'accomdoating',\n",
       " 'accomedate',\n",
       " 'accomedated',\n",
       " 'accomedating',\n",
       " 'accomediating',\n",
       " 'accomendating',\n",
       " 'accomendatting',\n",
       " 'accomidaring',\n",
       " 'accomidated',\n",
       " 'accomidating',\n",
       " 'accomiding',\n",
       " 'accomindating',\n",
       " 'accommadated',\n",
       " 'accommadating',\n",
       " 'accommate',\n",
       " 'accommating',\n",
       " 'accommidating',\n",
       " 'accomminating',\n",
       " 'accommodadting',\n",
       " 'accommodate',\n",
       " 'accommodated',\n",
       " 'accommodates',\n",
       " 'accommodating',\n",
       " 'accommodation',\n",
       " 'accommodationing',\n",
       " 'accommodations',\n",
       " 'accommodative',\n",
       " 'accommoding',\n",
       " 'accomod',\n",
       " 'accomodate',\n",
       " 'accomodated',\n",
       " 'accomodates',\n",
       " 'accomodating',\n",
       " 'accomodatinig',\n",
       " 'accomodation',\n",
       " 'accomodations',\n",
       " 'accomodative',\n",
       " 'accomoded',\n",
       " 'accomoding',\n",
       " 'accomondating',\n",
       " 'accompagnement',\n",
       " 'accompaines',\n",
       " 'accompamied',\n",
       " 'accompaniaments',\n",
       " 'accompanie',\n",
       " 'accompanied',\n",
       " 'accompaniement',\n",
       " 'accompaniements',\n",
       " 'accompanients',\n",
       " 'accompanies',\n",
       " 'accompaniment',\n",
       " 'accompaniments',\n",
       " 'accompaning',\n",
       " 'accompanishes',\n",
       " 'accompanist',\n",
       " 'accompannied',\n",
       " 'accompany',\n",
       " 'accompanyin',\n",
       " 'accompanying',\n",
       " 'accompanyment',\n",
       " 'accompanyments',\n",
       " 'accompay',\n",
       " 'accompiament',\n",
       " 'accompianment',\n",
       " 'accompianments',\n",
       " 'accompiant',\n",
       " 'accompiened',\n",
       " 'accompish',\n",
       " 'accompli',\n",
       " 'accomplice',\n",
       " 'accomplish',\n",
       " 'accomplished',\n",
       " 'accomplishes',\n",
       " 'accomplishing',\n",
       " 'accomplishment',\n",
       " 'accomplishments',\n",
       " 'accompnied',\n",
       " 'accompying',\n",
       " 'acconplished',\n",
       " 'accoomodating',\n",
       " 'accopanying',\n",
       " 'accord',\n",
       " 'accordance',\n",
       " 'accorded',\n",
       " 'accordian',\n",
       " 'according',\n",
       " 'accordingly',\n",
       " 'accordion',\n",
       " 'accordionist',\n",
       " 'accordions',\n",
       " 'accost',\n",
       " 'accosted',\n",
       " 'accosting',\n",
       " 'accostom',\n",
       " 'accostomed',\n",
       " 'accosts',\n",
       " 'account',\n",
       " 'accountability',\n",
       " 'accountable',\n",
       " 'accountant',\n",
       " 'accountants',\n",
       " 'accounted',\n",
       " 'accounter',\n",
       " 'accounting',\n",
       " 'accounts',\n",
       " 'accoustics',\n",
       " 'accouterment',\n",
       " 'accouterments',\n",
       " 'accoutics',\n",
       " 'accoutrement',\n",
       " 'accoutrements',\n",
       " 'accp',\n",
       " 'accquaintance',\n",
       " 'accrdg',\n",
       " 'accrediation',\n",
       " 'accredit',\n",
       " 'accreditation',\n",
       " 'accredited',\n",
       " 'accross',\n",
       " 'accrue',\n",
       " 'accrued',\n",
       " 'accrues',\n",
       " 'acct',\n",
       " 'acctitud',\n",
       " 'acctually',\n",
       " 'accuarte',\n",
       " 'accudent',\n",
       " 'accueil',\n",
       " 'accuired',\n",
       " 'accumen',\n",
       " 'accumlating',\n",
       " 'accumstomed',\n",
       " 'accumulate',\n",
       " 'accumulated',\n",
       " 'accumulates',\n",
       " 'accumulating',\n",
       " 'accumulation',\n",
       " 'accupied',\n",
       " 'accuracies',\n",
       " 'accuracy',\n",
       " 'accurate',\n",
       " 'accurately',\n",
       " 'accuratly',\n",
       " 'accurrate',\n",
       " 'accusal',\n",
       " 'accusation',\n",
       " 'accusations',\n",
       " 'accusatorially',\n",
       " 'accusatory',\n",
       " 'accuse',\n",
       " 'accused',\n",
       " 'accuses',\n",
       " 'accusing',\n",
       " 'accusingly',\n",
       " 'accustics',\n",
       " 'accustom',\n",
       " 'accustomed',\n",
       " 'accutramontes',\n",
       " 'accèder',\n",
       " 'accès',\n",
       " 'acdc',\n",
       " 'ace',\n",
       " 'aced',\n",
       " 'acehole',\n",
       " 'aceite',\n",
       " 'aceitoso',\n",
       " 'acent',\n",
       " 'aceptable',\n",
       " 'aceptables',\n",
       " 'aceptan',\n",
       " 'aceptar',\n",
       " 'acerbic',\n",
       " 'acercan',\n",
       " 'acercará',\n",
       " 'acercó',\n",
       " 'acerqué',\n",
       " 'acers',\n",
       " 'aces',\n",
       " 'acess',\n",
       " 'acetaia',\n",
       " 'acetate',\n",
       " 'aceto',\n",
       " 'acetone',\n",
       " 'acetquencen',\n",
       " 'acetylene',\n",
       " 'acevedo',\n",
       " 'acewood',\n",
       " 'acg',\n",
       " 'ach',\n",
       " 'achali',\n",
       " 'achar',\n",
       " 'achari',\n",
       " 'achat',\n",
       " 'achatz',\n",
       " 'achd',\n",
       " 'ache',\n",
       " 'ached',\n",
       " 'acheive',\n",
       " 'acheived',\n",
       " 'aches',\n",
       " 'achey',\n",
       " 'achievable',\n",
       " 'achieve',\n",
       " 'achieved',\n",
       " 'achievement',\n",
       " 'achievements',\n",
       " 'achiever',\n",
       " 'achievers',\n",
       " 'achieves',\n",
       " 'achieving',\n",
       " 'achilles',\n",
       " 'achillo',\n",
       " 'achilote',\n",
       " 'aching',\n",
       " 'achingly',\n",
       " 'achiote',\n",
       " 'achknowledgement',\n",
       " 'achnknowledge',\n",
       " 'achoite',\n",
       " 'achoo',\n",
       " 'achosen',\n",
       " 'achote',\n",
       " 'achten',\n",
       " 'achtung',\n",
       " 'achy',\n",
       " 'acia',\n",
       " 'acid',\n",
       " 'acida',\n",
       " 'acidently',\n",
       " 'acidic',\n",
       " 'acidid',\n",
       " 'acidified',\n",
       " 'acidity',\n",
       " 'acidly',\n",
       " 'acidness',\n",
       " 'acidophilus',\n",
       " 'acids',\n",
       " 'acidulousness',\n",
       " 'acidy',\n",
       " 'acidz',\n",
       " 'aciento',\n",
       " 'acing',\n",
       " 'acini',\n",
       " 'acjyzernmqdsjtwrziq',\n",
       " 'ack',\n",
       " 'ackknowledged',\n",
       " 'acknolwedgement',\n",
       " 'acknowled',\n",
       " 'acknowlede',\n",
       " 'acknowledge',\n",
       " 'acknowledged',\n",
       " 'acknowledgement',\n",
       " 'acknowledgements',\n",
       " 'acknowledges',\n",
       " 'acknowledging',\n",
       " 'acknowledgment',\n",
       " 'acknowledgwment',\n",
       " 'acknowleding',\n",
       " 'acknowlefged',\n",
       " 'acknowlege',\n",
       " 'acknowleged',\n",
       " 'acknowlegement',\n",
       " 'acknowleging',\n",
       " 'acknowlegment',\n",
       " 'ackowledged',\n",
       " 'ackward',\n",
       " 'ackwardly',\n",
       " 'acl',\n",
       " 'aclear',\n",
       " 'aclohol',\n",
       " 'aclu',\n",
       " 'acm',\n",
       " 'acme',\n",
       " 'acne',\n",
       " 'acocunts',\n",
       " 'acogedor',\n",
       " 'acohol',\n",
       " 'acolades',\n",
       " 'acom',\n",
       " 'acoma',\n",
       " 'acomadating',\n",
       " 'acomdating',\n",
       " 'acomidating',\n",
       " 'acommodate',\n",
       " 'acommodated',\n",
       " 'acommodating',\n",
       " 'acomodación',\n",
       " 'acomodate',\n",
       " 'acomodated',\n",
       " 'acomodating',\n",
       " 'acompanamiento',\n",
       " 'acompannied',\n",
       " 'acompany',\n",
       " 'acompanyments',\n",
       " 'acompañada',\n",
       " 'acompañadas',\n",
       " 'acompañado',\n",
       " 'acomplishment',\n",
       " 'acondicionado',\n",
       " 'aconsejó',\n",
       " 'acoompanied',\n",
       " 'acordian',\n",
       " 'acording',\n",
       " 'acordé',\n",
       " 'acorn',\n",
       " 'acorns',\n",
       " 'acos',\n",
       " 'acouple',\n",
       " 'acoustic',\n",
       " 'acoustical',\n",
       " 'acoustically',\n",
       " 'acoustician',\n",
       " 'acoustics',\n",
       " 'acoutrement',\n",
       " 'acoutremonts',\n",
       " 'acoya',\n",
       " 'acp',\n",
       " 'acqua',\n",
       " 'acquaint',\n",
       " 'acquaintance',\n",
       " 'acquaintances',\n",
       " 'acquainted',\n",
       " ...]"
      ]
     },
     "execution_count": 59,
     "metadata": {},
     "output_type": "execute_result"
    }
   ],
   "source": [
    "ftrs"
   ]
  },
  {
   "cell_type": "markdown",
   "metadata": {},
   "source": [
    "#### Reduce Dimensionality"
   ]
  },
  {
   "cell_type": "code",
   "execution_count": 89,
   "metadata": {},
   "outputs": [],
   "source": [
    "svd = TruncatedSVD(n_components=80, n_iter=7)"
   ]
  },
  {
   "cell_type": "code",
   "execution_count": 90,
   "metadata": {},
   "outputs": [
    {
     "name": "stdout",
     "output_type": "stream",
     "text": [
      "CPU times: user 1min 31s, sys: 16.6 s, total: 1min 48s\n",
      "Wall time: 1min 5s\n"
     ]
    }
   ],
   "source": [
    "%%time\n",
    "X_train_term_svd = svd.fit_transform(X_train_term)  "
   ]
  },
  {
   "cell_type": "code",
   "execution_count": 91,
   "metadata": {},
   "outputs": [
    {
     "data": {
      "text/plain": [
       "array([130.60072794,  58.83453226,  57.11193631,  54.38374513,\n",
       "        50.82276521,  45.55518781,  45.18818365,  43.22887021,\n",
       "        41.90091574,  39.94763999,  38.57396569,  38.53790321,\n",
       "        37.69858395,  37.05075837,  36.8966179 ,  36.46194121,\n",
       "        35.98057463,  35.49932485,  34.85479034,  34.81332635,\n",
       "        34.57486825,  34.43420756,  33.90985757,  33.04214154,\n",
       "        32.87573742,  32.70300947,  32.62635095,  32.37493284,\n",
       "        32.15087684,  32.07910202,  31.79106397,  31.60765789,\n",
       "        31.45788704,  31.30206897,  30.92822686,  30.83032843,\n",
       "        30.70781248,  30.60666659,  30.35678897,  30.28638753,\n",
       "        30.11206397,  29.96251395,  29.79480728,  29.62470153,\n",
       "        29.27111767,  29.22051599,  29.0211425 ,  28.96415589,\n",
       "        28.81321507,  28.80295909,  28.56245006,  28.47969525,\n",
       "        28.46230461,  28.35106266,  28.22693011,  28.16038816,\n",
       "        28.09517152,  27.99357755,  27.92725383,  27.87839868,\n",
       "        27.8375207 ,  27.58141153,  27.47410282,  27.37220167,\n",
       "        27.29853112,  27.26758687,  27.11875947,  27.08555795,\n",
       "        26.92532233,  26.78448829,  26.54948568,  26.51578336,\n",
       "        26.43805554,  26.30847462,  26.23902242,  26.11977044,\n",
       "        25.96767765,  25.84788198,  25.72522872,  25.6056981 ])"
      ]
     },
     "execution_count": 91,
     "metadata": {},
     "output_type": "execute_result"
    }
   ],
   "source": [
    "svd.singular_values_"
   ]
  },
  {
   "cell_type": "code",
   "execution_count": 92,
   "metadata": {},
   "outputs": [
    {
     "data": {
      "image/png": "[encoded data removed]",
      "text/plain": [
       "<Figure size 432x288 with 1 Axes>"
      ]
     },
     "metadata": {},
     "output_type": "display_data"
    }
   ],
   "source": [
    "s = svd.singular_values_\n",
    "\n",
    "x = [i+1 for i in range(len(s))]\n",
    "plt.plot(x, s, marker='o')\n",
    "plt.xlabel(\"Singular Values\")\n",
    "plt.ylabel(\"Value\");"
   ]
  },
  {
   "cell_type": "markdown",
   "metadata": {},
   "source": [
    "---\n",
    "\n",
    "### Percentage of Variance Explained"
   ]
  },
  {
   "cell_type": "code",
   "execution_count": 93,
   "metadata": {},
   "outputs": [
    {
     "name": "stdout",
     "output_type": "stream",
     "text": [
      "Percentage of explained variance (dimRed) 13.986214213587559\n"
     ]
    }
   ],
   "source": [
    "print(\"Percentage of explained variance (dimRed)\", svd.explained_variance_ratio_.sum()*100)"
   ]
  },
  {
   "cell_type": "markdown",
   "metadata": {},
   "source": [
    "---\n",
    "\n",
    "#### Random Forest - Train"
   ]
  },
  {
   "cell_type": "code",
   "execution_count": 94,
   "metadata": {},
   "outputs": [],
   "source": [
    "from sklearn.ensemble import RandomForestClassifier"
   ]
  },
  {
   "cell_type": "code",
   "execution_count": 95,
   "metadata": {},
   "outputs": [],
   "source": [
    "RF_model = RandomForestClassifier(n_jobs=-1)"
   ]
  },
  {
   "cell_type": "code",
   "execution_count": 96,
   "metadata": {},
   "outputs": [
    {
     "name": "stdout",
     "output_type": "stream",
     "text": [
      "CPU times: user 1min 51s, sys: 156 ms, total: 1min 51s\n",
      "Wall time: 21.6 s\n"
     ]
    },
    {
     "data": {
      "text/plain": [
       "RandomForestClassifier(bootstrap=True, class_weight=None, criterion='gini',\n",
       "            max_depth=None, max_features='auto', max_leaf_nodes=None,\n",
       "            min_impurity_decrease=0.0, min_impurity_split=None,\n",
       "            min_samples_leaf=1, min_samples_split=2,\n",
       "            min_weight_fraction_leaf=0.0, n_estimators=10, n_jobs=-1,\n",
       "            oob_score=False, random_state=None, verbose=0,\n",
       "            warm_start=False)"
      ]
     },
     "execution_count": 96,
     "metadata": {},
     "output_type": "execute_result"
    }
   ],
   "source": [
    "%%time\n",
    "RF_model.fit(X_train_term_svd, y_train)"
   ]
  },
  {
   "cell_type": "markdown",
   "metadata": {},
   "source": [
    "---\n",
    "\n",
    "#### Random Forest - Test"
   ]
  },
  {
   "cell_type": "code",
   "execution_count": 97,
   "metadata": {},
   "outputs": [
    {
     "name": "stdout",
     "output_type": "stream",
     "text": [
      "CPU times: user 19.9 s, sys: 152 ms, total: 20 s\n",
      "Wall time: 20 s\n"
     ]
    }
   ],
   "source": [
    "%%time\n",
    "X_test_term = vectorizer.transform(X_test['text'])"
   ]
  },
  {
   "cell_type": "code",
   "execution_count": 98,
   "metadata": {},
   "outputs": [
    {
     "data": {
      "text/plain": [
       "(276901, 140511)"
      ]
     },
     "execution_count": 98,
     "metadata": {},
     "output_type": "execute_result"
    }
   ],
   "source": [
    "X_test_term.shape"
   ]
  },
  {
   "cell_type": "code",
   "execution_count": 99,
   "metadata": {},
   "outputs": [
    {
     "name": "stdout",
     "output_type": "stream",
     "text": [
      "CPU times: user 740 ms, sys: 48 ms, total: 788 ms\n",
      "Wall time: 789 ms\n"
     ]
    }
   ],
   "source": [
    "%%time\n",
    "X_test_term_svd = svd.transform(X_test_term)"
   ]
  },
  {
   "cell_type": "code",
   "execution_count": 100,
   "metadata": {},
   "outputs": [
    {
     "data": {
      "text/plain": [
       "(276901, 80)"
      ]
     },
     "execution_count": 100,
     "metadata": {},
     "output_type": "execute_result"
    }
   ],
   "source": [
    "X_test_term_svd.shape"
   ]
  },
  {
   "cell_type": "code",
   "execution_count": 101,
   "metadata": {},
   "outputs": [
    {
     "name": "stdout",
     "output_type": "stream",
     "text": [
      "CPU times: user 1.36 s, sys: 16 ms, total: 1.38 s\n",
      "Wall time: 357 ms\n"
     ]
    }
   ],
   "source": [
    "%%time\n",
    "pred = RF_model.predict(X_test_term_svd)"
   ]
  },
  {
   "cell_type": "code",
   "execution_count": 102,
   "metadata": {},
   "outputs": [
    {
     "data": {
      "text/plain": [
       "276901"
      ]
     },
     "execution_count": 102,
     "metadata": {},
     "output_type": "execute_result"
    }
   ],
   "source": [
    "len(pred)"
   ]
  },
  {
   "cell_type": "code",
   "execution_count": 103,
   "metadata": {},
   "outputs": [
    {
     "data": {
      "text/plain": [
       "array([0., 0., 0., 0., 1., 0., 1., 0., 0., 0., 0., 0., 0., 0., 0., 0., 0.,\n",
       "       0., 0., 0., 0., 0., 0., 0., 0., 0., 0., 0., 0., 0.])"
      ]
     },
     "execution_count": 103,
     "metadata": {},
     "output_type": "execute_result"
    }
   ],
   "source": [
    "pred[:30]"
   ]
  },
  {
   "cell_type": "code",
   "execution_count": 104,
   "metadata": {},
   "outputs": [
    {
     "data": {
      "text/plain": [
       "array([0., 1.])"
      ]
     },
     "execution_count": 104,
     "metadata": {},
     "output_type": "execute_result"
    }
   ],
   "source": [
    "np.unique(pred)"
   ]
  },
  {
   "cell_type": "code",
   "execution_count": 105,
   "metadata": {},
   "outputs": [],
   "source": [
    "import itertools \n",
    "def plot_confusion_matrix(cm, classes, normalize=False, title='Confusion matrix', cmap=plt.cm.Blues):\n",
    "    \"\"\"\n",
    "        This function prints and plots the confusion matrix.\n",
    "        Normalization can be applied by setting `normalize=True`.\n",
    "    \"\"\"\n",
    "    \n",
    "    if normalize:\n",
    "        cm = cm.astype('float') / cm.sum(axis=1)[:, np.newaxis]\n",
    "        print(\"Normalized confusion matrix\")\n",
    "    else:\n",
    "        print('Confusion matrix, without normalization')\n",
    "\n",
    "#     print(cm)\n",
    "\n",
    "    plt.imshow(cm, interpolation='nearest', cmap=cmap)\n",
    "    plt.title(title)\n",
    "    plt.colorbar()\n",
    "    tick_marks = np.arange(len(classes))\n",
    "    plt.xticks(tick_marks, classes, rotation=45)\n",
    "    plt.yticks(tick_marks, classes)\n",
    "\n",
    "    fmt = '.2f' if normalize else 'd'\n",
    "    thresh = cm.max() / 2.\n",
    "    for i, j in itertools.product(range(cm.shape[0]), range(cm.shape[1])):\n",
    "        plt.text(j, i, format(cm[i, j], fmt), horizontalalignment=\"center\",\n",
    "                 color=\"white\" if cm[i, j] > thresh else \"black\")\n",
    "        \n",
    "    plt.tight_layout()\n",
    "    plt.ylabel('True label')\n",
    "    plt.xlabel('Predicted label')"
   ]
  },
  {
   "cell_type": "code",
   "execution_count": 106,
   "metadata": {},
   "outputs": [
    {
     "data": {
      "text/plain": [
       "339096    1.0\n",
       "147873    0.0\n",
       "54278     0.0\n",
       "182325    0.0\n",
       "560540    1.0\n",
       "838324    0.0\n",
       "377834    1.0\n",
       "140260    0.0\n",
       "276141    1.0\n",
       "444189    0.0\n",
       "Name: vegFriendly, dtype: float64"
      ]
     },
     "execution_count": 106,
     "metadata": {},
     "output_type": "execute_result"
    }
   ],
   "source": [
    "y_test[:10]"
   ]
  },
  {
   "cell_type": "code",
   "execution_count": 107,
   "metadata": {
    "scrolled": true
   },
   "outputs": [
    {
     "data": {
      "text/plain": [
       "array([0., 0., 0., 0., 1., 0., 1., 0., 0., 0.])"
      ]
     },
     "execution_count": 107,
     "metadata": {},
     "output_type": "execute_result"
    }
   ],
   "source": [
    "pred[:10]"
   ]
  },
  {
   "cell_type": "code",
   "execution_count": 108,
   "metadata": {},
   "outputs": [],
   "source": [
    "from sklearn.metrics import confusion_matrix, accuracy_score, precision_score, recall_score, f1_score"
   ]
  },
  {
   "cell_type": "code",
   "execution_count": 109,
   "metadata": {},
   "outputs": [
    {
     "data": {
      "text/plain": [
       "array([[216859,   3531],\n",
       "       [ 28898,  27613]])"
      ]
     },
     "execution_count": 109,
     "metadata": {},
     "output_type": "execute_result"
    }
   ],
   "source": [
    "lbls = ['vegFriendly', 'Non-vegFriendly']\n",
    "\n",
    "cm = confusion_matrix(y_test, pred)\n",
    "cm"
   ]
  },
  {
   "cell_type": "code",
   "execution_count": 110,
   "metadata": {},
   "outputs": [],
   "source": [
    "from sklearn.metrics import classification_report"
   ]
  },
  {
   "cell_type": "code",
   "execution_count": 111,
   "metadata": {},
   "outputs": [
    {
     "name": "stdout",
     "output_type": "stream",
     "text": [
      "             precision    recall  f1-score   support\n",
      "\n",
      "        0.0       0.88      0.98      0.93    220390\n",
      "        1.0       0.89      0.49      0.63     56511\n",
      "\n",
      "avg / total       0.88      0.88      0.87    276901\n",
      "\n"
     ]
    }
   ],
   "source": [
    "print(classification_report(y_test, pred))"
   ]
  },
  {
   "cell_type": "code",
   "execution_count": 112,
   "metadata": {},
   "outputs": [
    {
     "data": {
      "text/plain": [
       "0.8828859411847556"
      ]
     },
     "execution_count": 112,
     "metadata": {},
     "output_type": "execute_result"
    }
   ],
   "source": [
    "accuracy_score(y_test, pred)"
   ]
  },
  {
   "cell_type": "code",
   "execution_count": 113,
   "metadata": {},
   "outputs": [
    {
     "data": {
      "text/plain": [
       "0.8866234266632417"
      ]
     },
     "execution_count": 113,
     "metadata": {},
     "output_type": "execute_result"
    }
   ],
   "source": [
    "precision_score(y_test, pred)"
   ]
  },
  {
   "cell_type": "code",
   "execution_count": 114,
   "metadata": {},
   "outputs": [
    {
     "data": {
      "text/plain": [
       "0.488630532108793"
      ]
     },
     "execution_count": 114,
     "metadata": {},
     "output_type": "execute_result"
    }
   ],
   "source": [
    "recall_score(y_test, pred)"
   ]
  },
  {
   "cell_type": "code",
   "execution_count": 115,
   "metadata": {},
   "outputs": [
    {
     "data": {
      "text/plain": [
       "0.6300382180138041"
      ]
     },
     "execution_count": 115,
     "metadata": {},
     "output_type": "execute_result"
    }
   ],
   "source": [
    "f1_score(y_test, pred)"
   ]
  },
  {
   "cell_type": "code",
   "execution_count": 116,
   "metadata": {},
   "outputs": [
    {
     "name": "stdout",
     "output_type": "stream",
     "text": [
      "Confusion matrix, without normalization\n"
     ]
    },
    {
     "data": {
      "image/png": "[encoded data removed]",
      "text/plain": [
       "<Figure size 432x288 with 2 Axes>"
      ]
     },
     "metadata": {},
     "output_type": "display_data"
    }
   ],
   "source": [
    "plot_confusion_matrix(cm,lbls)"
   ]
  },
  {
   "cell_type": "code",
   "execution_count": 119,
   "metadata": {},
   "outputs": [
    {
     "data": {
      "text/plain": [
       "array([0.01281726, 0.0191319 , 0.0108724 , 0.02055267, 0.01435753,\n",
       "       0.01327582, 0.01309196, 0.02737856, 0.01755797, 0.01127195,\n",
       "       0.01190934, 0.0159216 , 0.0183918 , 0.01533611, 0.01153841,\n",
       "       0.01283773, 0.02643714, 0.01840192, 0.01408931, 0.01067423,\n",
       "       0.01846671, 0.01528385, 0.02078428, 0.01080808, 0.01103691,\n",
       "       0.03701255, 0.01307939, 0.01032017, 0.0102699 , 0.01002963,\n",
       "       0.01036059, 0.01059388, 0.01185692, 0.01096004, 0.01098129,\n",
       "       0.01092107, 0.01187615, 0.01095598, 0.01090185, 0.01080877,\n",
       "       0.01034013, 0.01086791, 0.01174725, 0.00997809, 0.00993466,\n",
       "       0.01018976, 0.01007048, 0.01079001, 0.00992854, 0.01093004,\n",
       "       0.01071439, 0.00969585, 0.01030161, 0.01114102, 0.01069055,\n",
       "       0.01076928, 0.00979317, 0.01019603, 0.01008758, 0.01024857,\n",
       "       0.01017145, 0.01030081, 0.00972583, 0.00984229, 0.01033082,\n",
       "       0.01067204, 0.01092625, 0.01087778, 0.01058105, 0.00998816,\n",
       "       0.01067232, 0.01043425, 0.01043236, 0.01021133, 0.01021344,\n",
       "       0.01044578, 0.01078712, 0.01085361, 0.01067307, 0.01029169])"
      ]
     },
     "execution_count": 119,
     "metadata": {},
     "output_type": "execute_result"
    }
   ],
   "source": [
    "importances = RF_model.feature_importances_\n",
    "\n",
    "importances"
   ]
  },
  {
   "cell_type": "code",
   "execution_count": 121,
   "metadata": {},
   "outputs": [
    {
     "data": {
      "text/plain": [
       "array([25,  7, 16, 22,  3,  1, 20, 17, 12,  8, 11, 13, 21,  4, 18,  5,  6,\n",
       "       26, 15,  0, 10, 36, 32, 42, 14,  9, 53, 24, 34, 33, 37, 49, 66, 35,\n",
       "       38, 67,  2, 41, 77, 39, 23, 47, 76, 55, 50, 54, 19, 78, 70, 65, 31,\n",
       "       68, 75, 71, 72, 30, 40, 64, 27, 52, 61, 79, 28, 59, 74, 73, 57, 45,\n",
       "       60, 58, 46, 29, 69, 43, 44, 48, 63, 56, 62, 51])"
      ]
     },
     "execution_count": 121,
     "metadata": {},
     "output_type": "execute_result"
    }
   ],
   "source": [
    "indices = np.argsort(importances)[::-1]\n",
    "indices"
   ]
  },
  {
   "cell_type": "code",
   "execution_count": 126,
   "metadata": {},
   "outputs": [],
   "source": [
    "indices = indices.reshape(1,80)"
   ]
  },
  {
   "cell_type": "code",
   "execution_count": null,
   "metadata": {},
   "outputs": [],
   "source": []
  },
  {
   "cell_type": "code",
   "execution_count": null,
   "metadata": {},
   "outputs": [],
   "source": []
  },
  {
   "cell_type": "code",
   "execution_count": 129,
   "metadata": {},
   "outputs": [],
   "source": [
    "important_words = svd.inverse_transform(np.array(indices))"
   ]
  },
  {
   "cell_type": "code",
   "execution_count": 130,
   "metadata": {},
   "outputs": [
    {
     "data": {
      "text/plain": [
       "(1, 140511)"
      ]
     },
     "execution_count": 130,
     "metadata": {},
     "output_type": "execute_result"
    }
   ],
   "source": [
    "important_words.shape"
   ]
  },
  {
   "cell_type": "code",
   "execution_count": 133,
   "metadata": {},
   "outputs": [
    {
     "data": {
      "text/plain": [
       "array([[ 21466,  47255,  10596, ..., 113851,  70183, 104499]])"
      ]
     },
     "execution_count": 133,
     "metadata": {},
     "output_type": "execute_result"
    }
   ],
   "source": [
    "iw_ind = np.argsort(important_words)[::-1]\n",
    "iw_ind"
   ]
  },
  {
   "cell_type": "code",
   "execution_count": 140,
   "metadata": {},
   "outputs": [
    {
     "name": "stdout",
     "output_type": "stream",
     "text": [
      "cheese\n",
      "fresh\n",
      "beef\n",
      "got\n",
      "much\n",
      "try\n",
      "buffet\n",
      "pretty\n",
      "always\n",
      "times\n",
      "people\n",
      "price\n",
      "mexican\n",
      "delicious\n",
      "back\n",
      "also\n",
      "one\n",
      "going\n",
      "wait\n",
      "sushi\n",
      "went\n",
      "family\n",
      "fries\n",
      "better\n",
      "coming\n",
      "burger\n",
      "years\n",
      "two\n",
      "say\n",
      "meat\n",
      "would\n",
      "sauce\n",
      "customer\n",
      "friendly\n",
      "made\n",
      "staff\n",
      "eat\n",
      "happy\n",
      "enchiladas\n",
      "tried\n",
      "nachos\n",
      "know\n",
      "many\n",
      "since\n",
      "right\n",
      "portions\n",
      "mongolian\n",
      "sure\n",
      "must\n",
      "mac\n",
      "cream\n",
      "hour\n",
      "table\n",
      "sandwich\n",
      "think\n",
      "area\n",
      "even\n",
      "couple\n",
      "several\n",
      "ingredients\n",
      "crust\n",
      "different\n",
      "authentic\n",
      "taste\n",
      "guacamole\n",
      "take\n",
      "ago\n",
      "flavor\n",
      "keep\n",
      "things\n",
      "big\n",
      "margaritas\n",
      "quality\n",
      "love\n",
      "large\n",
      "burgers\n",
      "crab\n",
      "three\n",
      "restaurants\n",
      "tasted\n",
      "shredded\n",
      "decided\n",
      "orange\n",
      "enough\n",
      "though\n",
      "eaten\n",
      "kids\n",
      "line\n",
      "tortillas\n",
      "fajitas\n",
      "owned\n",
      "home\n",
      "thought\n",
      "quesadilla\n",
      "soon\n",
      "reviews\n",
      "still\n",
      "enchilada\n",
      "ice\n",
      "lot\n",
      "toppings\n"
     ]
    }
   ],
   "source": [
    "stop = 100\n",
    "cnt = 0\n",
    "for ind in iw_ind[0]:\n",
    "    print(ftrs[ind])\n",
    "    if cnt == stop:\n",
    "         break\n",
    "    cnt += 1"
   ]
  },
  {
   "cell_type": "code",
   "execution_count": 137,
   "metadata": {},
   "outputs": [
    {
     "ename": "TypeError",
     "evalue": "only integer scalar arrays can be converted to a scalar index",
     "output_type": "error",
     "traceback": [
      "\u001b[0;31m---------------------------------------------------------------------------\u001b[0m",
      "\u001b[0;31mTypeError\u001b[0m                                 Traceback (most recent call last)",
      "\u001b[0;32m<ipython-input-137-ca5a077571d5>\u001b[0m in \u001b[0;36m<module>\u001b[0;34m()\u001b[0m\n\u001b[0;32m----> 1\u001b[0;31m \u001b[0mftrs\u001b[0m\u001b[0;34m[\u001b[0m\u001b[0miw_ind\u001b[0m\u001b[0;34m[\u001b[0m\u001b[0;36m0\u001b[0m\u001b[0;34m]\u001b[0m\u001b[0;34m]\u001b[0m\u001b[0;34m\u001b[0m\u001b[0m\n\u001b[0m",
      "\u001b[0;31mTypeError\u001b[0m: only integer scalar arrays can be converted to a scalar index"
     ]
    }
   ],
   "source": []
  },
  {
   "cell_type": "code",
   "execution_count": null,
   "metadata": {},
   "outputs": [],
   "source": [
    "std = np.std([tree.feature_importances_ for tree in forest.estimators_],\n",
    "             axis=0)\n",
    "\n",
    "indices = np.argsort(importances)[::-1]\n",
    "\n",
    "# Print the feature ranking\n",
    "print(\"Feature ranking:\")\n",
    "\n",
    "for f in range(X.shape[1]):\n",
    "    print(\"%d. feature %d (%f)\" % (f + 1, indices[f], importances[indices[f]]))\n",
    "\n",
    "# Plot the feature importances of the forest\n",
    "plt.figure()\n",
    "plt.title(\"Feature importances\")\n",
    "plt.bar(range(X.shape[1]), importances[indices],\n",
    "       color=\"r\", yerr=std[indices], align=\"center\")\n",
    "plt.xticks(range(X.shape[1]), indices)\n",
    "plt.xlim([-1, X.shape[1]])\n",
    "plt.show()"
   ]
  },
  {
   "cell_type": "code",
   "execution_count": null,
   "metadata": {},
   "outputs": [],
   "source": []
  },
  {
   "cell_type": "code",
   "execution_count": null,
   "metadata": {},
   "outputs": [],
   "source": []
  },
  {
   "cell_type": "code",
   "execution_count": null,
   "metadata": {},
   "outputs": [],
   "source": []
  },
  {
   "cell_type": "code",
   "execution_count": null,
   "metadata": {},
   "outputs": [],
   "source": []
  },
  {
   "cell_type": "code",
   "execution_count": null,
   "metadata": {},
   "outputs": [],
   "source": []
  }
 ],
 "metadata": {
  "kernelspec": {
   "display_name": "Python 3",
   "language": "python",
   "name": "python3"
  },
  "language_info": {
   "codemirror_mode": {
    "name": "ipython",
    "version": 3
   },
   "file_extension": ".py",
   "mimetype": "text/x-python",
   "name": "python",
   "nbconvert_exporter": "python",
   "pygments_lexer": "ipython3",
   "version": "3.6.4"
  }
 },
 "nbformat": 4,
 "nbformat_minor": 2
}
