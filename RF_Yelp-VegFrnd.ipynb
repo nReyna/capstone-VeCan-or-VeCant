{
 "cells": [
  {
   "cell_type": "markdown",
   "metadata": {},
   "source": [
    "#### Aug. 9, 2018 1pm"
   ]
  },
  {
   "cell_type": "code",
   "execution_count": 1,
   "metadata": {},
   "outputs": [],
   "source": [
    "import numpy   as np\n",
    "import pandas  as pd\n",
    "\n",
    "import seaborn as sns\n",
    "import matplotlib.pyplot as plt\n",
    "%matplotlib inline\n",
    "\n",
    "from sklearn.model_selection import train_test_split\n",
    "from sklearn.feature_extraction.text import TfidfVectorizer\n",
    "from sklearn.preprocessing   import scale, StandardScaler\n",
    "from sklearn.decomposition   import PCA, TruncatedSVD\n",
    "\n",
    "import pickle\n",
    "from nltk.corpus import stopwords\n",
    "\n",
    "import re"
   ]
  },
  {
   "cell_type": "markdown",
   "metadata": {},
   "source": [
    "---\n",
    "\n",
    "### Large Pickled Dataset\n",
    "\n"
   ]
  },
  {
   "cell_type": "code",
   "execution_count": 2,
   "metadata": {},
   "outputs": [
    {
     "name": "stdout",
     "output_type": "stream",
     "text": [
      "CPU times: user 788 ms, sys: 552 ms, total: 1.34 s\n",
      "Wall time: 1.34 s\n"
     ]
    }
   ],
   "source": [
    "%%time\n",
    "df = pd.read_pickle(\"newRev_VegCols_US.pkl\")"
   ]
  },
  {
   "cell_type": "code",
   "execution_count": null,
   "metadata": {},
   "outputs": [],
   "source": [
    "# df['vegFriendly'].value_counts()\n",
    "\n",
    "# df['useful'].value_counts()[1:10]\n",
    "\n",
    "# df['useful'].value_counts()[1:].sum() / df['useful'].value_counts().sum()\n",
    "\n",
    "# df['useful'].value_counts()[1:].sum() "
   ]
  },
  {
   "cell_type": "code",
   "execution_count": 3,
   "metadata": {},
   "outputs": [],
   "source": [
    "X_df = df.drop(['vegFriendly', 'Vegan', 'Vegetarian'], axis=1)\n",
    "y_df = df['vegFriendly']"
   ]
  },
  {
   "cell_type": "code",
   "execution_count": 4,
   "metadata": {
    "collapsed": true
   },
   "outputs": [
    {
     "name": "stdout",
     "output_type": "stream",
     "text": [
      "<class 'pandas.core.frame.DataFrame'>\n",
      "RangeIndex: 923002 entries, 0 to 923001\n",
      "Data columns (total 17 columns):\n",
      "business_id    923002 non-null object\n",
      "name           923002 non-null object\n",
      "review_id      923002 non-null object\n",
      "stars          923002 non-null int64\n",
      "date           923002 non-null datetime64[ns]\n",
      "text           923002 non-null object\n",
      "useful         923002 non-null int64\n",
      "funny          923002 non-null int64\n",
      "cool           923002 non-null int64\n",
      "city           923002 non-null object\n",
      "state          923002 non-null object\n",
      "Thai           923002 non-null float64\n",
      "Italian        923002 non-null float64\n",
      "Indian         923002 non-null float64\n",
      "Chinese        923002 non-null float64\n",
      "Mexican        923002 non-null float64\n",
      "Text_length    923002 non-null int64\n",
      "dtypes: datetime64[ns](1), float64(5), int64(5), object(6)\n",
      "memory usage: 119.7+ MB\n"
     ]
    }
   ],
   "source": [
    "X_df.info()"
   ]
  },
  {
   "cell_type": "code",
   "execution_count": 5,
   "metadata": {},
   "outputs": [
    {
     "name": "stdout",
     "output_type": "stream",
     "text": [
      "CPU times: user 16.3 s, sys: 112 ms, total: 16.4 s\n",
      "Wall time: 16.4 s\n"
     ]
    }
   ],
   "source": [
    "%%time\n",
    "X_df.iloc[:, 5] = X_df['text'].apply( lambda rev: re.sub(r'(\\d+)', '', rev) )"
   ]
  },
  {
   "cell_type": "code",
   "execution_count": 6,
   "metadata": {},
   "outputs": [
    {
     "name": "stdout",
     "output_type": "stream",
     "text": [
      "CPU times: user 652 ms, sys: 0 ns, total: 652 ms\n",
      "Wall time: 653 ms\n"
     ]
    }
   ],
   "source": [
    "%%time\n",
    "X_df.iloc[:, 5] = X_df['text'].apply( lambda rev: rev.replace('_', '') )"
   ]
  },
  {
   "cell_type": "code",
   "execution_count": null,
   "metadata": {},
   "outputs": [],
   "source": [
    "# %%time\n",
    "# X_df.iloc[:, 5] = X_df['text'].apply( lambda rev: re.sub(r'^[a]*[a-zA-Z]*$', '', rev) )\n",
    "\n",
    "# %%time\n",
    "# X_df.iloc[:, 5] = X_df['text'].apply( lambda rev: re.sub(r'a{3,}.*', '', rev) )"
   ]
  },
  {
   "cell_type": "code",
   "execution_count": 7,
   "metadata": {},
   "outputs": [],
   "source": [
    "X_train, X_test, y_train, y_test = train_test_split(X_df, y_df, test_size=0.3)"
   ]
  },
  {
   "cell_type": "code",
   "execution_count": 8,
   "metadata": {},
   "outputs": [
    {
     "name": "stdout",
     "output_type": "stream",
     "text": [
      "(646101, 17) (276901, 17)\n"
     ]
    }
   ],
   "source": [
    "print( X_train.shape, X_test.shape)"
   ]
  },
  {
   "cell_type": "markdown",
   "metadata": {},
   "source": [
    "---\n",
    "\n",
    "### Manipulate data sets"
   ]
  },
  {
   "cell_type": "code",
   "execution_count": 9,
   "metadata": {},
   "outputs": [],
   "source": [
    "stopWords = list(stopwords.words('english'))\n",
    "stopWords.extend(['good', 'excellent', 'best', 'like', 'place', 'really', 'ordered', 'amazing', 'fantastic', 'am', 'pm'])"
   ]
  },
  {
   "cell_type": "code",
   "execution_count": 10,
   "metadata": {},
   "outputs": [],
   "source": [
    "vectorizer = TfidfVectorizer(stop_words=stopWords)"
   ]
  },
  {
   "cell_type": "markdown",
   "metadata": {},
   "source": [
    "#### Vectorize Review Text"
   ]
  },
  {
   "cell_type": "code",
   "execution_count": 11,
   "metadata": {},
   "outputs": [
    {
     "name": "stdout",
     "output_type": "stream",
     "text": [
      "CPU times: user 43.7 s, sys: 636 ms, total: 44.4 s\n",
      "Wall time: 44.4 s\n"
     ]
    }
   ],
   "source": [
    "%%time\n",
    "X_train_term  = vectorizer.fit_transform(X_train['text'])"
   ]
  },
  {
   "cell_type": "code",
   "execution_count": 12,
   "metadata": {},
   "outputs": [
    {
     "data": {
      "text/plain": [
       "(646101, 141232)"
      ]
     },
     "execution_count": 12,
     "metadata": {},
     "output_type": "execute_result"
    }
   ],
   "source": [
    "X_train_term.shape"
   ]
  },
  {
   "cell_type": "code",
   "execution_count": 13,
   "metadata": {},
   "outputs": [],
   "source": [
    "ftrs = vectorizer.get_feature_names()"
   ]
  },
  {
   "cell_type": "code",
   "execution_count": 14,
   "metadata": {
    "collapsed": true
   },
   "outputs": [
    {
     "data": {
      "text/plain": [
       "['aa',\n",
       " 'aaa',\n",
       " 'aaaa',\n",
       " 'aaaaa',\n",
       " 'aaaaaa',\n",
       " 'aaaaaaaaaaaaaand',\n",
       " 'aaaaaaaaaaaaaauthentic',\n",
       " 'aaaaaaaaaaaaahhhhhhh',\n",
       " 'aaaaaaaaaaack',\n",
       " 'aaaaaaaaaaah',\n",
       " 'aaaaaaaaaah',\n",
       " 'aaaaaaaaaand',\n",
       " 'aaaaaaaahhhhhhhhh',\n",
       " 'aaaaaaaahhhhmazing',\n",
       " 'aaaaaaaamazing',\n",
       " 'aaaaaaaand',\n",
       " 'aaaaaaaawesooooooooooooome',\n",
       " 'aaaaaaahhhhhh',\n",
       " 'aaaaaaall',\n",
       " 'aaaaaaamaaaaazing',\n",
       " 'aaaaaaamazing',\n",
       " 'aaaaaaand',\n",
       " 'aaaaaahhhh',\n",
       " 'aaaaaahhhhh',\n",
       " 'aaaaaamazing',\n",
       " 'aaaaaand',\n",
       " 'aaaaaannnddd',\n",
       " 'aaaaaannnndddd',\n",
       " 'aaaaagh',\n",
       " 'aaaaah',\n",
       " 'aaaaahhhh',\n",
       " 'aaaaahhhhhh',\n",
       " 'aaaaahhhhhhmazing',\n",
       " 'aaaaahhhhmaaazeballs',\n",
       " 'aaaaahhhhmazing',\n",
       " 'aaaaamaaazing',\n",
       " 'aaaaamazing',\n",
       " 'aaaaammmaazzzinnngg',\n",
       " 'aaaaand',\n",
       " 'aaaaarrrggghh',\n",
       " 'aaaaawful',\n",
       " 'aaaaay',\n",
       " 'aaaack',\n",
       " 'aaaagh',\n",
       " 'aaaah',\n",
       " 'aaaahhh',\n",
       " 'aaaahhhh',\n",
       " 'aaaahhhhhhh',\n",
       " 'aaaahhhhhhs',\n",
       " 'aaaahmazzzing',\n",
       " 'aaaajúa',\n",
       " 'aaaallright',\n",
       " 'aaaamaaazing',\n",
       " 'aaaamazing',\n",
       " 'aaaamazzzzing',\n",
       " 'aaaammaaazzinnnggg',\n",
       " 'aaaammaaazzziiingggg',\n",
       " 'aaaammazzing',\n",
       " 'aaaammmaaaaazzzziiiinnnngggg',\n",
       " 'aaaammmaaazing',\n",
       " 'aaaammmazziiigggg',\n",
       " 'aaaammmmmmazing',\n",
       " 'aaaamzing',\n",
       " 'aaaand',\n",
       " 'aaaanddd',\n",
       " 'aaaannnd',\n",
       " 'aaaanyway',\n",
       " 'aaaarreeeee',\n",
       " 'aaaarrgh',\n",
       " 'aaaasssighyeeeeeeeee',\n",
       " 'aaaawesoooome',\n",
       " 'aaaawwwesome',\n",
       " 'aaagggrrrrrrrhhhhh',\n",
       " 'aaagh',\n",
       " 'aaah',\n",
       " 'aaahahaa',\n",
       " 'aaahh',\n",
       " 'aaahhh',\n",
       " 'aaahhhh',\n",
       " 'aaahhhhh',\n",
       " 'aaahhhhhhh',\n",
       " 'aaahhhhmmmaaazzziiiinnnnggg',\n",
       " 'aaahhhmaaaazing',\n",
       " 'aaahhhmazing',\n",
       " 'aaahmaaaazing',\n",
       " 'aaahmazing',\n",
       " 'aaahs',\n",
       " 'aaaiiiiight',\n",
       " 'aaalways',\n",
       " 'aaamazing',\n",
       " 'aaammaazzing',\n",
       " 'aaammaziiiing',\n",
       " 'aaammazing',\n",
       " 'aaammmaziinng',\n",
       " 'aaammmazing',\n",
       " 'aaammmmaaazzziinnggg',\n",
       " 'aaammmmaaazzziinnngg',\n",
       " 'aaand',\n",
       " 'aaannd',\n",
       " 'aaanndd',\n",
       " 'aaannndd',\n",
       " 'aaanyway',\n",
       " 'aaare',\n",
       " 'aaawwee',\n",
       " 'aaawwwwsome',\n",
       " 'aaay',\n",
       " 'aab',\n",
       " 'aaboud',\n",
       " 'aac',\n",
       " 'aachi',\n",
       " 'aacross',\n",
       " 'aadbcc',\n",
       " 'aadd',\n",
       " 'aagain',\n",
       " 'aaggh',\n",
       " 'aah',\n",
       " 'aahaan',\n",
       " 'aahaha',\n",
       " 'aahc',\n",
       " 'aahed',\n",
       " 'aahh',\n",
       " 'aahhh',\n",
       " 'aahhhh',\n",
       " 'aahhhhhaaaahhhhh',\n",
       " 'aahhhhhh',\n",
       " 'aahhhhhhmazing',\n",
       " 'aahhhhhmazing',\n",
       " 'aahing',\n",
       " 'aahran',\n",
       " 'aahs',\n",
       " 'aaid',\n",
       " 'aaiiight',\n",
       " 'aaim',\n",
       " 'aaka',\n",
       " 'aaked',\n",
       " 'aakowa',\n",
       " 'aalad',\n",
       " 'aaliyah',\n",
       " 'aall',\n",
       " 'aalll',\n",
       " 'aallll',\n",
       " 'aalmon',\n",
       " 'aalo',\n",
       " 'aaloo',\n",
       " 'aalyssa',\n",
       " 'aam',\n",
       " 'aamaaazing',\n",
       " 'aamaazingly',\n",
       " 'aamazing',\n",
       " 'aamco',\n",
       " 'aammaazzing',\n",
       " 'aammmmazing',\n",
       " 'aamrass',\n",
       " 'aamzing',\n",
       " 'aan',\n",
       " 'aand',\n",
       " 'aanddddd',\n",
       " 'aandwiches',\n",
       " 'aangenaam',\n",
       " 'aanji',\n",
       " 'aany',\n",
       " 'aaocf',\n",
       " 'aapam',\n",
       " 'aapex',\n",
       " 'aappa',\n",
       " 'aapulco',\n",
       " 'aardvark',\n",
       " 'aargh',\n",
       " 'aaron',\n",
       " 'aaronlauxdesign',\n",
       " 'aarp',\n",
       " 'aarrived',\n",
       " 'aas',\n",
       " 'aasda',\n",
       " 'aash',\n",
       " 'aat',\n",
       " 'aatching',\n",
       " 'aate',\n",
       " 'aau',\n",
       " 'aavailable',\n",
       " 'aawesome',\n",
       " 'aaws',\n",
       " 'aawsome',\n",
       " 'aawwwesooomme',\n",
       " 'aaxixufoaukvaxvorg',\n",
       " 'aay',\n",
       " 'ab',\n",
       " 'ababa',\n",
       " 'aback',\n",
       " 'abacus',\n",
       " 'abadaba',\n",
       " 'abadado',\n",
       " 'abado',\n",
       " 'abadoba',\n",
       " 'abadobo',\n",
       " 'abados',\n",
       " 'abajo',\n",
       " 'abale',\n",
       " 'abali',\n",
       " 'abalone',\n",
       " 'abalones',\n",
       " 'aban',\n",
       " 'abandon',\n",
       " 'abandoned',\n",
       " 'abandoning',\n",
       " 'abandonment',\n",
       " 'abandonned',\n",
       " 'abandons',\n",
       " 'abaot',\n",
       " 'abar',\n",
       " 'abarca',\n",
       " 'abarrotes',\n",
       " 'abate',\n",
       " 'abated',\n",
       " 'abatement',\n",
       " 'abating',\n",
       " 'abavado',\n",
       " 'abay',\n",
       " 'abayrestaurant',\n",
       " 'abba',\n",
       " 'abbaratta',\n",
       " 'abbas',\n",
       " 'abbastanza',\n",
       " 'abbey',\n",
       " 'abbiamo',\n",
       " 'abbodanza',\n",
       " 'abbodonza',\n",
       " 'abbona',\n",
       " 'abbondanza',\n",
       " 'abbot',\n",
       " 'abbott',\n",
       " 'abbra',\n",
       " 'abbracci',\n",
       " 'abbrasive',\n",
       " 'abbreviate',\n",
       " 'abbreviated',\n",
       " 'abbreviation',\n",
       " 'abbreviations',\n",
       " 'abbruzzese',\n",
       " 'abbstanzo',\n",
       " 'abbundenza',\n",
       " 'abby',\n",
       " 'abc',\n",
       " 'abcd',\n",
       " 'abcers',\n",
       " 'abck',\n",
       " 'abcs',\n",
       " 'abd',\n",
       " 'abdo',\n",
       " 'abdola',\n",
       " 'abdolutely',\n",
       " 'abdomen',\n",
       " 'abdominal',\n",
       " 'abdoul',\n",
       " 'abducted',\n",
       " 'abducting',\n",
       " 'abduction',\n",
       " 'abductor',\n",
       " 'abdul',\n",
       " 'abdullah',\n",
       " 'abe',\n",
       " 'abeba',\n",
       " 'abed',\n",
       " 'abeer',\n",
       " 'abei',\n",
       " 'abel',\n",
       " 'abeled',\n",
       " 'abend',\n",
       " 'abendlich',\n",
       " 'abendlichen',\n",
       " 'abends',\n",
       " 'aber',\n",
       " 'abercrombie',\n",
       " 'aberdeen',\n",
       " 'aberrant',\n",
       " 'aberration',\n",
       " 'aberrations',\n",
       " 'abesha',\n",
       " 'abet',\n",
       " 'abetos',\n",
       " 'abetter',\n",
       " 'abeula',\n",
       " 'abeulas',\n",
       " 'abeulo',\n",
       " 'abeulos',\n",
       " 'abeyance',\n",
       " 'abf',\n",
       " 'abfab',\n",
       " 'abfüllung',\n",
       " 'abgeht',\n",
       " 'abgenutzt',\n",
       " 'abgeschmeckt',\n",
       " 'abgesehen',\n",
       " 'abgesperrte',\n",
       " 'abgoosht',\n",
       " 'abguy',\n",
       " 'abhor',\n",
       " 'abhore',\n",
       " 'abhorrent',\n",
       " 'abhorrently',\n",
       " 'abhors',\n",
       " 'abhrahim',\n",
       " 'abhängig',\n",
       " 'abi',\n",
       " 'abiance',\n",
       " 'abiatta',\n",
       " 'abidance',\n",
       " 'abide',\n",
       " 'abided',\n",
       " 'abides',\n",
       " 'abiding',\n",
       " 'abienta',\n",
       " 'abiertas',\n",
       " 'abierto',\n",
       " 'abiertos',\n",
       " 'abiet',\n",
       " 'abig',\n",
       " 'abigail',\n",
       " 'abigal',\n",
       " 'abigale',\n",
       " 'abilities',\n",
       " 'ability',\n",
       " 'abish',\n",
       " 'abismal',\n",
       " 'abiss',\n",
       " 'abissmal',\n",
       " 'abit',\n",
       " 'abita',\n",
       " 'abitanti',\n",
       " 'abitch',\n",
       " 'abituale',\n",
       " 'abiut',\n",
       " 'abject',\n",
       " 'abjectly',\n",
       " 'abke',\n",
       " 'abl',\n",
       " 'ablado',\n",
       " 'ablaze',\n",
       " 'able',\n",
       " 'abled',\n",
       " 'ables',\n",
       " 'ablige',\n",
       " 'abliged',\n",
       " 'ablo',\n",
       " 'ablondigas',\n",
       " 'ablongida',\n",
       " 'ablsolutely',\n",
       " 'ablt',\n",
       " 'ablum',\n",
       " 'ably',\n",
       " 'abmiance',\n",
       " 'abmience',\n",
       " 'abner',\n",
       " 'abnoctious',\n",
       " 'abnormal',\n",
       " 'abnormality',\n",
       " 'abnormally',\n",
       " 'abnoxious',\n",
       " 'abo',\n",
       " 'aboard',\n",
       " 'abobada',\n",
       " 'abobado',\n",
       " 'abobo',\n",
       " 'aboboda',\n",
       " 'abocado',\n",
       " 'abodaba',\n",
       " 'abodabba',\n",
       " 'abodabo',\n",
       " 'abodada',\n",
       " 'abodadas',\n",
       " 'abodado',\n",
       " 'abode',\n",
       " 'abodoba',\n",
       " 'abodobe',\n",
       " 'abodobo',\n",
       " 'abodova',\n",
       " 'abogada',\n",
       " 'abogado',\n",
       " 'aboit',\n",
       " 'aboiut',\n",
       " 'abolish',\n",
       " 'abolished',\n",
       " 'abolitas',\n",
       " 'abolognese',\n",
       " 'abolone',\n",
       " 'abolotti',\n",
       " 'abolute',\n",
       " 'abolutely',\n",
       " 'abomidable',\n",
       " 'abominable',\n",
       " 'abomination',\n",
       " 'abominations',\n",
       " 'abondagas',\n",
       " 'abondega',\n",
       " 'abondigas',\n",
       " 'abondogas',\n",
       " 'aboot',\n",
       " 'aboout',\n",
       " 'aboretum',\n",
       " 'aborio',\n",
       " 'aborrotes',\n",
       " 'abort',\n",
       " 'aborted',\n",
       " 'abortion',\n",
       " 'abos',\n",
       " 'aboslut',\n",
       " 'aboslutely',\n",
       " 'aboslutley',\n",
       " 'abosolute',\n",
       " 'abosolutely',\n",
       " 'abosorbed',\n",
       " 'abosultely',\n",
       " 'abot',\n",
       " 'abotu',\n",
       " 'abou',\n",
       " 'abouh',\n",
       " 'aboujt',\n",
       " 'abound',\n",
       " 'abounded',\n",
       " 'abounding',\n",
       " 'abounds',\n",
       " 'abour',\n",
       " 'aboutabout',\n",
       " 'aboutamom',\n",
       " 'aboutcustomer',\n",
       " 'aboutfry',\n",
       " 'abouther',\n",
       " 'abouthis',\n",
       " 'aboutitt',\n",
       " 'aboutkomex',\n",
       " 'aboutonce',\n",
       " 'abouts',\n",
       " 'aboutt',\n",
       " 'aboutthis',\n",
       " 'abouut',\n",
       " 'abouy',\n",
       " 'abovada',\n",
       " 'aboveandbeyond',\n",
       " 'abover',\n",
       " 'abpvmjkjychtyiz',\n",
       " 'abq',\n",
       " 'abqiysswewbxnsbcuwwso',\n",
       " 'abra',\n",
       " 'abracadabra',\n",
       " 'abracos',\n",
       " 'abrade',\n",
       " 'abrado',\n",
       " 'abraham',\n",
       " 'abram',\n",
       " 'abrams',\n",
       " 'abran',\n",
       " 'abrasion',\n",
       " 'abrasive',\n",
       " 'abrasively',\n",
       " 'abrazzo',\n",
       " 'abreast',\n",
       " 'abreu',\n",
       " 'abreviated',\n",
       " 'abricots',\n",
       " 'abridged',\n",
       " 'abrigada',\n",
       " 'abril',\n",
       " 'abrio',\n",
       " 'abrir',\n",
       " 'abroad',\n",
       " 'abrputly',\n",
       " 'abrubt',\n",
       " 'abrubtly',\n",
       " 'abrumados',\n",
       " 'abrupt',\n",
       " 'abruptly',\n",
       " 'abruptness',\n",
       " 'abruscato',\n",
       " 'abruzza',\n",
       " 'abruzze',\n",
       " 'abruzzi',\n",
       " 'abruzzis',\n",
       " 'abruzzo',\n",
       " 'abs',\n",
       " 'absa',\n",
       " 'absativley',\n",
       " 'abscess',\n",
       " 'abscesses',\n",
       " 'abschluss',\n",
       " 'abscond',\n",
       " 'absconded',\n",
       " 'abseits',\n",
       " 'absence',\n",
       " 'absences',\n",
       " 'absent',\n",
       " 'absentee',\n",
       " 'absently',\n",
       " 'absentminded',\n",
       " 'absentmindedly',\n",
       " 'absinthe',\n",
       " 'absintheeeeeee',\n",
       " 'absloutly',\n",
       " 'abslutely',\n",
       " 'abso',\n",
       " 'absobtion',\n",
       " 'absofrnkinglotley',\n",
       " 'absokutly',\n",
       " 'absollutely',\n",
       " 'absolor',\n",
       " 'absoloutley',\n",
       " 'absoloutly',\n",
       " 'absolte',\n",
       " 'absoltely',\n",
       " 'absoluately',\n",
       " 'absoluely',\n",
       " 'absoluetly',\n",
       " 'absolultely',\n",
       " 'absolument',\n",
       " 'absolustely',\n",
       " 'absolut',\n",
       " 'absolutamente',\n",
       " 'absolute',\n",
       " 'absolutedly',\n",
       " 'absolutel',\n",
       " 'absolutellllyyyyyyyy',\n",
       " 'absolutelt',\n",
       " 'absolutelty',\n",
       " 'absolutely',\n",
       " 'absolutelyabsolutely',\n",
       " 'absolutelylove',\n",
       " 'absolutelyo',\n",
       " 'absolutelyorder',\n",
       " 'absoluter',\n",
       " 'absolutes',\n",
       " 'absolutety',\n",
       " 'absolutey',\n",
       " 'absolutle',\n",
       " 'absolutlely',\n",
       " 'absolutley',\n",
       " 'absolutly',\n",
       " 'absolutuely',\n",
       " 'absoluut',\n",
       " 'absoluyely',\n",
       " 'absoooooooolutely',\n",
       " 'absorb',\n",
       " 'absorbable',\n",
       " 'absorbance',\n",
       " 'absorbant',\n",
       " 'absorbed',\n",
       " 'absorbent',\n",
       " 'absorber',\n",
       " 'absorbinent',\n",
       " 'absorbing',\n",
       " 'absorbs',\n",
       " 'absorbtion',\n",
       " 'absord',\n",
       " 'absorption',\n",
       " 'absorutly',\n",
       " 'absou',\n",
       " 'absouletly',\n",
       " 'absoulety',\n",
       " 'absouloty',\n",
       " 'absoult',\n",
       " 'absoulte',\n",
       " 'absoultely',\n",
       " 'absoultly',\n",
       " 'absoulty',\n",
       " 'absoulutely',\n",
       " 'absoulutly',\n",
       " 'absoutely',\n",
       " 'absoutly',\n",
       " 'abstain',\n",
       " 'abstained',\n",
       " 'abstainer',\n",
       " 'abstaining',\n",
       " 'abstemious',\n",
       " 'abstentia',\n",
       " 'abstinence',\n",
       " 'abstract',\n",
       " 'abstracts',\n",
       " 'absultely',\n",
       " 'absulute',\n",
       " 'absurb',\n",
       " 'absurd',\n",
       " 'absurdist',\n",
       " 'absurdity',\n",
       " 'absurdly',\n",
       " 'absured',\n",
       " 'abt',\n",
       " 'abtibiotic',\n",
       " 'abtwist',\n",
       " 'abu',\n",
       " 'abucheas',\n",
       " 'abudant',\n",
       " 'abudantly',\n",
       " 'abuela',\n",
       " 'abuelas',\n",
       " 'abuelita',\n",
       " 'abuelitas',\n",
       " 'abuelito',\n",
       " 'abuelitos',\n",
       " 'abuella',\n",
       " 'abuellas',\n",
       " 'abuello',\n",
       " 'abuellos',\n",
       " 'abuelo',\n",
       " 'abuelos',\n",
       " 'abulea',\n",
       " 'abuleas',\n",
       " 'abuleo',\n",
       " 'abuleos',\n",
       " 'abulita',\n",
       " 'abulon',\n",
       " 'abunance',\n",
       " 'abunch',\n",
       " 'abundance',\n",
       " 'abundances',\n",
       " 'abundancy',\n",
       " 'abundane',\n",
       " 'abundant',\n",
       " 'abundante',\n",
       " 'abundantes',\n",
       " 'abundantly',\n",
       " 'abundent',\n",
       " 'abura',\n",
       " 'abuse',\n",
       " 'abused',\n",
       " 'abuser',\n",
       " 'abusers',\n",
       " 'abuses',\n",
       " 'abusing',\n",
       " 'abusive',\n",
       " 'abusively',\n",
       " 'abusrd',\n",
       " 'abusrdly',\n",
       " 'abustle',\n",
       " 'abut',\n",
       " 'abuts',\n",
       " 'abutted',\n",
       " 'abutting',\n",
       " 'abuzz',\n",
       " 'abv',\n",
       " 'abvionce',\n",
       " 'abvouisly',\n",
       " 'abwechslung',\n",
       " 'abyone',\n",
       " 'abysmal',\n",
       " 'abysmally',\n",
       " 'abyss',\n",
       " 'abyssina',\n",
       " 'abyssinia',\n",
       " 'abyssmal',\n",
       " 'abythibg',\n",
       " 'abz',\n",
       " 'abzug',\n",
       " 'abzüge',\n",
       " 'abzüglich',\n",
       " 'ac',\n",
       " 'aca',\n",
       " 'acabamos',\n",
       " 'acaban',\n",
       " 'acabarla',\n",
       " 'acabaron',\n",
       " 'acabas',\n",
       " 'acaben',\n",
       " 'acabo',\n",
       " 'acac',\n",
       " 'acacado',\n",
       " 'acaci',\n",
       " 'acacia',\n",
       " 'academic',\n",
       " 'academics',\n",
       " 'academy',\n",
       " 'acadia',\n",
       " 'acado',\n",
       " 'acai',\n",
       " 'acaii',\n",
       " 'acalpulco',\n",
       " 'acapella',\n",
       " 'acapulco',\n",
       " 'acapulo',\n",
       " 'acar',\n",
       " 'acaricia',\n",
       " 'acarte',\n",
       " 'acas',\n",
       " 'acaì',\n",
       " 'acaí',\n",
       " 'acc',\n",
       " 'accandle',\n",
       " 'accapella',\n",
       " 'accdg',\n",
       " 'acceded',\n",
       " 'accelerate',\n",
       " 'accelerated',\n",
       " 'accelerating',\n",
       " 'acceleration',\n",
       " 'accelerator',\n",
       " 'accent',\n",
       " 'accented',\n",
       " 'accenting',\n",
       " 'accents',\n",
       " 'accentuate',\n",
       " 'accentuated',\n",
       " 'accentuates',\n",
       " 'accentuating',\n",
       " 'accept',\n",
       " 'acceptabel',\n",
       " 'acceptability',\n",
       " 'acceptable',\n",
       " 'acceptably',\n",
       " 'acceptance',\n",
       " 'accepted',\n",
       " 'acceptible',\n",
       " 'accepting',\n",
       " 'acception',\n",
       " 'acceptional',\n",
       " 'acceptionally',\n",
       " 'accepts',\n",
       " 'accesible',\n",
       " 'accesibles',\n",
       " 'access',\n",
       " 'accessable',\n",
       " 'accessed',\n",
       " 'accessibilitiy',\n",
       " 'accessibility',\n",
       " 'accessible',\n",
       " 'accessibly',\n",
       " 'accessing',\n",
       " 'accessive',\n",
       " 'accessories',\n",
       " 'accessorize',\n",
       " 'accessorized',\n",
       " 'accessory',\n",
       " 'accesssories',\n",
       " 'accidenally',\n",
       " 'accident',\n",
       " 'accidental',\n",
       " 'accidentallly',\n",
       " 'accidentally',\n",
       " 'accidentaly',\n",
       " 'accidented',\n",
       " 'accidentially',\n",
       " 'accidently',\n",
       " 'accidents',\n",
       " 'accio',\n",
       " 'accistic',\n",
       " 'acclaim',\n",
       " 'acclaimed',\n",
       " 'acclaims',\n",
       " 'acclamated',\n",
       " 'acclamation',\n",
       " 'acclamations',\n",
       " 'acclaments',\n",
       " 'acclimate',\n",
       " 'acclimated',\n",
       " 'acclimating',\n",
       " 'acclimation',\n",
       " 'acco',\n",
       " 'accodomates',\n",
       " 'accolade',\n",
       " 'accolades',\n",
       " 'accomadate',\n",
       " 'accomadated',\n",
       " 'accomadatig',\n",
       " 'accomadating',\n",
       " 'accomadations',\n",
       " 'accomaditing',\n",
       " 'accomadting',\n",
       " 'accomdate',\n",
       " 'accomdated',\n",
       " 'accomdates',\n",
       " 'accomdating',\n",
       " 'accomdations',\n",
       " 'accomdoating',\n",
       " 'accomedated',\n",
       " 'accomedating',\n",
       " 'accomediating',\n",
       " 'accomendating',\n",
       " 'accomendatting',\n",
       " 'accomidaring',\n",
       " 'accomidate',\n",
       " 'accomidated',\n",
       " 'accomidating',\n",
       " 'accomidations',\n",
       " 'accomiding',\n",
       " 'accomindating',\n",
       " 'accommadated',\n",
       " 'accommadating',\n",
       " 'accommading',\n",
       " 'accommate',\n",
       " 'accommating',\n",
       " 'accommdating',\n",
       " 'accommidating',\n",
       " 'accomminating',\n",
       " 'accommodadting',\n",
       " 'accommodate',\n",
       " 'accommodated',\n",
       " 'accommodates',\n",
       " 'accommodating',\n",
       " 'accommodatingly',\n",
       " 'accommodation',\n",
       " 'accommodationing',\n",
       " 'accommodations',\n",
       " 'accommodative',\n",
       " 'accommoding',\n",
       " 'accomodate',\n",
       " 'accomodated',\n",
       " 'accomodates',\n",
       " 'accomodatin',\n",
       " 'accomodating',\n",
       " 'accomodatinig',\n",
       " 'accomodation',\n",
       " 'accomodations',\n",
       " 'accomodative',\n",
       " 'accomoded',\n",
       " 'accomoding',\n",
       " 'accomondating',\n",
       " 'accompaines',\n",
       " 'accompainment',\n",
       " 'accompamied',\n",
       " 'accompaniaments',\n",
       " 'accompanie',\n",
       " 'accompanied',\n",
       " 'accompaniement',\n",
       " 'accompaniements',\n",
       " 'accompanies',\n",
       " 'accompaniment',\n",
       " 'accompaniments',\n",
       " 'accompaning',\n",
       " 'accompanishes',\n",
       " 'accompanist',\n",
       " 'accompannied',\n",
       " 'accompany',\n",
       " 'accompanyin',\n",
       " 'accompanying',\n",
       " 'accompanyment',\n",
       " 'accompanyments',\n",
       " 'accompay',\n",
       " 'accompiament',\n",
       " 'accompianment',\n",
       " 'accompianments',\n",
       " 'accompiant',\n",
       " 'accompied',\n",
       " 'accompish',\n",
       " 'accompli',\n",
       " 'accomplice',\n",
       " 'accomplish',\n",
       " 'accomplished',\n",
       " 'accomplishes',\n",
       " 'accomplishing',\n",
       " 'accomplishment',\n",
       " 'accomplishments',\n",
       " 'accompniments',\n",
       " 'accompying',\n",
       " 'accomudating',\n",
       " 'acconplished',\n",
       " 'accoomodating',\n",
       " 'accopanying',\n",
       " 'accord',\n",
       " 'accordance',\n",
       " 'accorded',\n",
       " 'accordian',\n",
       " 'according',\n",
       " 'accordingly',\n",
       " 'accordion',\n",
       " 'accordionist',\n",
       " 'accordions',\n",
       " 'accosted',\n",
       " 'accosting',\n",
       " 'accostom',\n",
       " 'accostomed',\n",
       " 'account',\n",
       " 'accountability',\n",
       " 'accountable',\n",
       " 'accountant',\n",
       " 'accountants',\n",
       " 'accounted',\n",
       " 'accounter',\n",
       " 'accounting',\n",
       " 'accounts',\n",
       " 'accoustic',\n",
       " 'accoustics',\n",
       " 'accout',\n",
       " 'accouterment',\n",
       " 'accouterments',\n",
       " 'accoutrement',\n",
       " 'accoutrements',\n",
       " 'accp',\n",
       " 'accpet',\n",
       " 'accrediation',\n",
       " 'accredited',\n",
       " 'accross',\n",
       " 'accrue',\n",
       " 'accrued',\n",
       " 'accrues',\n",
       " 'acct',\n",
       " 'acctitud',\n",
       " 'acctually',\n",
       " 'accually',\n",
       " 'accuarte',\n",
       " 'accudent',\n",
       " 'accueil',\n",
       " 'accuired',\n",
       " 'accumen',\n",
       " 'accumlating',\n",
       " 'accumstomed',\n",
       " 'accumulate',\n",
       " 'accumulated',\n",
       " 'accumulates',\n",
       " 'accumulating',\n",
       " 'accumulation',\n",
       " 'accupied',\n",
       " 'accupplulo',\n",
       " 'accuracies',\n",
       " 'accuracy',\n",
       " 'accurate',\n",
       " 'accurately',\n",
       " 'accuratly',\n",
       " 'accurrate',\n",
       " 'accusal',\n",
       " 'accusation',\n",
       " 'accusations',\n",
       " 'accusatorial',\n",
       " 'accusatorially',\n",
       " 'accusatory',\n",
       " 'accuse',\n",
       " 'accused',\n",
       " 'accuses',\n",
       " 'accusing',\n",
       " 'accusingly',\n",
       " 'accustom',\n",
       " 'accustomed',\n",
       " 'accutramontes',\n",
       " 'accèder',\n",
       " 'accès',\n",
       " 'acdc',\n",
       " 'ace',\n",
       " 'aced',\n",
       " 'aceite',\n",
       " 'aceitoso',\n",
       " 'acelerada',\n",
       " 'aceon',\n",
       " 'aceptable',\n",
       " 'aceptan',\n",
       " 'aceptar',\n",
       " 'acerbic',\n",
       " 'acercó',\n",
       " 'acerqué',\n",
       " 'acers',\n",
       " 'acertain',\n",
       " 'aces',\n",
       " 'acetaia',\n",
       " 'acetate',\n",
       " 'acetic',\n",
       " 'aceto',\n",
       " 'acetone',\n",
       " 'acetquencen',\n",
       " 'acetylene',\n",
       " 'acevedo',\n",
       " 'acewood',\n",
       " 'acg',\n",
       " 'ach',\n",
       " 'acha',\n",
       " 'achaar',\n",
       " 'achaari',\n",
       " 'achali',\n",
       " 'achar',\n",
       " 'achari',\n",
       " 'achat',\n",
       " 'achatz',\n",
       " 'achd',\n",
       " 'ache',\n",
       " 'ached',\n",
       " 'acheived',\n",
       " 'aches',\n",
       " 'achey',\n",
       " 'achievable',\n",
       " 'achieve',\n",
       " 'achieved',\n",
       " 'achievement',\n",
       " 'achievements',\n",
       " 'achiever',\n",
       " 'achievers',\n",
       " 'achieves',\n",
       " 'achieving',\n",
       " 'achill',\n",
       " 'achilles',\n",
       " 'achillo',\n",
       " 'aching',\n",
       " 'achiote',\n",
       " 'achnknowledge',\n",
       " 'achocolypse',\n",
       " 'achoite',\n",
       " 'acholic',\n",
       " 'achoo',\n",
       " 'achosen',\n",
       " 'achote',\n",
       " 'achten',\n",
       " 'achtung',\n",
       " 'achy',\n",
       " 'acia',\n",
       " 'acid',\n",
       " 'acidently',\n",
       " 'acidic',\n",
       " 'acidid',\n",
       " ...]"
      ]
     },
     "execution_count": 14,
     "metadata": {},
     "output_type": "execute_result"
    }
   ],
   "source": [
    "ftrs"
   ]
  },
  {
   "cell_type": "markdown",
   "metadata": {},
   "source": [
    "#### Reduce Dimensionality"
   ]
  },
  {
   "cell_type": "code",
   "execution_count": 15,
   "metadata": {},
   "outputs": [],
   "source": [
    "svd = TruncatedSVD(n_components=120, n_iter=7)"
   ]
  },
  {
   "cell_type": "code",
   "execution_count": 16,
   "metadata": {},
   "outputs": [
    {
     "name": "stdout",
     "output_type": "stream",
     "text": [
      "CPU times: user 1min 50s, sys: 9.38 s, total: 1min 59s\n",
      "Wall time: 1min 12s\n"
     ]
    }
   ],
   "source": [
    "%%time\n",
    "X_train_term_svd = svd.fit_transform(X_train_term)  "
   ]
  },
  {
   "cell_type": "code",
   "execution_count": 17,
   "metadata": {
    "collapsed": true
   },
   "outputs": [
    {
     "data": {
      "text/plain": [
       "array([130.57719979,  58.91467945,  57.17188445,  54.38733755,\n",
       "        50.78579584,  45.59531852,  45.17060957,  43.21420376,\n",
       "        41.89213369,  39.90082228,  38.63612573,  38.51533399,\n",
       "        37.63498773,  37.03297504,  36.91201108,  36.48508225,\n",
       "        36.04313605,  35.50396906,  34.86269412,  34.79708782,\n",
       "        34.59454701,  34.45748375,  33.90420768,  33.04732832,\n",
       "        32.87324057,  32.69711648,  32.61270921,  32.34800334,\n",
       "        32.10829907,  32.05563128,  31.7700377 ,  31.63734895,\n",
       "        31.47273701,  31.29264873,  30.95593172,  30.91714579,\n",
       "        30.71967162,  30.61395019,  30.36002474,  30.25401261,\n",
       "        30.11393575,  29.98129477,  29.7971285 ,  29.64053111,\n",
       "        29.29489817,  29.24926701,  29.12805799,  29.04185685,\n",
       "        28.88850661,  28.86226849,  28.6751323 ,  28.58914482,\n",
       "        28.51830755,  28.48307417,  28.35889381,  28.30496085,\n",
       "        28.22268917,  28.17390358,  28.09911491,  28.00980426,\n",
       "        27.91850729,  27.80422613,  27.70019583,  27.64051467,\n",
       "        27.60250955,  27.54814962,  27.4750079 ,  27.34446293,\n",
       "        27.14846742,  27.12480081,  26.92975837,  26.83973425,\n",
       "        26.83069935,  26.73689693,  26.72947926,  26.42778376,\n",
       "        26.37752831,  26.35880462,  26.19686397,  26.14588202,\n",
       "        26.08487513,  25.94820946,  25.90806104,  25.76991128,\n",
       "        25.75232489,  25.69326192,  25.59956362,  25.55408694,\n",
       "        25.46192201,  25.42890814,  25.39412179,  25.27763652,\n",
       "        25.22841339,  25.2040622 ,  25.12082188,  25.08587584,\n",
       "        25.00418018,  24.93200696,  24.90638238,  24.81302957,\n",
       "        24.75116817,  24.70881166,  24.58890614,  24.53148092,\n",
       "        24.45433823,  24.40983442,  24.34209137,  24.30151896,\n",
       "        24.26944782,  24.20667822,  24.11423403,  24.04444066,\n",
       "        24.0108467 ,  23.94676885,  23.9376594 ,  23.7483409 ,\n",
       "        23.68722837,  23.63129205,  23.53408328,  23.44632554])"
      ]
     },
     "execution_count": 17,
     "metadata": {},
     "output_type": "execute_result"
    }
   ],
   "source": [
    "svd.singular_values_"
   ]
  },
  {
   "cell_type": "code",
   "execution_count": 18,
   "metadata": {},
   "outputs": [
    {
     "data": {
      "image/png": "[encoded data removed]",
      "text/plain": [
       "<Figure size 432x288 with 1 Axes>"
      ]
     },
     "metadata": {},
     "output_type": "display_data"
    }
   ],
   "source": [
    "s = svd.singular_values_\n",
    "\n",
    "x = [i+1 for i in range(len(s))]\n",
    "plt.plot(x, s, marker='o')\n",
    "plt.xlabel(\"Singular Values\")\n",
    "plt.ylabel(\"Value\");"
   ]
  },
  {
   "cell_type": "markdown",
   "metadata": {},
   "source": [
    "---\n",
    "\n",
    "### Percentage of Variance Explained"
   ]
  },
  {
   "cell_type": "code",
   "execution_count": 19,
   "metadata": {},
   "outputs": [
    {
     "name": "stdout",
     "output_type": "stream",
     "text": [
      "Percentage of explained variance (dimRed) 17.95554121606649\n"
     ]
    }
   ],
   "source": [
    "print(\"Percentage of explained variance (dimRed)\", svd.explained_variance_ratio_.sum()*100)"
   ]
  },
  {
   "cell_type": "markdown",
   "metadata": {},
   "source": [
    "---\n",
    "\n",
    "#### Random Forest - Train"
   ]
  },
  {
   "cell_type": "code",
   "execution_count": 20,
   "metadata": {},
   "outputs": [],
   "source": [
    "from sklearn.ensemble import RandomForestClassifier"
   ]
  },
  {
   "cell_type": "code",
   "execution_count": 21,
   "metadata": {},
   "outputs": [
    {
     "name": "stdout",
     "output_type": "stream",
     "text": [
      "CPU times: user 0 ns, sys: 0 ns, total: 0 ns\n",
      "Wall time: 37.2 µs\n"
     ]
    }
   ],
   "source": [
    "%%time\n",
    "RF_model = RandomForestClassifier(n_jobs=-1, n_estimators=800)"
   ]
  },
  {
   "cell_type": "code",
   "execution_count": 22,
   "metadata": {},
   "outputs": [
    {
     "name": "stdout",
     "output_type": "stream",
     "text": [
      "CPU times: user 3h 22min 9s, sys: 5.01 s, total: 3h 22min 14s\n",
      "Wall time: 25min 55s\n"
     ]
    },
    {
     "data": {
      "text/plain": [
       "RandomForestClassifier(bootstrap=True, class_weight=None, criterion='gini',\n",
       "            max_depth=None, max_features='auto', max_leaf_nodes=None,\n",
       "            min_impurity_decrease=0.0, min_impurity_split=None,\n",
       "            min_samples_leaf=1, min_samples_split=2,\n",
       "            min_weight_fraction_leaf=0.0, n_estimators=800, n_jobs=-1,\n",
       "            oob_score=False, random_state=None, verbose=0,\n",
       "            warm_start=False)"
      ]
     },
     "execution_count": 22,
     "metadata": {},
     "output_type": "execute_result"
    }
   ],
   "source": [
    "%%time\n",
    "RF_model.fit(X_train_term_svd, y_train)"
   ]
  },
  {
   "cell_type": "markdown",
   "metadata": {},
   "source": [
    "---\n",
    "\n",
    "#### Random Forest - Test"
   ]
  },
  {
   "cell_type": "code",
   "execution_count": 23,
   "metadata": {},
   "outputs": [
    {
     "name": "stdout",
     "output_type": "stream",
     "text": [
      "CPU times: user 19.3 s, sys: 220 ms, total: 19.5 s\n",
      "Wall time: 19.5 s\n"
     ]
    }
   ],
   "source": [
    "%%time\n",
    "X_test_term = vectorizer.transform(X_test['text'])"
   ]
  },
  {
   "cell_type": "code",
   "execution_count": 24,
   "metadata": {},
   "outputs": [
    {
     "data": {
      "text/plain": [
       "(276901, 141232)"
      ]
     },
     "execution_count": 24,
     "metadata": {},
     "output_type": "execute_result"
    }
   ],
   "source": [
    "X_test_term.shape"
   ]
  },
  {
   "cell_type": "code",
   "execution_count": 25,
   "metadata": {},
   "outputs": [
    {
     "name": "stdout",
     "output_type": "stream",
     "text": [
      "CPU times: user 1.3 s, sys: 540 ms, total: 1.84 s\n",
      "Wall time: 1.84 s\n"
     ]
    }
   ],
   "source": [
    "%%time\n",
    "X_test_term_svd = svd.transform(X_test_term)"
   ]
  },
  {
   "cell_type": "code",
   "execution_count": 26,
   "metadata": {},
   "outputs": [
    {
     "data": {
      "text/plain": [
       "(276901, 120)"
      ]
     },
     "execution_count": 26,
     "metadata": {},
     "output_type": "execute_result"
    }
   ],
   "source": [
    "X_test_term_svd.shape"
   ]
  },
  {
   "cell_type": "code",
   "execution_count": 27,
   "metadata": {},
   "outputs": [
    {
     "name": "stdout",
     "output_type": "stream",
     "text": [
      "CPU times: user 2min 6s, sys: 140 ms, total: 2min 6s\n",
      "Wall time: 16.3 s\n"
     ]
    }
   ],
   "source": [
    "%%time\n",
    "pred = RF_model.predict(X_test_term_svd)"
   ]
  },
  {
   "cell_type": "code",
   "execution_count": 28,
   "metadata": {},
   "outputs": [
    {
     "data": {
      "text/plain": [
       "276901"
      ]
     },
     "execution_count": 28,
     "metadata": {},
     "output_type": "execute_result"
    }
   ],
   "source": [
    "len(pred)"
   ]
  },
  {
   "cell_type": "code",
   "execution_count": 29,
   "metadata": {},
   "outputs": [
    {
     "data": {
      "text/plain": [
       "array([0., 0., 0., 1., 0., 0., 0., 0., 0., 0., 0., 0., 0., 0., 0., 0., 0.,\n",
       "       0., 0., 0., 0., 0., 0., 0., 0., 0., 0., 0., 0., 0.])"
      ]
     },
     "execution_count": 29,
     "metadata": {},
     "output_type": "execute_result"
    }
   ],
   "source": [
    "pred[:30]"
   ]
  },
  {
   "cell_type": "code",
   "execution_count": 30,
   "metadata": {},
   "outputs": [
    {
     "data": {
      "text/plain": [
       "array([0., 1.])"
      ]
     },
     "execution_count": 30,
     "metadata": {},
     "output_type": "execute_result"
    }
   ],
   "source": [
    "np.unique(pred)"
   ]
  },
  {
   "cell_type": "code",
   "execution_count": 31,
   "metadata": {},
   "outputs": [
    {
     "data": {
      "text/plain": [
       "797066    0.0\n",
       "436266    0.0\n",
       "327599    1.0\n",
       "882862    1.0\n",
       "503461    0.0\n",
       "750771    0.0\n",
       "652354    0.0\n",
       "214684    0.0\n",
       "180716    0.0\n",
       "868921    1.0\n",
       "Name: vegFriendly, dtype: float64"
      ]
     },
     "execution_count": 31,
     "metadata": {},
     "output_type": "execute_result"
    }
   ],
   "source": [
    "y_test[:10]"
   ]
  },
  {
   "cell_type": "code",
   "execution_count": 32,
   "metadata": {
    "scrolled": true
   },
   "outputs": [
    {
     "data": {
      "text/plain": [
       "array([0., 0., 0., 1., 0., 0., 0., 0., 0., 0.])"
      ]
     },
     "execution_count": 32,
     "metadata": {},
     "output_type": "execute_result"
    }
   ],
   "source": [
    "pred[:10]"
   ]
  },
  {
   "cell_type": "code",
   "execution_count": 33,
   "metadata": {},
   "outputs": [],
   "source": [
    "from sklearn.metrics import confusion_matrix, accuracy_score, precision_score, recall_score, f1_score\n",
    "\n",
    "from sklearn.metrics import classification_report, roc_auc_score, roc_curve"
   ]
  },
  {
   "cell_type": "code",
   "execution_count": 34,
   "metadata": {},
   "outputs": [
    {
     "data": {
      "text/plain": [
       "array([[219413,    826],\n",
       "       [ 24049,  32613]])"
      ]
     },
     "execution_count": 34,
     "metadata": {},
     "output_type": "execute_result"
    }
   ],
   "source": [
    "lbls = ['vegFriendly', 'Non-vegFriendly']\n",
    "\n",
    "cm = confusion_matrix(y_test, pred)\n",
    "cm"
   ]
  },
  {
   "cell_type": "code",
   "execution_count": 35,
   "metadata": {},
   "outputs": [
    {
     "name": "stdout",
     "output_type": "stream",
     "text": [
      "             precision    recall  f1-score   support\n",
      "\n",
      "        0.0       0.90      1.00      0.95    220239\n",
      "        1.0       0.98      0.58      0.72     56662\n",
      "\n",
      "avg / total       0.92      0.91      0.90    276901\n",
      "\n"
     ]
    }
   ],
   "source": [
    "print(classification_report(y_test, pred))"
   ]
  },
  {
   "cell_type": "code",
   "execution_count": 36,
   "metadata": {},
   "outputs": [
    {
     "data": {
      "text/plain": [
       "0.9101664493808257"
      ]
     },
     "execution_count": 36,
     "metadata": {},
     "output_type": "execute_result"
    }
   ],
   "source": [
    "accuracy_score(y_test, pred)"
   ]
  },
  {
   "cell_type": "code",
   "execution_count": 37,
   "metadata": {},
   "outputs": [
    {
     "data": {
      "text/plain": [
       "0.9752983043751309"
      ]
     },
     "execution_count": 37,
     "metadata": {},
     "output_type": "execute_result"
    }
   ],
   "source": [
    "precision_score(y_test, pred)"
   ]
  },
  {
   "cell_type": "code",
   "execution_count": 38,
   "metadata": {},
   "outputs": [
    {
     "data": {
      "text/plain": [
       "0.575570929370654"
      ]
     },
     "execution_count": 38,
     "metadata": {},
     "output_type": "execute_result"
    }
   ],
   "source": [
    "recall_score(y_test, pred)"
   ]
  },
  {
   "cell_type": "code",
   "execution_count": 39,
   "metadata": {},
   "outputs": [
    {
     "data": {
      "text/plain": [
       "0.7239209331749924"
      ]
     },
     "execution_count": 39,
     "metadata": {},
     "output_type": "execute_result"
    }
   ],
   "source": [
    "f1_score(y_test, pred)"
   ]
  },
  {
   "cell_type": "code",
   "execution_count": 42,
   "metadata": {},
   "outputs": [
    {
     "name": "stdout",
     "output_type": "stream",
     "text": [
      "Confusion matrix, without normalization\n"
     ]
    },
    {
     "data": {
      "image/png": "[encoded data removed]",
      "text/plain": [
       "<Figure size 432x288 with 2 Axes>"
      ]
     },
     "metadata": {},
     "output_type": "display_data"
    }
   ],
   "source": [
    "plot_confusion_matrix(cm,lbls)"
   ]
  },
  {
   "cell_type": "code",
   "execution_count": 43,
   "metadata": {},
   "outputs": [
    {
     "data": {
      "text/plain": [
       "array([0.00938292, 0.0160177 , 0.00753403, 0.01618676, 0.01066574,\n",
       "       0.01031367, 0.01025297, 0.02321441, 0.011424  , 0.00770631,\n",
       "       0.0077324 , 0.01315669, 0.01415326, 0.01011171, 0.00985808,\n",
       "       0.00949453, 0.02458342, 0.01495827, 0.01107196, 0.00883168,\n",
       "       0.01484295, 0.0123007 , 0.01340884, 0.00817569, 0.00978501,\n",
       "       0.02609973, 0.00706949, 0.00773592, 0.00687618, 0.00706413,\n",
       "       0.00696173, 0.0078926 , 0.00872917, 0.00734738, 0.01005528,\n",
       "       0.00695974, 0.00813722, 0.00725661, 0.00787161, 0.00776857,\n",
       "       0.0072709 , 0.00745466, 0.00799969, 0.00713025, 0.006945  ,\n",
       "       0.0067391 , 0.00676935, 0.00753202, 0.00677538, 0.00817838,\n",
       "       0.00703295, 0.00693176, 0.00696802, 0.00868318, 0.0069276 ,\n",
       "       0.0070106 , 0.00678967, 0.00681863, 0.00682587, 0.0065522 ,\n",
       "       0.006928  , 0.00657936, 0.00682748, 0.0066382 , 0.00739659,\n",
       "       0.00678911, 0.00705761, 0.00709319, 0.00690357, 0.00685005,\n",
       "       0.00676447, 0.00671987, 0.00709546, 0.00692924, 0.00674902,\n",
       "       0.00678566, 0.0067591 , 0.00707356, 0.00715583, 0.00708456,\n",
       "       0.00742752, 0.00685824, 0.00668565, 0.00669907, 0.0074635 ,\n",
       "       0.00706198, 0.00666101, 0.00693154, 0.00678594, 0.00675065,\n",
       "       0.00693278, 0.00676513, 0.0066883 , 0.00666613, 0.00717356,\n",
       "       0.00681085, 0.00709945, 0.0067859 , 0.00695982, 0.00677201,\n",
       "       0.00663041, 0.00674323, 0.00681499, 0.00753118, 0.00691853,\n",
       "       0.0072029 , 0.00704417, 0.00681465, 0.007602  , 0.0070005 ,\n",
       "       0.00754531, 0.00699687, 0.00707529, 0.00710214, 0.00714229,\n",
       "       0.00725674, 0.00687921, 0.00700894, 0.00724413, 0.00696331])"
      ]
     },
     "execution_count": 43,
     "metadata": {},
     "output_type": "execute_result"
    }
   ],
   "source": [
    "importances = RF_model.feature_importances_\n",
    "\n",
    "importances"
   ]
  },
  {
   "cell_type": "code",
   "execution_count": 44,
   "metadata": {},
   "outputs": [
    {
     "data": {
      "text/plain": [
       "array([ 25,  16,   7,   3,   1,  17,  20,  12,  22,  11,  21,   8,  18,\n",
       "         4,   5,   6,  13,  34,  14,  24,  15,   0,  19,  32,  53,  49,\n",
       "        23,  36,  42,  31,  38,  39,  27,  10,   9, 108, 110,   2,  47,\n",
       "       103,  84,  41,  80,  64,  33,  40, 115,  37, 118, 105,  94,  78,\n",
       "       114,  43, 113,  96,  72,  67,  79, 112,  77,  26,  29,  85,  66,\n",
       "       106,  50,  55, 117, 109, 111,  52, 119,  30,  98,  35,  44,  90,\n",
       "        51,  87,  73,  60,  54, 104,  68, 116,  28,  81,  69,  62,  58,\n",
       "        57, 102, 107,  95,  56,  65,  88,  97,  75,  48,  99,  46,  91,\n",
       "        70,  76,  89,  74, 101,  45,  71,  83,  92,  82,  93,  86,  63,\n",
       "       100,  61,  59])"
      ]
     },
     "execution_count": 44,
     "metadata": {},
     "output_type": "execute_result"
    }
   ],
   "source": [
    "indices = np.argsort(importances)[::-1]\n",
    "indices"
   ]
  },
  {
   "cell_type": "code",
   "execution_count": 59,
   "metadata": {},
   "outputs": [],
   "source": [
    "indices = indices.reshape(1,120)"
   ]
  },
  {
   "cell_type": "code",
   "execution_count": null,
   "metadata": {},
   "outputs": [],
   "source": []
  },
  {
   "cell_type": "code",
   "execution_count": null,
   "metadata": {},
   "outputs": [],
   "source": []
  },
  {
   "cell_type": "code",
   "execution_count": 60,
   "metadata": {},
   "outputs": [],
   "source": [
    "important_words = svd.inverse_transform(np.array(indices))"
   ]
  },
  {
   "cell_type": "code",
   "execution_count": 61,
   "metadata": {},
   "outputs": [
    {
     "data": {
      "text/plain": [
       "(1, 141232)"
      ]
     },
     "execution_count": 61,
     "metadata": {},
     "output_type": "execute_result"
    }
   ],
   "source": [
    "important_words.shape"
   ]
  },
  {
   "cell_type": "code",
   "execution_count": 62,
   "metadata": {},
   "outputs": [
    {
     "data": {
      "text/plain": [
       "array([[ 11683,   5981,  79778, ...,  18168, 118618, 110278]])"
      ]
     },
     "execution_count": 62,
     "metadata": {},
     "output_type": "execute_result"
    }
   ],
   "source": [
    "iw_ind = np.argsort(important_words)[::-1]\n",
    "iw_ind"
   ]
  },
  {
   "cell_type": "code",
   "execution_count": 63,
   "metadata": {
    "collapsed": true
   },
   "outputs": [
    {
     "name": "stdout",
     "output_type": "stream",
     "text": [
      "better\n",
      "area\n",
      "much\n",
      "even\n",
      "come\n",
      "delicious\n",
      "fresh\n",
      "quality\n",
      "atmosphere\n",
      "friendly\n",
      "sauce\n",
      "went\n",
      "buffet\n",
      "taste\n",
      "mexican\n",
      "though\n",
      "back\n",
      "wait\n",
      "restaurant\n",
      "meat\n",
      "take\n",
      "staff\n",
      "soup\n",
      "say\n",
      "fish\n",
      "awesome\n",
      "still\n",
      "beef\n",
      "eat\n",
      "made\n",
      "every\n",
      "pretty\n",
      "little\n",
      "dish\n",
      "new\n",
      "think\n",
      "table\n",
      "must\n",
      "one\n",
      "service\n",
      "tacos\n",
      "last\n",
      "drinks\n",
      "beans\n",
      "times\n",
      "restaurants\n",
      "order\n",
      "tea\n",
      "ingredients\n",
      "week\n",
      "sour\n",
      "vegan\n",
      "bar\n",
      "used\n",
      "cream\n",
      "chinese\n",
      "guacamole\n",
      "thai\n",
      "high\n",
      "phoenix\n",
      "sweet\n",
      "friends\n",
      "chipotle\n",
      "tasted\n",
      "steak\n",
      "ice\n",
      "something\n",
      "waiter\n",
      "bland\n",
      "family\n",
      "margaritas\n",
      "dinner\n",
      "attentive\n",
      "always\n",
      "average\n",
      "day\n",
      "enjoyed\n",
      "thing\n",
      "margarita\n",
      "tasty\n",
      "fun\n",
      "drink\n",
      "going\n",
      "enchiladas\n",
      "pork\n",
      "cooked\n",
      "hot\n",
      "dry\n",
      "pasta\n",
      "visit\n",
      "dessert\n",
      "places\n",
      "highly\n",
      "burrito\n",
      "year\n",
      "friend\n",
      "flavor\n",
      "bartender\n",
      "maybe\n",
      "years\n",
      "black\n"
     ]
    }
   ],
   "source": [
    "stop = 100\n",
    "cnt = 0\n",
    "for ind in iw_ind[0]:\n",
    "    print(ftrs[ind])\n",
    "    if cnt == stop:\n",
    "         break\n",
    "    cnt += 1"
   ]
  },
  {
   "cell_type": "code",
   "execution_count": 53,
   "metadata": {},
   "outputs": [],
   "source": [
    "y_score = RF_model.predict_proba(X_test_term_svd)[:,1]"
   ]
  },
  {
   "cell_type": "code",
   "execution_count": 54,
   "metadata": {},
   "outputs": [
    {
     "data": {
      "text/plain": [
       "array([0.1525 , 0.24625, 0.17   , 0.71875, 0.115  , 0.0925 , 0.18875,\n",
       "       0.22875, 0.21375, 0.27875])"
      ]
     },
     "execution_count": 54,
     "metadata": {},
     "output_type": "execute_result"
    }
   ],
   "source": [
    "y_score[:10]"
   ]
  },
  {
   "cell_type": "code",
   "execution_count": 55,
   "metadata": {},
   "outputs": [],
   "source": [
    "fpr, tpr, thresholds = roc_curve(y_test, y_score, pos_label=1)"
   ]
  },
  {
   "cell_type": "code",
   "execution_count": 58,
   "metadata": {},
   "outputs": [
    {
     "name": "stdout",
     "output_type": "stream",
     "text": [
      "AUC score: 0.8968468007748743\n"
     ]
    },
    {
     "data": {
      "image/png": "[encoded data removed]",
      "text/plain": [
       "<Figure size 864x720 with 1 Axes>"
      ]
     },
     "metadata": {},
     "output_type": "display_data"
    }
   ],
   "source": [
    "plt.figure(figsize=(12,10))\n",
    "plt.plot(fpr, tpr, 'o--')\n",
    "plt.ylabel(\"True Positive Rate\",  fontsize=14)\n",
    "plt.xlabel(\"False Positive Rate\", fontsize=14);\n",
    "print(\"AUC score:\", roc_auc_score(y_test, y_score))"
   ]
  },
  {
   "cell_type": "code",
   "execution_count": null,
   "metadata": {},
   "outputs": [],
   "source": []
  },
  {
   "cell_type": "markdown",
   "metadata": {},
   "source": [
    "---\n",
    "\n",
    "#### Pickle models"
   ]
  },
  {
   "cell_type": "code",
   "execution_count": 64,
   "metadata": {},
   "outputs": [],
   "source": [
    "import pickle"
   ]
  },
  {
   "cell_type": "code",
   "execution_count": 1,
   "metadata": {},
   "outputs": [
    {
     "ename": "NameError",
     "evalue": "name 'pickle' is not defined",
     "output_type": "error",
     "traceback": [
      "\u001b[0;31m---------------------------------------------------------------------------\u001b[0m",
      "\u001b[0;31mNameError\u001b[0m                                 Traceback (most recent call last)",
      "\u001b[0;32m<ipython-input-1-dd353173e3ed>\u001b[0m in \u001b[0;36m<module>\u001b[0;34m()\u001b[0m\n\u001b[0;32m----> 1\u001b[0;31m \u001b[0mpickle\u001b[0m\u001b[0;34m.\u001b[0m\u001b[0mdump\u001b[0m\u001b[0;34m(\u001b[0m\u001b[0mvectorizer\u001b[0m\u001b[0;34m,\u001b[0m \u001b[0mopen\u001b[0m\u001b[0;34m(\u001b[0m\u001b[0;34m'pkl_tfidf_stpWds.p'\u001b[0m\u001b[0;34m,\u001b[0m\u001b[0;34m'wb'\u001b[0m\u001b[0;34m)\u001b[0m\u001b[0;34m)\u001b[0m\u001b[0;34m\u001b[0m\u001b[0m\n\u001b[0m\u001b[1;32m      2\u001b[0m \u001b[0mpickle\u001b[0m\u001b[0;34m.\u001b[0m\u001b[0mdump\u001b[0m\u001b[0;34m(\u001b[0m\u001b[0msvd\u001b[0m\u001b[0;34m,\u001b[0m \u001b[0mopen\u001b[0m\u001b[0;34m(\u001b[0m\u001b[0;34m'pkl_svd_120_comp.p'\u001b[0m\u001b[0;34m,\u001b[0m\u001b[0;34m'wb'\u001b[0m\u001b[0;34m)\u001b[0m\u001b[0;34m)\u001b[0m\u001b[0;34m\u001b[0m\u001b[0m\n\u001b[1;32m      3\u001b[0m \u001b[0mpickle\u001b[0m\u001b[0;34m.\u001b[0m\u001b[0mdump\u001b[0m\u001b[0;34m(\u001b[0m\u001b[0mRF_model\u001b[0m\u001b[0;34m,\u001b[0m \u001b[0mopen\u001b[0m\u001b[0;34m(\u001b[0m\u001b[0;34m'pkl_rf_800_trees.p'\u001b[0m\u001b[0;34m,\u001b[0m\u001b[0;34m'wb'\u001b[0m\u001b[0;34m)\u001b[0m\u001b[0;34m)\u001b[0m\u001b[0;34m\u001b[0m\u001b[0m\n",
      "\u001b[0;31mNameError\u001b[0m: name 'pickle' is not defined"
     ]
    }
   ],
   "source": [
    "pickle.dump(vectorizer, open('pkl_tfidf_stpWds.p','wb'))\n",
    "pickle.dump(svd, open('pkl_svd_120_comp.p','wb'))\n",
    "pickle.dump(RF_model, open('pkl_rf_800_trees.p','wb'))"
   ]
  },
  {
   "cell_type": "code",
   "execution_count": null,
   "metadata": {},
   "outputs": [],
   "source": []
  },
  {
   "cell_type": "code",
   "execution_count": null,
   "metadata": {},
   "outputs": [],
   "source": [
    "std = np.std([tree.feature_importances_ for tree in forest.estimators_],\n",
    "             axis=0)\n",
    "\n",
    "indices = np.argsort(importances)[::-1]\n",
    "\n",
    "# Print the feature ranking\n",
    "print(\"Feature ranking:\")\n",
    "\n",
    "for f in range(X.shape[1]):\n",
    "    print(\"%d. feature %d (%f)\" % (f + 1, indices[f], importances[indices[f]]))\n",
    "\n",
    "# Plot the feature importances of the forest\n",
    "plt.figure()\n",
    "plt.title(\"Feature importances\")\n",
    "plt.bar(range(X.shape[1]), importances[indices],\n",
    "       color=\"r\", yerr=std[indices], align=\"center\")\n",
    "plt.xticks(range(X.shape[1]), indices)\n",
    "plt.xlim([-1, X.shape[1]])\n",
    "plt.show()"
   ]
  },
  {
   "cell_type": "code",
   "execution_count": null,
   "metadata": {},
   "outputs": [],
   "source": []
  },
  {
   "cell_type": "code",
   "execution_count": null,
   "metadata": {},
   "outputs": [],
   "source": []
  },
  {
   "cell_type": "code",
   "execution_count": null,
   "metadata": {},
   "outputs": [],
   "source": []
  },
  {
   "cell_type": "code",
   "execution_count": null,
   "metadata": {},
   "outputs": [],
   "source": []
  },
  {
   "cell_type": "code",
   "execution_count": null,
   "metadata": {},
   "outputs": [],
   "source": []
  },
  {
   "cell_type": "code",
   "execution_count": 41,
   "metadata": {},
   "outputs": [],
   "source": [
    "import itertools \n",
    "def plot_confusion_matrix(cm, classes, normalize=False, title='Confusion matrix', cmap=plt.cm.Blues):\n",
    "    \"\"\"\n",
    "        This function prints and plots the confusion matrix.\n",
    "        Normalization can be applied by setting `normalize=True`.\n",
    "    \"\"\"\n",
    "    \n",
    "    if normalize:\n",
    "        cm = cm.astype('float') / cm.sum(axis=1)[:, np.newaxis]\n",
    "        print(\"Normalized confusion matrix\")\n",
    "    else:\n",
    "        print('Confusion matrix, without normalization')\n",
    "\n",
    "#     print(cm)\n",
    "\n",
    "    plt.imshow(cm, interpolation='nearest', cmap=cmap)\n",
    "    plt.title(title)\n",
    "    plt.colorbar()\n",
    "    tick_marks = np.arange(len(classes))\n",
    "    plt.xticks(tick_marks, classes, rotation=45)\n",
    "    plt.yticks(tick_marks, classes)\n",
    "\n",
    "    fmt = '.2f' if normalize else 'd'\n",
    "    thresh = cm.max() / 2.\n",
    "    for i, j in itertools.product(range(cm.shape[0]), range(cm.shape[1])):\n",
    "        plt.text(j, i, format(cm[i, j], fmt), horizontalalignment=\"center\",\n",
    "                 color=\"white\" if cm[i, j] > thresh else \"black\")\n",
    "        \n",
    "    plt.tight_layout()\n",
    "    plt.ylabel('True label')\n",
    "    plt.xlabel('Predicted label')"
   ]
  },
  {
   "cell_type": "code",
   "execution_count": null,
   "metadata": {},
   "outputs": [],
   "source": []
  }
 ],
 "metadata": {
  "kernelspec": {
   "display_name": "Python 3",
   "language": "python",
   "name": "python3"
  },
  "language_info": {
   "codemirror_mode": {
    "name": "ipython",
    "version": 3
   },
   "file_extension": ".py",
   "mimetype": "text/x-python",
   "name": "python",
   "nbconvert_exporter": "python",
   "pygments_lexer": "ipython3",
   "version": "3.6.4"
  }
 },
 "nbformat": 4,
 "nbformat_minor": 2
}
