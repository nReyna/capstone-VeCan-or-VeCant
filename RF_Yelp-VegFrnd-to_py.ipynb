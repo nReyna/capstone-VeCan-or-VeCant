{
 "cells": [
  {
   "cell_type": "markdown",
   "metadata": {},
   "source": [
    "#### Aug. 9, 2018 1pm"
   ]
  },
  {
   "cell_type": "markdown",
   "metadata": {},
   "source": [
    "---\n",
    "\n",
    "#### Function Definitions"
   ]
  },
  {
   "cell_type": "code",
   "execution_count": 1,
   "metadata": {},
   "outputs": [],
   "source": [
    "def time_Now():\n",
    "    import datetime\n",
    "    import pytz\n",
    "    utc_now = pytz.utc.localize(datetime.datetime.utcnow())\n",
    "    pst_now = utc_now.astimezone(pytz.timezone(\"America/Los_Angeles\"))\n",
    "    return (pst_now)"
   ]
  },
  {
   "cell_type": "code",
   "execution_count": 25,
   "metadata": {},
   "outputs": [],
   "source": [
    "import itertools \n",
    "import matplotlib.pyplot as plt\n",
    "%matplotlib inline\n",
    "\n",
    "def plot_confusion_matrix(cm, classes, normalize=False, title='Confusion matrix', cmap=plt.cm.Blues):\n",
    "    \"\"\"\n",
    "        This function prints and plots the confusion matrix.\n",
    "        Normalization can be applied by setting `normalize=True`.\n",
    "    \"\"\"\n",
    "    \n",
    "    if normalize:\n",
    "        cm = cm.astype('float') / cm.sum(axis=1)[:, np.newaxis]\n",
    "        print(\"Normalized confusion matrix\")\n",
    "    else:\n",
    "        print('Confusion matrix, without normalization')\n",
    "\n",
    "    plt.imshow(cm, interpolation='nearest', cmap=cmap)\n",
    "    plt.title(title)\n",
    "#     plt.colorbar()\n",
    "    tick_marks = np.arange(len(classes))\n",
    "    plt.xticks(tick_marks, classes, rotation=45)\n",
    "    plt.yticks(tick_marks, classes)\n",
    "\n",
    "    fmt = '.2f' if normalize else 'd'\n",
    "    thresh = cm.max() / 2.\n",
    "    for i, j in itertools.product(range(cm.shape[0]), range(cm.shape[1])):\n",
    "        plt.text(j, i, format(cm[i, j], fmt), horizontalalignment=\"center\",\n",
    "                 color=\"white\" if cm[i, j] > thresh else \"black\")\n",
    "        \n",
    "    plt.tight_layout()\n",
    "    plt.ylabel('True label',  fontsize=14)\n",
    "    plt.xlabel('Predicted label',  fontsize=14)"
   ]
  },
  {
   "cell_type": "code",
   "execution_count": 2,
   "metadata": {},
   "outputs": [],
   "source": [
    "def plot_model_ROC(model, X_df, y_true, figTitle=None, printMetrics=False, figName=None):\n",
    "    '''\n",
    "        Function will plot the Model's ROC curve with several options:\n",
    "        - alter the fig TITLE\n",
    "        - APPEND model metrics to the figure\n",
    "        - SAVE figure as a *.png and a*.pdf file\n",
    "        \n",
    "        Function will execute with only 3 of the 6 parameters\n",
    "        - sklearn model that can give a predict_proba\n",
    "        - X_df to apply the predict_proba\n",
    "        - y_true the true values to compute TPR and FPR (T/F positive rates)\n",
    "    '''\n",
    "    \n",
    "    pred = model.predict(X_df)\n",
    "    y_score = model.predict_proba(X_df)[:,1]\n",
    "\n",
    "    fpr, tpr, thresholds = roc_curve(y_true, y_score, pos_label=1)\n",
    "\n",
    "    plt.figure(figsize=(12,10))\n",
    "    plt.plot(fpr, tpr, 'o--')\n",
    "    plt.plot(np.linspace(0,1), np.linspace(0,1), 'k--')\n",
    "    plt.ylabel(\"True Positive Rate\",  fontsize=14)\n",
    "    plt.xlabel(\"False Positive Rate\", fontsize=14);\n",
    "    plt.text(.6, .1, \"AUC score: {0:.4f}\".format( roc_auc_score(y_test, y_score) ), fontsize=14);\n",
    "    \n",
    "    if figTitle:\n",
    "        plt.title(figTitle)\n",
    "    else:\n",
    "        plt.title(str(model))\n",
    "        \n",
    "    if printMetrics:\n",
    "        plt.text(.6, .15, \"Accuracy score: {0:.4f}\".format( accuracy_score(y_true, pred) ), fontsize=14);\n",
    "        plt.text(.6, .2, \"Precision score: {0:.4f}\".format( precision_score(y_true, pred) ), fontsize=14);\n",
    "        plt.text(.6, .25, \"Recall score: {0:.4f}\".format( recall_score(y_true, pred) ), fontsize=14);\n",
    "        plt.text(.6, .3, \"F1 score: {0:.4f}\".format( f1_score(y_true, pred) ), fontsize=14);\n",
    "\n",
    "    if figName:\n",
    "        print(\"saving...\" + figName)\n",
    "        plt.gcf()\n",
    "        plt.savefig(figName + '.png')\n",
    "        plt.savefig(figName + '.pdf')"
   ]
  },
  {
   "cell_type": "code",
   "execution_count": null,
   "metadata": {},
   "outputs": [],
   "source": [
    "def plot_RF_model_ROC(model, X_df, y_true):\n",
    "    \n",
    "    y_score = model.predict_proba(X_df)[:,1]\n",
    "\n",
    "    fpr, tpr, thresholds = roc_curve(y_true, y_score, pos_label=1)\n",
    "\n",
    "    plt.figure(figsize=(12,10))\n",
    "    plt.plot(fpr, tpr, 'o--')\n",
    "    plt.plot(np.linspace(0,1), np.linspace(0,1), 'k--')\n",
    "    plt.ylabel(\"True Positive Rate\",  fontsize=14)\n",
    "    plt.xlabel(\"False Positive Rate\", fontsize=14);\n",
    "    plt.text(.6, .1, \"AUC score: {0:.4f}\".format( roc_auc_score(y_test, y_score) ), fontsize=14);"
   ]
  },
  {
   "cell_type": "code",
   "execution_count": 3,
   "metadata": {},
   "outputs": [],
   "source": [
    "def RF_top_words(RF_model, stop = 50):\n",
    "\n",
    "    importances = RF_model.feature_importances_\n",
    "    indices = np.argsort(importances)[::-1]\n",
    "    indices = indices.reshape(1,n_comps)\n",
    "    \n",
    "    important_words = svd.inverse_transform(np.array(indices))\n",
    "\n",
    "    iw_ind = np.argsort(important_words)[::-1]\n",
    "\n",
    "    inds = iw_ind[:,:stop].reshape(stop)\n",
    "    print( np.array(ftrs)[iw_ind[:,:stop].reshape(stop)] )"
   ]
  },
  {
   "cell_type": "code",
   "execution_count": 31,
   "metadata": {},
   "outputs": [],
   "source": [
    "def RF_feature_importance(forest, X, importances):\n",
    "    std = np.std([tree.feature_importances_ for tree in forest.estimators_], axis=0)\n",
    "\n",
    "    indices = np.argsort(importances)[::-1]\n",
    "\n",
    "    # Print the feature ranking\n",
    "    print(\"Feature ranking:\")\n",
    "\n",
    "    for f in range(X.shape[1]):\n",
    "        print(\"%d. feature %d (%f)\" % (f + 1, indices[f], importances[indices[f]]))\n",
    "\n",
    "    # Plot the feature importances of the forest\n",
    "    plt.figure(figsize=(12,10))\n",
    "    plt.title(\"Feature importances\")\n",
    "    plt.bar(range(X.shape[1]), importances[indices], color=\"r\", yerr=std[indices], align=\"center\")\n",
    "    plt.xticks(range(X.shape[1]), indices)\n",
    "    plt.xlim([-1, X.shape[1]])"
   ]
  },
  {
   "cell_type": "markdown",
   "metadata": {},
   "source": [
    "---\n",
    "### Modified: "
   ]
  },
  {
   "cell_type": "code",
   "execution_count": 4,
   "metadata": {},
   "outputs": [
    {
     "name": "stdout",
     "output_type": "stream",
     "text": [
      "Last modified on:  2018-08-13 11:54:10.082014-07:00\n"
     ]
    }
   ],
   "source": [
    "print(\"Last modified on: \", time_Now())"
   ]
  },
  {
   "cell_type": "markdown",
   "metadata": {},
   "source": [
    "---"
   ]
  },
  {
   "cell_type": "code",
   "execution_count": 5,
   "metadata": {},
   "outputs": [],
   "source": [
    "import numpy   as np\n",
    "import pandas  as pd\n",
    "import matplotlib.pyplot as plt\n",
    "%matplotlib inline\n",
    "\n",
    "from sklearn.model_selection import train_test_split\n",
    "from sklearn.feature_extraction.text import CountVectorizer\n",
    "from sklearn.preprocessing   import scale, StandardScaler\n",
    "from sklearn.decomposition   import PCA, TruncatedSVD\n",
    "\n",
    "import re\n",
    "import pickle\n",
    "from nltk.corpus import stopwords\n",
    "\n",
    "# -- -- -- -- -- -- -- -- -- -- -- -- -- -- -- -- -- -- -- -- -- -- -- -- -- -- -- -- -- --"
   ]
  },
  {
   "cell_type": "code",
   "execution_count": 6,
   "metadata": {},
   "outputs": [
    {
     "name": "stdout",
     "output_type": "stream",
     "text": [
      "CPU times: user 18.3 s, sys: 784 ms, total: 19.1 s\n",
      "Wall time: 19.1 s\n"
     ]
    }
   ],
   "source": [
    "%%time\n",
    "\n",
    "df = pd.read_pickle(\"newRev_VegCols_US.pkl\")\n",
    "\n",
    "X_df = df.drop(['vegFriendly', 'Vegan', 'Vegetarian'], axis=1)\n",
    "y_df = df['vegFriendly']\n",
    "\n",
    "X_df.iloc[:, 5] = X_df['text'].apply( lambda rev: re.sub(r'(\\d+)', '', rev) )\n",
    "X_df.iloc[:, 5] = X_df['text'].apply( lambda rev: rev.replace('_', '') )\n",
    "\n",
    "X_train, X_test, y_train, y_test = train_test_split(X_df, y_df, test_size=0.3, random_state=26)\n",
    "\n",
    "# -- -- -- -- -- -- -- -- -- -- -- -- -- -- -- -- -- -- -- -- -- -- -- -- -- -- -- -- -- --"
   ]
  },
  {
   "cell_type": "code",
   "execution_count": 7,
   "metadata": {},
   "outputs": [
    {
     "name": "stdout",
     "output_type": "stream",
     "text": [
      "CPU times: user 0 ns, sys: 0 ns, total: 0 ns\n",
      "Wall time: 1.7 ms\n"
     ]
    }
   ],
   "source": [
    "%%time\n",
    "\n",
    "stopWords = list(stopwords.words('english'))\n",
    "stopWords.extend(['good', 'excellent', 'best', 'like', 'place', 'really', 'ordered', 'amazing', 'fantastic', 'am', 'pm'])\n",
    "# 189\n",
    "stopWords.extend(['aa', 'aaa', 'aaaa', 'aaaaa', 'aaaaaa', 'aaaaaaaaaaaaaaaaaaaaaaaaaauuuuuuuuuuuuuuuuggggggggggggggggggg', 'aaaaaaah'])\n",
    "stopWords.extend(['aaaaaaamazing', 'aaaaaaand', 'aaaaaamazing', 'aaaaahhhh', 'aaaaahhhhhhmazing', 'aaaaahhhhmaaazeballs', 'aaaaamazing', 'aaaaand'])\n",
    "stopWords.extend(['aaaack', 'aaaamazing', 'aaaammmazziiigggg', 'aaaand', 'aaaarrgh', 'aaah', 'aaahh'])\n",
    "stopWords.extend(['aaahhhh', 'aaahhhhh', 'aaahhhhmmmaaazzziiiinnnnggg'])\n",
    "stopWords.extend(['aaammaziiiing', 'aaand', 'aab', 'aaboud', 'aac', 'aachi', 'aadd', 'aaggh', 'aagh', 'aah', 'aahan', 'aahc', 'aahhh'])\n",
    "stopWords.extend(['aahhhh', 'aahhhhhh', 'aahhhhhhmazing', 'aahhhhhmazing', 'aahhhhmazing', 'aahing', 'aahran'])\n",
    "# 234\n",
    "stopWords.extend(['aaaaaaaaaa', 'aaaaaaaaaaaaaand', 'aaaaaaaaaaaaaauthentic', 'aaaaaaaaaaaaaawwwwwwwwwwwwwwwwwwwwww', 'aaaaaaaaaaack', 'aaaaaaaaaaah', 'aaaaaaaaaand', 'aaaaaaaaargh', 'aaaaaaaack', 'aaaaaaaahhhhhhhhh', 'aaaaaaaamazing', 'aaaaaaaand', 'aaaaaaall', 'aaaaaaamaaaaazing', 'aaaaaaammmmazing', 'aaaaaahhhh', 'aaaaaahhhhh', 'aaaaaahhhhhmazing', 'aaaaaand', 'aaaaaannnddd', 'aaaaaannnndddd', 'aaaaagh', 'aaaaah', 'aaaaahhhhmazing', 'aaaaamaaazing', 'aaaaammmaazzzinnngg', 'aaaaarrrggghh', 'aaaaawful', 'aaaaay', 'aaaagh', 'aaaah', 'aaaahh', 'aaaahhh', 'aaaahhhh', 'aaaahhhhhhh', 'aaaahmazzzing', 'aaaajúa', 'aaaall', 'aaaalllllllll', 'aaaallright', 'aaaammaaazzinnnggg', 'aaaammazzing', 'aaaammmaaaaazzzziiiinnnngggg', 'aaaammmaaazing', 'aaaammmmmmazing', 'aaaamzing', 'aaaandd', 'aaaanddd', 'aaaannnd', 'aaaannnnd', 'aaaanyway', 'aaaawesoooome', 'aaaawwwesome', 'aaaawwwww', 'aaagggrrrrrrrhhhhh', 'aaahahaa', 'aaahhh', 'aaahhhhhhh', 'aaahhhs', 'aaahing', 'aaahmaaaazing', 'aaahmazing', 'aaahs', 'aaaiiiiight', 'aaall', 'aaallll', 'aaalways', 'aaamaazing', 'aaamazing', 'aaammaaazzziinnnngggg', 'aaammazing', 'aaammmazing', 'aaammmazinggggg', 'aaammmmaaazzziinnggg', 'aaannd', 'aaanndd', 'aaannndd', 'aaannnnd', 'aaanyway', 'aaare', 'aaawwee', 'aaawww', 'aaawwwwsome', 'aaay', 'aacross', 'aadbcc', 'aadorbsssssss', 'aagain', 'aahaan', 'aahed', 'aahh', 'aahs', 'aaid', 'aaiight', 'aaiiight', 'aaim', 'aaka', 'aaked', 'aaliyah', 'aall'])\n",
    "stopWords.extend(['aaaaaaaaaaaaahhhhhhh', 'aaaaaaaaaah', 'aaaaaaaahhhhmazing', 'aaaaaaaawesooooooooooooome', 'aaaaaaggghhh', 'aaaaaah', 'aaaaaawesome', 'aaaaahhh', 'aaaaahhhhhh', 'aaaahhhhhhs', 'aaaajua', 'aaaalmost', 'aaaamazzzzing', 'aaaammaaazzziiingggg', 'aaaarreeeee', 'aaagh', 'aaahed', 'aaahhhmaaaazing', 'aaahhhmazing', 'aaammaazzing', 'aaarghhh', 'aahaha', 'aahhhhhaaaahhhhh'])\n",
    "# 357 "
   ]
  },
  {
   "cell_type": "code",
   "execution_count": 8,
   "metadata": {},
   "outputs": [
    {
     "name": "stdout",
     "output_type": "stream",
     "text": [
      "CPU times: user 44.4 s, sys: 408 ms, total: 44.9 s\n",
      "Wall time: 44.9 s\n"
     ]
    }
   ],
   "source": [
    "%%time\n",
    "vectorizer = CountVectorizer(stop_words=stopWords, strip_accents = 'ascii' )\n",
    "\n",
    "# -- -- -- -- -- -- -- -- -- -- -- -- -- -- -- -- -- -- -- -- -- -- -- -- -- -- -- -- -- --\n",
    "\n",
    "X_train_term  = vectorizer.fit_transform(X_train['text'])\n",
    "\n",
    "pickle.dump(vectorizer, open('pkl_tfidf_stpWds_120_1000.p','wb'))"
   ]
  },
  {
   "cell_type": "code",
   "execution_count": 9,
   "metadata": {},
   "outputs": [],
   "source": [
    "ftrs = vectorizer.get_feature_names()\n",
    "\n",
    "# -- -- -- -- -- -- -- -- -- -- -- -- -- -- -- -- -- -- -- -- -- -- -- -- -- -- -- -- -- --"
   ]
  },
  {
   "cell_type": "code",
   "execution_count": 10,
   "metadata": {},
   "outputs": [
    {
     "name": "stdout",
     "output_type": "stream",
     "text": [
      "CPU times: user 2min 11s, sys: 9.76 s, total: 2min 20s\n",
      "Wall time: 1min 33s\n"
     ]
    }
   ],
   "source": [
    "%%time\n",
    "n_comps = 120\n",
    "svd = TruncatedSVD(n_components = n_comps, n_iter=7)\n",
    "\n",
    "svd_transf = svd.fit(X_train_term)\n",
    "\n",
    "pickle.dump(svd_transf, open('pkl_svd_120_comp.p','wb'))\n",
    "\n",
    "X_train_term_svd = svd_transf.transform( X_train_term )"
   ]
  },
  {
   "cell_type": "code",
   "execution_count": 11,
   "metadata": {},
   "outputs": [
    {
     "name": "stdout",
     "output_type": "stream",
     "text": [
      "CPU times: user 4h 25min 26s, sys: 5.41 s, total: 4h 25min 31s\n",
      "Wall time: 33min 22s\n"
     ]
    }
   ],
   "source": [
    "%%time\n",
    "from sklearn.ensemble import RandomForestClassifier\n",
    "\n",
    "n_trees = 1000\n",
    "RF_model = RandomForestClassifier(n_jobs=-1, n_estimators = n_trees)\n",
    "\n",
    "RF_model.fit(X_train_term_svd, y_train)\n",
    "\n",
    "# pickle.dump(RF_model, open('pkl_rf_1000_trees.p','wb'))"
   ]
  },
  {
   "cell_type": "markdown",
   "metadata": {},
   "source": [
    "---\n",
    "#### Load Pickled Models"
   ]
  },
  {
   "cell_type": "code",
   "execution_count": 12,
   "metadata": {},
   "outputs": [],
   "source": [
    "# import pickle\n",
    "# m_term120_800 = pickle.load(open('pkl_tfidf_stpWds.p','rb'))\n",
    "\n",
    "# m_svd_120 = pickle.load(open('pkl_svd_120_comp.p','rb'))\n",
    "\n",
    "# len(m_term120_800.get_stop_words())\n",
    "\n",
    "# %%time\n",
    "# X_train_term_svd = m_svd_120.transform( X_train_term )"
   ]
  },
  {
   "cell_type": "markdown",
   "metadata": {},
   "source": [
    "---\n",
    "\n",
    "#### Random Forest - Test"
   ]
  },
  {
   "cell_type": "code",
   "execution_count": 13,
   "metadata": {},
   "outputs": [
    {
     "name": "stdout",
     "output_type": "stream",
     "text": [
      "CPU times: user 19.6 s, sys: 64 ms, total: 19.7 s\n",
      "Wall time: 19.7 s\n"
     ]
    }
   ],
   "source": [
    "%%time\n",
    "X_test_term = vectorizer.transform(X_test['text'])"
   ]
  },
  {
   "cell_type": "code",
   "execution_count": 14,
   "metadata": {},
   "outputs": [
    {
     "data": {
      "text/plain": [
       "(276901, 137777)"
      ]
     },
     "execution_count": 14,
     "metadata": {},
     "output_type": "execute_result"
    }
   ],
   "source": [
    "X_test_term.shape"
   ]
  },
  {
   "cell_type": "code",
   "execution_count": 15,
   "metadata": {},
   "outputs": [
    {
     "name": "stdout",
     "output_type": "stream",
     "text": [
      "CPU times: user 1.26 s, sys: 92 ms, total: 1.36 s\n",
      "Wall time: 1.35 s\n"
     ]
    }
   ],
   "source": [
    "%%time\n",
    "X_test_term_svd = svd_transf.transform(X_test_term)"
   ]
  },
  {
   "cell_type": "code",
   "execution_count": 16,
   "metadata": {},
   "outputs": [
    {
     "data": {
      "text/plain": [
       "(276901, 120)"
      ]
     },
     "execution_count": 16,
     "metadata": {},
     "output_type": "execute_result"
    }
   ],
   "source": [
    "X_test_term_svd.shape"
   ]
  },
  {
   "cell_type": "code",
   "execution_count": 17,
   "metadata": {},
   "outputs": [
    {
     "name": "stdout",
     "output_type": "stream",
     "text": [
      "CPU times: user 2min 34s, sys: 128 ms, total: 2min 34s\n",
      "Wall time: 19.5 s\n"
     ]
    }
   ],
   "source": [
    "%%time\n",
    "pred = RF_model.predict(X_test_term_svd)"
   ]
  },
  {
   "cell_type": "code",
   "execution_count": 18,
   "metadata": {},
   "outputs": [],
   "source": [
    "from sklearn.metrics import accuracy_score, precision_score, recall_score, f1_score\n",
    "from sklearn.metrics import confusion_matrix, classification_report, roc_auc_score, roc_curve"
   ]
  },
  {
   "cell_type": "code",
   "execution_count": 19,
   "metadata": {},
   "outputs": [
    {
     "data": {
      "text/plain": [
       "0.9075301280963233"
      ]
     },
     "execution_count": 19,
     "metadata": {},
     "output_type": "execute_result"
    }
   ],
   "source": [
    "accuracy_score(y_test, pred)"
   ]
  },
  {
   "cell_type": "code",
   "execution_count": 20,
   "metadata": {},
   "outputs": [
    {
     "data": {
      "text/plain": [
       "0.9870519797335335"
      ]
     },
     "execution_count": 20,
     "metadata": {},
     "output_type": "execute_result"
    }
   ],
   "source": [
    "precision_score(y_test, pred)"
   ]
  },
  {
   "cell_type": "code",
   "execution_count": 21,
   "metadata": {},
   "outputs": [
    {
     "data": {
      "text/plain": [
       "0.5561135486599355"
      ]
     },
     "execution_count": 21,
     "metadata": {},
     "output_type": "execute_result"
    }
   ],
   "source": [
    "recall_score(y_test, pred)"
   ]
  },
  {
   "cell_type": "code",
   "execution_count": 22,
   "metadata": {},
   "outputs": [
    {
     "data": {
      "text/plain": [
       "0.711411665257819"
      ]
     },
     "execution_count": 22,
     "metadata": {},
     "output_type": "execute_result"
    }
   ],
   "source": [
    "f1_score(y_test, pred)"
   ]
  },
  {
   "cell_type": "code",
   "execution_count": 23,
   "metadata": {},
   "outputs": [
    {
     "name": "stdout",
     "output_type": "stream",
     "text": [
      "             precision    recall  f1-score   support\n",
      "\n",
      "        0.0       0.90      1.00      0.94    220150\n",
      "        1.0       0.99      0.56      0.71     56751\n",
      "\n",
      "avg / total       0.92      0.91      0.90    276901\n",
      "\n"
     ]
    }
   ],
   "source": [
    "print(classification_report(y_test, pred))"
   ]
  },
  {
   "cell_type": "code",
   "execution_count": 26,
   "metadata": {},
   "outputs": [
    {
     "name": "stdout",
     "output_type": "stream",
     "text": [
      "Confusion matrix, without normalization\n"
     ]
    },
    {
     "data": {
      "image/png": "[encoded data removed]",
      "text/plain": [
       "<Figure size 432x288 with 1 Axes>"
      ]
     },
     "metadata": {},
     "output_type": "display_data"
    }
   ],
   "source": [
    "cm = confusion_matrix(y_test, pred)\n",
    "\n",
    "lbls = ['Non-vegFriendly', 'vegFriendly',]\n",
    "\n",
    "plot_confusion_matrix(cm, lbls, False)"
   ]
  },
  {
   "cell_type": "markdown",
   "metadata": {},
   "source": [
    "---\n",
    "\n",
    "#### Plot RF ROC curve"
   ]
  },
  {
   "cell_type": "code",
   "execution_count": 29,
   "metadata": {},
   "outputs": [
    {
     "name": "stdout",
     "output_type": "stream",
     "text": [
      "saving...RF_357StWds_full_countV_SVD\n"
     ]
    },
    {
     "data": {
      "image/png": "[encoded data removed]",
      "text/plain": [
       "<Figure size 864x720 with 1 Axes>"
      ]
     },
     "metadata": {},
     "output_type": "display_data"
    }
   ],
   "source": [
    "fTitle = 'RandomForest with ~350 StopWords (Full)'\n",
    "mMetrics = True\n",
    "fName = 'RF_357StWds_full_countV_SVD'\n",
    "plot_model_ROC(RF_model, X_test_term_svd, y_test, fTitle, mMetrics, fName)"
   ]
  },
  {
   "cell_type": "code",
   "execution_count": 32,
   "metadata": {},
   "outputs": [
    {
     "name": "stdout",
     "output_type": "stream",
     "text": [
      "Feature ranking:\n",
      "1. feature 41 (0.015749)\n",
      "2. feature 59 (0.015393)\n",
      "3. feature 16 (0.014125)\n",
      "4. feature 42 (0.013958)\n",
      "5. feature 67 (0.013764)\n",
      "6. feature 37 (0.013456)\n",
      "7. feature 2 (0.012065)\n",
      "8. feature 51 (0.011799)\n",
      "9. feature 8 (0.011745)\n",
      "10. feature 40 (0.011589)\n",
      "11. feature 55 (0.011477)\n",
      "12. feature 10 (0.011153)\n",
      "13. feature 0 (0.010681)\n",
      "14. feature 54 (0.010470)\n",
      "15. feature 23 (0.010416)\n",
      "16. feature 7 (0.010252)\n",
      "17. feature 30 (0.010055)\n",
      "18. feature 57 (0.009974)\n",
      "19. feature 18 (0.009534)\n",
      "20. feature 53 (0.009517)\n",
      "21. feature 4 (0.009469)\n",
      "22. feature 9 (0.009390)\n",
      "23. feature 26 (0.009378)\n",
      "24. feature 15 (0.009373)\n",
      "25. feature 29 (0.009321)\n",
      "26. feature 17 (0.009162)\n",
      "27. feature 1 (0.009157)\n",
      "28. feature 49 (0.009132)\n",
      "29. feature 5 (0.009103)\n",
      "30. feature 3 (0.009064)\n",
      "31. feature 33 (0.008976)\n",
      "32. feature 117 (0.008740)\n",
      "33. feature 64 (0.008592)\n",
      "34. feature 50 (0.008589)\n",
      "35. feature 32 (0.008565)\n",
      "36. feature 22 (0.008550)\n",
      "37. feature 68 (0.008357)\n",
      "38. feature 35 (0.008263)\n",
      "39. feature 47 (0.008216)\n",
      "40. feature 61 (0.008189)\n",
      "41. feature 28 (0.008027)\n",
      "42. feature 27 (0.007951)\n",
      "43. feature 12 (0.007881)\n",
      "44. feature 36 (0.007862)\n",
      "45. feature 70 (0.007811)\n",
      "46. feature 25 (0.007795)\n",
      "47. feature 71 (0.007787)\n",
      "48. feature 58 (0.007781)\n",
      "49. feature 44 (0.007754)\n",
      "50. feature 56 (0.007703)\n",
      "51. feature 31 (0.007699)\n",
      "52. feature 99 (0.007685)\n",
      "53. feature 46 (0.007619)\n",
      "54. feature 118 (0.007614)\n",
      "55. feature 104 (0.007601)\n",
      "56. feature 100 (0.007590)\n",
      "57. feature 13 (0.007565)\n",
      "58. feature 6 (0.007548)\n",
      "59. feature 73 (0.007521)\n",
      "60. feature 21 (0.007520)\n",
      "61. feature 45 (0.007516)\n",
      "62. feature 20 (0.007508)\n",
      "63. feature 19 (0.007484)\n",
      "64. feature 24 (0.007480)\n",
      "65. feature 114 (0.007475)\n",
      "66. feature 108 (0.007473)\n",
      "67. feature 102 (0.007442)\n",
      "68. feature 38 (0.007433)\n",
      "69. feature 34 (0.007425)\n",
      "70. feature 48 (0.007413)\n",
      "71. feature 62 (0.007390)\n",
      "72. feature 52 (0.007387)\n",
      "73. feature 76 (0.007383)\n",
      "74. feature 43 (0.007377)\n",
      "75. feature 105 (0.007376)\n",
      "76. feature 106 (0.007339)\n",
      "77. feature 11 (0.007282)\n",
      "78. feature 77 (0.007278)\n",
      "79. feature 84 (0.007278)\n",
      "80. feature 93 (0.007265)\n",
      "81. feature 119 (0.007257)\n",
      "82. feature 80 (0.007241)\n",
      "83. feature 96 (0.007239)\n",
      "84. feature 14 (0.007198)\n",
      "85. feature 110 (0.007188)\n",
      "86. feature 109 (0.007178)\n",
      "87. feature 98 (0.007174)\n",
      "88. feature 112 (0.007174)\n",
      "89. feature 97 (0.007164)\n",
      "90. feature 60 (0.007130)\n",
      "91. feature 75 (0.007124)\n",
      "92. feature 66 (0.007119)\n",
      "93. feature 94 (0.007115)\n",
      "94. feature 79 (0.007103)\n",
      "95. feature 65 (0.007101)\n",
      "96. feature 101 (0.007094)\n",
      "97. feature 95 (0.007087)\n",
      "98. feature 107 (0.007082)\n",
      "99. feature 87 (0.007081)\n",
      "100. feature 111 (0.007077)\n",
      "101. feature 91 (0.007074)\n",
      "102. feature 116 (0.007070)\n",
      "103. feature 82 (0.007066)\n",
      "104. feature 39 (0.007057)\n",
      "105. feature 92 (0.007051)\n",
      "106. feature 115 (0.007044)\n",
      "107. feature 113 (0.007035)\n",
      "108. feature 89 (0.007026)\n",
      "109. feature 83 (0.007020)\n",
      "110. feature 85 (0.007011)\n",
      "111. feature 86 (0.007008)\n",
      "112. feature 88 (0.006999)\n",
      "113. feature 69 (0.006989)\n",
      "114. feature 78 (0.006979)\n",
      "115. feature 81 (0.006967)\n",
      "116. feature 63 (0.006953)\n",
      "117. feature 74 (0.006934)\n",
      "118. feature 72 (0.006915)\n",
      "119. feature 90 (0.006911)\n",
      "120. feature 103 (0.006885)\n"
     ]
    },
    {
     "data": {
      "image/png": "[encoded data removed]",
      "text/plain": [
       "<Figure size 864x720 with 1 Axes>"
      ]
     },
     "metadata": {},
     "output_type": "display_data"
    }
   ],
   "source": [
    "importances = RF_model.feature_importances_\n",
    "RF_feature_importance(RF_model, X_test_term_svd, importances)"
   ]
  },
  {
   "cell_type": "code",
   "execution_count": 34,
   "metadata": {},
   "outputs": [],
   "source": [
    "pickle.dump(RF_model, open('pkl_rf_120c_1000_trees.p','wb'))"
   ]
  },
  {
   "cell_type": "code",
   "execution_count": 33,
   "metadata": {},
   "outputs": [
    {
     "name": "stdout",
     "output_type": "stream",
     "text": [
      "['know' 'flavor' 'since' 'friendly' 'first' 'dishes' 'dish' 'say'\n",
      " 'burrito' 'get' 'times' 'could' 'made' 'table' 'area' 'got' 'think'\n",
      " 'definitely' 'husband' 'sweet' 'last' 'fresh' 'two' 'waitress' 'small'\n",
      " 'drinks' 'family' 'still' 'visit' 'back' 'day' 'thai' 'favorite' 'eat'\n",
      " 'cheese' 'love' 'every' 'sushi' 'never' 'super' 'cream' 'menu' 'went'\n",
      " 'make' 'many' 'drink' 'tasty' 'breakfast' 'special' 'pretty']\n"
     ]
    }
   ],
   "source": [
    "RF_top_words(RF_model)"
   ]
  },
  {
   "cell_type": "code",
   "execution_count": null,
   "metadata": {},
   "outputs": [],
   "source": []
  }
 ],
 "metadata": {
  "kernelspec": {
   "display_name": "Python 3",
   "language": "python",
   "name": "python3"
  },
  "language_info": {
   "codemirror_mode": {
    "name": "ipython",
    "version": 3
   },
   "file_extension": ".py",
   "mimetype": "text/x-python",
   "name": "python",
   "nbconvert_exporter": "python",
   "pygments_lexer": "ipython3",
   "version": "3.6.4"
  }
 },
 "nbformat": 4,
 "nbformat_minor": 2
}
